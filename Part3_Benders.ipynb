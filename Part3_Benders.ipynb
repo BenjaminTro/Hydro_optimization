{
 "cells": [
  {
   "cell_type": "code",
   "execution_count": 108,
   "metadata": {},
   "outputs": [],
   "source": [
    "import pyomo.environ as pyo\n",
    "import numpy as np\n",
    "from pyomo.environ import ConcreteModel,Set,RangeSet,Param,Suffix,Reals,NonNegativeReals,NonPositiveReals,Binary,Objective,minimize,maximize,value\n",
    "from pyomo.core import Constraint,Var,Block,ConstraintList\n",
    "from pyomo.opt import SolverFactory, SolverStatus, TerminationCondition\n",
    "import matplotlib.pyplot as plt\n",
    "from calculations.datahandling import*\n",
    "from calculations.data_processor import* \n",
    "\n"
   ]
  },
  {
   "cell_type": "markdown",
   "metadata": {},
   "source": [
    "## Initialization"
   ]
  },
  {
   "cell_type": "code",
   "execution_count": 109,
   "metadata": {},
   "outputs": [],
   "source": [
    "#--Data handling--\n",
    "#Read of parameters for portfolio\n",
    "def InputData(data_file):\n",
    "    inputdata = pd.read_excel(data_file)\n",
    "    inputdata = inputdata.set_index('Parameter', drop=True)\n",
    "    inputdata = inputdata.transpose()\n",
    "    data = {}\n",
    "    data['hydro'] = inputdata[['Ci', 'yi', 'P_min', 'P_max']].drop('Solar')\n",
    "    data['solar']=inputdata[['Ci', 'yi', 'P_min', 'P_max']].drop('Hydro1').drop('Hydro2')\n",
    "    return data\n",
    "\n",
    "data = InputData('data/Parameters.xlsx')\n",
    "\n",
    "\n",
    "#Solar production based on forecast \n",
    "def read_solar_data(irrad_file, spec_file, start_date, end_date):\n",
    "    input_data_PV = read_excel_data(spec_file)\n",
    "    input_data_Irr = read_irr_data(irrad_file)\n",
    "    PV_power = pv_power_estimated(input_data_PV,input_data_Irr)\n",
    "    Solar_1=convert_to_dict(PV_power, start_date, end_date, 'H')\n",
    "    Solar_p=scale_dict(Solar_1, 1)\n",
    "    return Solar_p\n",
    "\n",
    "#Start and end dates of the optimization\n",
    "start_date='2018-05-28 13:00'\n",
    "end_date='2018-05-28 13:00'     #Two time steps only\n",
    "\n",
    "#Original forecast for solar power production\n",
    "Solar_p=read_solar_data('data/Data_solar_irr_NOR.csv', 'data/PV_spec.xlsx', start_date, end_date)\n",
    "\n",
    "#Since we are not looking at periods we give a single value to Solar_p: can create scenarios when algorithm works\n",
    "#Solar_p = 15\n",
    "#Market = 60\n",
    "\n",
    "#--Constants--\n",
    "Constants= {\n",
    "    'Load_penalty':200, \n",
    "    'Hydro_cap':80, \n",
    "    'Load':150,\n",
    "    'Market':60,\n",
    "}\n",
    "\n",
    "# ----------------------Mathematical formulation ------------------------- #\n",
    "# ----- First stage obejctive and constraints ------------------ #\n",
    "def Obj_1st(model):\n",
    "    return model.probs*(sum(model.yi[i] * model.p[i] for i in model.plants) - sum(model.Mi[i]*model.p[i] for i in model.plants) + model.alpha) #minimize(power produced - power sold to market)\n",
    "    \n",
    "    #return sum(model.yi[i] * model.p[i] for i in model.plants) + sum(model.ki[s] * model.phi[s] for s in model.solar) + sum(model.Li[n] * model.L_p[n] for n in model.penalty) + model.alpha\n",
    "\n",
    "def p_bounds(model,i):\n",
    "    return (model.Pmin[i], model.Pmax[i])   \n",
    "\n",
    "\n",
    "def Hydro_capacity(model, i):\n",
    "    return model.p[i] <= model.H_stage1[i]\n",
    "\n",
    "def CreateCuts(model,c):\n",
    "    return(model.alpha >= model.Phi[c] - sum(model.Lambda[c,i]*(model.p[i]-model.x_hat[c,i]) for i in model.plants))  #only takes into account the hydro power production scheduling from H_cap\n",
    "\n",
    "# ----- Second stage ojbective and constraints --------------#\n",
    "def Obj_2nd(model):\n",
    "    return model.probs*(sum((model.yi[i]*model.p[i] + model.Li * model.L_p) for i in model.plants))\n",
    "\n",
    "def Solar_rule(model):\n",
    "    return model.phi == Solar_p\n",
    "\n",
    "def Hydro_capacity2(model, i):      #ensures that model.p does not use more capacity than what it has available\n",
    "    return model.p[i] <= model.H_stage2[i]\n",
    "\n",
    "def load_rule(model):\n",
    "    return model.p['Hydro1'] + model.p['Hydro2'] + model.phi + model.L_p == model.L \n",
    "  \n",
    "def calculate_initial_H_stage2(Constants, X_hat):\n",
    "    initial_H_stage2 = {}\n",
    "    for plant in X_hat:\n",
    "        remaining_capacity = Constants['Hydro_cap'] - (X_hat[plant])\n",
    "        initial_H_stage2[plant] = remaining_capacity\n",
    "    return initial_H_stage2\n",
    "\n",
    "# ------------------------- MODEL SETUP -------------------------- #\n",
    "\n",
    "# Set up model 1st stage\n",
    "def ModelSetUp_1st(data, Constants,Cuts,Scenario):\n",
    "    model = ConcreteModel()\n",
    "\n",
    "    # Define sets and parameters specific to the first stage\n",
    "    model.plants   =  Set(initialize=data['hydro'].index)  # Set of plant types (e.g., 'Hydro1', 'Hydro2')\n",
    "\n",
    "    #Parameters\n",
    "    model.Ci       =  pyo.Param(model.plants, initialize=data['hydro']['Ci'])\n",
    "    model.yi       =  pyo.Param(model.plants, initialize=data['hydro']['yi'])\n",
    "    model.Pmin     =  pyo.Param(model.plants, initialize=data['hydro']['P_min'])\n",
    "    model.Pmax     =  pyo.Param(model.plants, initialize=data['hydro']['P_max'])\n",
    "    model.H_stage1 =  pyo.Param(model.plants, initialize=Constants['Hydro_cap'])     #Initial capacity\n",
    "    model.Mi       =  pyo.Param(model.plants, initialize=Constants['Market'])        #market sell price\n",
    "    model.L        =  pyo.Param(initialize=Constants['Load'])\n",
    "    model.probs    =  pyo.Param(initialize=Scenario)                                 #probability of scenario\n",
    "\n",
    "    # Variables\n",
    "    model.p        =  pyo.Var(model.plants, bounds=p_bounds)  # Production from hydro plants\n",
    "\n",
    "    # Constraints\n",
    "    model.hydro_cons   =  pyo.Constraint(model.plants, rule=Hydro_capacity)\n",
    "\n",
    "    # Cuts information\n",
    "    model.Cut      =  pyo.Set(initialize = Cuts[\"Set\"])\n",
    "    model.Phi      =  pyo.Param(model.Cut, initialize = Cuts[\"Phi\"])\n",
    "    model.Lambda   =  pyo.Param(model.Cut, model.plants, initialize = Cuts[\"lambda\"])\n",
    "    model.x_hat    =  pyo.Param(model.Cut, model.plants, initialize = Cuts[\"x_hat\"])\n",
    "    \n",
    "    model.alpha    =  pyo.Var(bounds = (-100000000,100000000))\n",
    "    \n",
    "    model.CreateCuts   =  pyo.Constraint(model.Cut, rule = CreateCuts)\n",
    "\n",
    "    # Define objective function\n",
    "    model.obj      =  pyo.Objective(rule=Obj_1st, sense=pyo.minimize)\n",
    "    \n",
    "    return model\n",
    "\n",
    "\n",
    "\n",
    "def ModelSetUp_2nd(data, Constants, X_hat, rem_cap, Scenario):\n",
    "    # Instance\n",
    "    model          =  pyo.ConcreteModel()\n",
    "\n",
    "    # Define sets\n",
    "    model.plants   =  Set(initialize=data['hydro'].index)  # Set of plant types (e.g., 'Hydro1', 'Hydro2')\n",
    "\n",
    "    # Define parameters\n",
    "    model.X_hat    =  pyo.Param(model.plants, initialize=X_hat)\n",
    "    model.Li       =  pyo.Param(initialize=Constants['Load_penalty']) \n",
    "    model.yi       =  pyo.Param(model.plants, initialize=data['hydro']['yi'])\n",
    "    model.Pmin     =  pyo.Param(model.plants, initialize=data['hydro']['P_min'])\n",
    "    model.Pmax     =  pyo.Param(model.plants, initialize=data['hydro']['P_max'])\n",
    "    model.H_stage2 =  pyo.Param(model.plants, initialize=rem_cap)\n",
    "    model.L        =  pyo.Param(initialize=Constants['Load'])\n",
    "    model.probs    =  pyo.Param(initialize=Scenario)\n",
    "\n",
    "    # Define variables\n",
    "    model.p        =  pyo.Var(model.plants, bounds=p_bounds)\n",
    "    model.phi      =  pyo.Var(within=NonNegativeReals)\n",
    "    model.L_p      =  pyo.Var(within=NonNegativeReals)\n",
    "\n",
    "    # Constraints\n",
    "    model.load_cons    =  pyo.Constraint(rule=load_rule)\n",
    "    model.solar_cons   =  pyo.Constraint(rule=Solar_rule)\n",
    "    model.hydro_cons   =  pyo.Constraint(model.plants, rule=Hydro_capacity2)                                           #constraining power production from hydrom from the remaining capacity\n",
    "\n",
    "    # Define objective function\n",
    "    model.obj     =  pyo.Objective(rule=Obj_2nd, sense=pyo.minimize)\n",
    "    \n",
    "    return model\n",
    "\n",
    "\n",
    "def Solve(model):\n",
    "    opt = SolverFactory(\"gurobi\")\n",
    "    model.dual = pyo.Suffix(direction=pyo.Suffix.IMPORT)\n",
    "    results = opt.solve(model, load_solutions=True)\n",
    "    return results, model\n",
    "def DisplayResults(model):\n",
    "    return print(model.display(), model.dual.display())\n",
    "\n",
    "\n",
    "# ----------------------- CUTTING ------------------------ #\n",
    "\n",
    "# Function for creating new linear cuts for optimization problem\n",
    "def Cut_manage(Cuts,model):\n",
    "    \"\"\"Add new cut to existing dictionary of cut information\"\"\"\n",
    "    \n",
    "    #Find cut iteration by checking number of existing cuts\n",
    "    cut = len(Cuts[\"Set\"])\n",
    "    #Add new cut to list, since 0-index is a thing this works well\n",
    "    Cuts[\"Set\"].append(cut)\n",
    "    \n",
    "    #Find 2nd stage cost result\n",
    "    Cuts[\"Phi\"][cut] = pyo.value(model.obj)\n",
    "    #Find lambda x_hat for each type of power produced\n",
    "    for i in model.plants:\n",
    "        Cuts[\"lambda\"][cut, i] = model.dual.get(model.hydro_cons[i])  # the lambda should be the economic change when we increase the 1st decision by 1. Should be something else\n",
    "        Cuts[\"x_hat\"][cut,i] = model.X_hat[i]\n",
    "    return(Cuts)\n",
    "\n",
    "Cuts = {}\n",
    "Cuts[\"Set\"] = []\n",
    "Cuts[\"Phi\"] = {}\n",
    "Cuts[\"lambda\"] = {}\n",
    "Cuts[\"x_hat\"] = {}\n",
    "\n",
    "scenarios =  {'High':1/3,'Avg':1/3,'Low':1/3}\n",
    "solar_val_scenario = {'High':30,'Avg':15,'Low':0}"
   ]
  },
  {
   "cell_type": "markdown",
   "metadata": {},
   "source": [
    "## Bender's decomposition"
   ]
  },
  {
   "cell_type": "code",
   "execution_count": 110,
   "metadata": {},
   "outputs": [
    {
     "name": "stdout",
     "output_type": "stream",
     "text": [
      "\n",
      "---------------------------------------------------------------------\n",
      "Solving for scenario: High\n",
      "---------------------------------------------------------------------\n",
      "The amount of solar power for scenario High is: 30 MW\n",
      "\n",
      "Solving for iteration: 1\n",
      "\n"
     ]
    },
    {
     "data": {
      "text/plain": [
       "\"How much capacity was used by each plant in stage 1 after solving iteration: 1  {'Hydro1': 60.0, 'Hydro2': 80.0}\""
      ]
     },
     "metadata": {},
     "output_type": "display_data"
    },
    {
     "data": {
      "text/plain": [
       "\"How much capacity is left for each plant in stage 2 after solving iteration: 1  {'Hydro1': 20.0, 'Hydro2': 0.0}\""
      ]
     },
     "metadata": {},
     "output_type": "display_data"
    },
    {
     "name": "stdout",
     "output_type": "stream",
     "text": [
      "The alpha values are: -100000000.0\n",
      "Objective function - Second stage: 13500.0\n",
      "TOLERANCE 100013500.0\n",
      "UB: 13500.0 - LB: -100000000.0\n",
      "The first stage objective value is: -33334700.0\n",
      "\n",
      "Solving for iteration: 2\n",
      "\n"
     ]
    },
    {
     "data": {
      "text/plain": [
       "\"How much capacity was used by each plant in stage 1 after solving iteration: 2  {'Hydro1': 0.0, 'Hydro2': 0.0}\""
      ]
     },
     "metadata": {},
     "output_type": "display_data"
    },
    {
     "data": {
      "text/plain": [
       "\"How much capacity is left for each plant in stage 2 after solving iteration: 2  {'Hydro1': 80.0, 'Hydro2': 80.0}\""
      ]
     },
     "metadata": {},
     "output_type": "display_data"
    },
    {
     "name": "stdout",
     "output_type": "stream",
     "text": [
      "The alpha values are: -3733.3333333283663\n",
      "Objective function - Second stage: 1200.0\n",
      "TOLERANCE 4933.333333328366\n",
      "UB: 1200.0 - LB: -3733.3333333283663\n",
      "The first stage objective value is: -1244.4444444427886\n",
      "\n",
      "Solving for iteration: 3\n",
      "\n"
     ]
    },
    {
     "data": {
      "text/plain": [
       "\"How much capacity was used by each plant in stage 1 after solving iteration: 3  {'Hydro1': 39.46666666666666, 'Hydro2': 0.0}\""
      ]
     },
     "metadata": {},
     "output_type": "display_data"
    },
    {
     "data": {
      "text/plain": [
       "\"How much capacity is left for each plant in stage 2 after solving iteration: 3  {'Hydro1': 40.53333333333334, 'Hydro2': 80.0}\""
      ]
     },
     "metadata": {},
     "output_type": "display_data"
    },
    {
     "name": "stdout",
     "output_type": "stream",
     "text": [
      "The alpha values are: 1200.0\n",
      "Objective function - Second stage: 1264.888888888889\n",
      "TOLERANCE 64.88888888888891\n",
      "UB: 1264.888888888889 - LB: 1200.0\n",
      "The first stage objective value is: -60.44444444444434\n",
      "\n",
      "Solving for iteration: 4\n",
      "\n"
     ]
    },
    {
     "data": {
      "text/plain": [
       "\"How much capacity was used by each plant in stage 1 after solving iteration: 4  {'Hydro1': 39.99999999999999, 'Hydro2': 0.0}\""
      ]
     },
     "metadata": {},
     "output_type": "display_data"
    },
    {
     "data": {
      "text/plain": [
       "\"How much capacity is left for each plant in stage 2 after solving iteration: 4  {'Hydro1': 40.00000000000001, 'Hydro2': 80.0}\""
      ]
     },
     "metadata": {},
     "output_type": "display_data"
    },
    {
     "name": "stdout",
     "output_type": "stream",
     "text": [
      "The alpha values are: 1266.6666666716337\n",
      "Objective function - Second stage: 1266.6666666666665\n",
      "TOLERANCE 4.9672053137328476e-09\n",
      "UB: 1266.6666666666665 - LB: 1266.6666666716337\n",
      "The first stage objective value is: -44.44444444278868\n",
      "\n",
      "---------------------------------> For scenario: High the cost is: -44.44444444278868 <---------------------------------\n",
      "\n",
      "The total cost is: -44.44444444278868\n",
      "\n",
      "---------------------------------------------------------------------\n",
      "Solving for scenario: Avg\n",
      "---------------------------------------------------------------------\n",
      "The amount of solar power for scenario Avg is: 15 MW\n",
      "\n",
      "Solving for iteration: 1\n",
      "\n"
     ]
    },
    {
     "data": {
      "text/plain": [
       "\"How much capacity was used by each plant in stage 1 after solving iteration: 1  {'Hydro1': 39.99999999999999, 'Hydro2': 0.0}\""
      ]
     },
     "metadata": {},
     "output_type": "display_data"
    },
    {
     "data": {
      "text/plain": [
       "\"How much capacity is left for each plant in stage 2 after solving iteration: 1  {'Hydro1': 40.00000000000001, 'Hydro2': 80.0}\""
      ]
     },
     "metadata": {},
     "output_type": "display_data"
    },
    {
     "name": "stdout",
     "output_type": "stream",
     "text": [
      "The alpha values are: 1266.6666666716337\n",
      "Objective function - Second stage: 3266.666666666666\n",
      "TOLERANCE 1999.9999999950323\n",
      "UB: 3266.666666666666 - LB: 1266.6666666716337\n",
      "The first stage objective value is: -44.44444444278868\n",
      "\n",
      "Solving for iteration: 2\n",
      "\n"
     ]
    },
    {
     "data": {
      "text/plain": [
       "\"How much capacity was used by each plant in stage 1 after solving iteration: 2  {'Hydro1': 23.56164383561643, 'Hydro2': 0.0}\""
      ]
     },
     "metadata": {},
     "output_type": "display_data"
    },
    {
     "data": {
      "text/plain": [
       "\"How much capacity is left for each plant in stage 2 after solving iteration: 2  {'Hydro1': 56.43835616438357, 'Hydro2': 80.0}\""
      ]
     },
     "metadata": {},
     "output_type": "display_data"
    },
    {
     "name": "stdout",
     "output_type": "stream",
     "text": [
      "The alpha values are: 1211.872146114707\n",
      "Objective function - Second stage: 1386.8721461187215\n",
      "TOLERANCE 175.0000000040145\n",
      "UB: 1386.8721461187215 - LB: 1211.872146114707\n",
      "The first stage objective value is: 129.07153728937732\n",
      "\n",
      "Solving for iteration: 3\n",
      "\n"
     ]
    },
    {
     "data": {
      "text/plain": [
       "\"How much capacity was used by each plant in stage 1 after solving iteration: 3  {'Hydro1': 24.999999999999993, 'Hydro2': 0.0}\""
      ]
     },
     "metadata": {},
     "output_type": "display_data"
    },
    {
     "data": {
      "text/plain": [
       "\"How much capacity is left for each plant in stage 2 after solving iteration: 3  {'Hydro1': 55.00000000000001, 'Hydro2': 80.0}\""
      ]
     },
     "metadata": {},
     "output_type": "display_data"
    },
    {
     "name": "stdout",
     "output_type": "stream",
     "text": [
      "The alpha values are: 1391.6666666716337\n",
      "Objective function - Second stage: 1391.6666666666665\n",
      "TOLERANCE 4.9672053137328476e-09\n",
      "UB: 1391.6666666666665 - LB: 1391.6666666716337\n",
      "The first stage objective value is: 172.22222222387796\n",
      "\n",
      "---------------------------------> For scenario: Avg the cost is: 172.22222222387796 <---------------------------------\n",
      "\n",
      "The total cost is: 127.77777778108928\n",
      "\n",
      "---------------------------------------------------------------------\n",
      "Solving for scenario: Low\n",
      "---------------------------------------------------------------------\n",
      "The amount of solar power for scenario Low is: 0 MW\n",
      "\n",
      "Solving for iteration: 1\n",
      "\n"
     ]
    },
    {
     "data": {
      "text/plain": [
       "\"How much capacity was used by each plant in stage 1 after solving iteration: 1  {'Hydro1': 24.999999999999993, 'Hydro2': 0.0}\""
      ]
     },
     "metadata": {},
     "output_type": "display_data"
    },
    {
     "data": {
      "text/plain": [
       "\"How much capacity is left for each plant in stage 2 after solving iteration: 1  {'Hydro1': 55.00000000000001, 'Hydro2': 80.0}\""
      ]
     },
     "metadata": {},
     "output_type": "display_data"
    },
    {
     "name": "stdout",
     "output_type": "stream",
     "text": [
      "The alpha values are: 1391.6666666716337\n",
      "Objective function - Second stage: 3391.666666666666\n",
      "TOLERANCE 1999.9999999950323\n",
      "UB: 3391.666666666666 - LB: 1391.6666666716337\n",
      "The first stage objective value is: 172.22222222387796\n",
      "\n",
      "Solving for iteration: 2\n",
      "\n"
     ]
    },
    {
     "data": {
      "text/plain": [
       "\"How much capacity was used by each plant in stage 1 after solving iteration: 2  {'Hydro1': 8.561643835616435, 'Hydro2': 0.0}\""
      ]
     },
     "metadata": {},
     "output_type": "display_data"
    },
    {
     "data": {
      "text/plain": [
       "\"How much capacity is left for each plant in stage 2 after solving iteration: 2  {'Hydro1': 71.43835616438356, 'Hydro2': 80.0}\""
      ]
     },
     "metadata": {},
     "output_type": "display_data"
    },
    {
     "name": "stdout",
     "output_type": "stream",
     "text": [
      "The alpha values are: 1336.872146114707\n",
      "Objective function - Second stage: 2766.6666666666665\n",
      "TOLERANCE 1429.7945205519595\n",
      "UB: 2766.6666666666665 - LB: 1336.872146114707\n",
      "The first stage objective value is: 345.7382039560439\n",
      "\n",
      "Solving for iteration: 3\n",
      "\n"
     ]
    },
    {
     "data": {
      "text/plain": [
       "\"How much capacity was used by each plant in stage 1 after solving iteration: 3  {'Hydro1': 19.999999999999996, 'Hydro2': 0.0}\""
      ]
     },
     "metadata": {},
     "output_type": "display_data"
    },
    {
     "data": {
      "text/plain": [
       "\"How much capacity is left for each plant in stage 2 after solving iteration: 3  {'Hydro1': 60.0, 'Hydro2': 80.0}\""
      ]
     },
     "metadata": {},
     "output_type": "display_data"
    },
    {
     "name": "stdout",
     "output_type": "stream",
     "text": [
      "The alpha values are: 2766.6666666716337\n",
      "Objective function - Second stage: 2766.6666666666665\n",
      "TOLERANCE 4.9672053137328476e-09\n",
      "UB: 2766.6666666666665 - LB: 2766.6666666716337\n",
      "The first stage objective value is: 688.8888888905445\n",
      "\n",
      "---------------------------------> For scenario: Low the cost is: 688.8888888905445 <---------------------------------\n",
      "\n",
      "The total cost is: 816.6666666716338\n",
      ">>>>-------------------------------------<<<<\n",
      "The objective value is: 816.67\n",
      ">>>>-------------------------------------<<<<\n"
     ]
    }
   ],
   "source": [
    "tot_1st = 0\n",
    "tot_2nd = 0\n",
    "\n",
    "hydro1_st1 = []\n",
    "hydro2_st1 = []\n",
    "hydro1_st2 = []\n",
    "hydro2_st2 = []\n",
    "result_phi = []\n",
    "result_L_p = []\n",
    "\n",
    "\n",
    "#initial_alpha = m_1st.alpha.value \n",
    "#print(initial_alpha)\n",
    "\n",
    "for s in scenarios:\n",
    "    print()\n",
    "    print('---------------------------------------------------------------------')\n",
    "    print(\"Solving for scenario:\",s)\n",
    "    print('---------------------------------------------------------------------')\n",
    "    Solar_p = solar_val_scenario[s]          #input of solar data to be used in the optimization\n",
    "    print(\"The amount of solar power for scenario\",s,\"is:\",Solar_p,\"MW\")\n",
    "    tol = 1\n",
    "    i = 0\n",
    "\n",
    "    while abs(tol) > 0.1:\n",
    "        i += 1\n",
    "        print()\n",
    "        print('Solving for iteration:',i)\n",
    "        print()\n",
    "        #Solve 1st stage problem\n",
    "        m_1st = ModelSetUp_1st(data, Constants,Cuts,Scenario=scenarios[s])\n",
    "        Solve(m_1st)\n",
    "\n",
    "        # Process 1st stage result\n",
    "        X_hat = {\n",
    "                \"Hydro1\": m_1st.p[\"Hydro1\"].value,\n",
    "                \"Hydro2\": m_1st.p[\"Hydro2\"].value,\n",
    "            }\n",
    "        \n",
    "        display(\"How much capacity was used by each plant in stage 1 after solving iteration: \"  +  str( i ) + \"  \" + str(X_hat))\n",
    "\n",
    "        #Updating remaining capacity between stages\n",
    "        initial_H_stage2 = calculate_initial_H_stage2(Constants, X_hat,)         #calculate changing capacity between stages\n",
    "        display(\"How much capacity is left for each plant in stage 2 after solving iteration: \"  +  str( i ) + \"  \" + str(initial_H_stage2))\n",
    "\n",
    "        # Setup and solve 2nd stage problem with updated H_stage1\n",
    "        m_2nd = ModelSetUp_2nd(data, Constants, X_hat, initial_H_stage2, Scenario=scenarios[s])      #must take into account the capacity used in stage 1 as a linking variable\n",
    "        Solve(m_2nd)\n",
    "\n",
    "        #Create new cuts for 1st stage problem\n",
    "        Cuts = Cut_manage(Cuts,m_2nd)\n",
    "        print(\"The alpha values are:\",m_1st.alpha.value)\n",
    "\n",
    "        #Print results 2nd stage\n",
    "        print(\"Objective function - Second stage:\",pyo.value(m_2nd.obj()))\n",
    "\n",
    "        tol = (pyo.value(m_1st.alpha.value)-pyo.value(m_2nd.obj()))\n",
    "        print(\"TOLERANCE\",abs(tol))\n",
    "\n",
    "        #Convergence check\n",
    "        print(\"UB:\",pyo.value(m_2nd.obj()),\"- LB:\",pyo.value(m_1st.alpha.value))\n",
    "        #input()\n",
    "\n",
    "        print(\"The first stage objective value is:\",m_1st.obj())\n",
    "        #DisplayResults(m_1st)\n",
    "        #DisplayResults(m_2nd)\n",
    "\n",
    "    print(\"\")\n",
    "    print('--------------------------------->','For scenario:',s,'the cost is:',m_1st.obj(),'<---------------------------------')\n",
    "    print(\"\")\n",
    "\n",
    "    tot_1st += m_1st.obj()      #Total costs with respect to the alpha value dervied from the second stage\n",
    "    print(\"The total cost is:\",tot_1st)\n",
    "\n",
    "    hydro1_st1.append(m_1st.p['Hydro1'].value)\n",
    "    hydro2_st1.append(m_1st.p['Hydro2'].value)\n",
    "\n",
    "    hydro1_st2.append(m_2nd.p['Hydro1'].value)\n",
    "    hydro2_st2.append(m_2nd.p['Hydro2'].value)\n",
    "    result_phi.append(m_2nd.phi.value)\n",
    "    result_L_p.append(m_2nd.L_p.value)\n",
    "\n",
    "\n",
    "print(\">>>>-------------------------------------<<<<\")\n",
    "print(\"The objective value is:\",np.round(tot_1st,2))\n",
    "print(\">>>>-------------------------------------<<<<\")"
   ]
  },
  {
   "cell_type": "code",
   "execution_count": 111,
   "metadata": {},
   "outputs": [
    {
     "data": {
      "image/png": "[encoded data removed]",
      "text/plain": [
       "<Figure size 720x432 with 1 Axes>"
      ]
     },
     "metadata": {
      "needs_background": "light"
     },
     "output_type": "display_data"
    }
   ],
   "source": [
    "\n",
    "import numpy as np\n",
    "import matplotlib.pyplot as plt\n",
    "\n",
    "hydro1_st1 = np.array(hydro1_st1)\n",
    "hydro1_st2 = np.array(hydro1_st2)\n",
    "hydro2_st2 = np.array(hydro2_st2)\n",
    "result_L_p = np.array(result_L_p)\n",
    "result_phi = np.array(result_phi)\n",
    "\n",
    "plt.figure(figsize=(10, 6))\n",
    "bar_width = 0.35\n",
    "bar_positions_1st = np.arange(len(scenarios)) \n",
    "bar_positions_2nd = bar_positions_1st + bar_width \n",
    "\n",
    "plt.bar(bar_positions_1st, hydro1_st1, width=bar_width, label=f'Hydro1', color='C0', edgecolor ='black')\n",
    "plt.bar(bar_positions_2nd, hydro1_st2, width=bar_width, color=\"C0\", edgecolor ='black')\n",
    "plt.bar(bar_positions_2nd, hydro2_st2, width=bar_width, bottom=hydro1_st2, label=f'Hydro2', color='C1', edgecolor='black')\n",
    "plt.bar(bar_positions_2nd, result_L_p, width=bar_width, bottom=hydro1_st2 + hydro2_st2, label=f'Load Penalty', color=\"C3\", edgecolor='black')\n",
    "plt.bar(bar_positions_2nd, result_phi, width=bar_width, bottom=hydro1_st2 + hydro2_st2 + result_L_p, label=f'Solar', color='C2', edgecolor='black')\n",
    "plt.axhline(y=150, color='red', linestyle='--', label='Load demand')\n",
    "plt.xlabel('Scenarios')\n",
    "plt.ylabel('Power Production (MW)')\n",
    "plt.ylim(0, 250)\n",
    "plt.title('Comparison of stage 1 and stage 2 during the different scenarios')\n",
    "plt.xticks(bar_positions_1st + bar_width / 2, scenarios)\n",
    "plt.legend(loc=\"upper right\")\n",
    "plt.show()\n",
    "\n"
   ]
  },
  {
   "cell_type": "code",
   "execution_count": null,
   "metadata": {},
   "outputs": [],
   "source": []
  },
  {
   "cell_type": "markdown",
   "metadata": {},
   "source": [
    "## Testing code"
   ]
  },
  {
   "cell_type": "markdown",
   "metadata": {},
   "source": [
    "#REMOVING THE TIME FUNCTION COMPLETELY FROM THE BENDER'S DECOMPOSITION:\n",
    "\n",
    "\n",
    "#--Data handling--\n",
    "#Read of parameters for portfolio\n",
    "def InputData(data_file):\n",
    "    inputdata = pd.read_excel(data_file)\n",
    "    inputdata = inputdata.set_index('Parameter', drop=True)\n",
    "    inputdata = inputdata.transpose()\n",
    "    data = {}\n",
    "    data['hydro'] = inputdata[['Ci', 'yi', 'P_min', 'P_max']].drop('Solar')\n",
    "    data['solar']=inputdata[['Ci', 'yi', 'P_min', 'P_max']].drop('Hydro1').drop('Hydro2')\n",
    "    return data\n",
    "\n",
    "data = InputData('data/Parameters.xlsx')\n",
    "\n",
    "\n",
    "#Solar production based on forecast \n",
    "def read_solar_data(irrad_file, spec_file, start_date, end_date):\n",
    "    input_data_PV = read_excel_data(spec_file)\n",
    "    input_data_Irr = read_irr_data(irrad_file)\n",
    "    PV_power = pv_power_estimated(input_data_PV,input_data_Irr)\n",
    "    Solar_1=convert_to_dict(PV_power, start_date, end_date, 'H')\n",
    "    Solar_p=scale_dict(Solar_1, 1)\n",
    "    return Solar_p\n",
    "\n",
    "#Start and end dates of the optimization\n",
    "start_date='2018-05-28 13:00'\n",
    "end_date='2018-05-28 13:00'     #Two time steps only\n",
    "\n",
    "#Original forecast for solar power production\n",
    "Solar_p=read_solar_data('data/Data_solar_irr_NOR.csv', 'data/PV_spec.xlsx', start_date, end_date)\n",
    "\n",
    "#Since we are not looking at periods we give a single value to Solar_p: can create scenarios when algorithm works\n",
    "Solar_p = 10\n",
    "\n",
    "#Unique scenarios for stochastic variable\n",
    "S_high=Solar_p*1.5\n",
    "S_avg=Solar_p*1\n",
    "S_low=Solar_p*0.5\n",
    "\n",
    "#Load \n",
    "#L= {1:50} #3:20, 4:30, 5:50, 6:80, 7:50, 8:90, 9:110, 10:150, 11:120, 12:80, 13:70, 14:80, 15:90, 16:160, 17:170, 18:150, 19:120, 20:100, 21:70, 22:60, 23:50, 24:40} \n",
    "\n",
    "Market = 30\n",
    "\n",
    "#--Constants--\n",
    "Constants= {\n",
    "    'Load_penalty':100, \n",
    "    'Hydro_cap':50, \n",
    "    'Load':150,\n",
    "    'probs':{'S_high':1/3, 'S_avg':1/3, 'S_low':1/3},    \n",
    "}\n",
    "\n",
    "# ----------------------Mathematical formulation ------------------------- #\n",
    "# ----- First stage obejctive and constraints ------------------ #\n",
    "def Obj_1st(model):\n",
    "    return sum(model.yi[i] * model.p[i] for i in model.plants) - sum(model.m[i]*model.p[i] for i in model.plants) #minimize(power produced - power sold to market)\n",
    "    \n",
    "def p_bounds(model,i):\n",
    "    return (model.Pmin[i], model.Pmax[i])   \n",
    "\n",
    "\n",
    "def Hydro_capacity(model, i):\n",
    "    return model.p[i] <= model.H_stage1[i]\n",
    "\n",
    "def CreateCuts(model,c):\n",
    "    return(model.alpha >= model.Phi[c] + sum(model.Lambda[c,i]*(model.p[i]-model.x_hat[c,i]) for i in model.plants))\n",
    "\n",
    "\n",
    "# ----- Second stage ojbective and constraints --------------# -- IMPLEMENT scenarios to have Stochasticity in the second stage decision.\n",
    "def Obj_2nd(model):\n",
    "    return sum(model.probs[l] * (model.yi[i]*model.p[i] + model.phi[l] + model.Li[n] * model.L_p[n]) for i in model.plants for l in model.scenarios for n in model.penalty)\n",
    "\n",
    "#model.ki[s] *\n",
    "\n",
    "#def Solar_rule(model,l):\n",
    "#    return model.phi['Solar',l] == Solar_p\n",
    "\n",
    "def Solar_high(model):\n",
    "    if model.probs['S_high']>0:\n",
    "        return model.phi['S_high']==S_high\n",
    "    else:\n",
    "        return model.phi['S_high']==0\n",
    "    \n",
    "#Solar production in stage 2 must be equal to scenario for average production\n",
    "def Solar_avg(model):\n",
    "    if model.probs['S_avg']>0:\n",
    "        return  model.phi['S_avg'] == S_avg\n",
    "    else:\n",
    "        return  model.phi['S_avg'] == 0\n",
    "    \n",
    "#Solar production in stage 2 must be equal to scenario for low production\n",
    "def Solar_low(model):\n",
    "    if model.probs['S_low']>0:\n",
    "        return  model.phi['S_low'] == S_low\n",
    "    else:\n",
    "        return  model.phi['S_low'] == 0\n",
    "    \n",
    "\n",
    "def Hydro_capacity2(model, i):      #ensures that model.p does not use more capacity than what it has available\n",
    "    return model.p[i] <= model.H_stage2[i]\n",
    "\n",
    "def load_rule(model,l):\n",
    "    return model.p['Hydro1'] + model.p['Hydro2'] + model.phi['Solar',l] + model.L_p['Load_penalty'] == model.L \n",
    "\n",
    "def calculate_initial_H_stage2(Constants, X_hat):\n",
    "    initial_H_stage2 = {}\n",
    "    for plant in X_hat:\n",
    "        remaining_capacity = Constants['Hydro_cap'] - (X_hat[plant])\n",
    "        initial_H_stage2[plant] = remaining_capacity\n",
    "    return initial_H_stage2\n",
    "\n",
    "# ------------------------- MODEL SETUP -------------------------- #\n",
    "\n",
    "# Set up model 1st stage\n",
    "def ModelSetUp_1st(data, Constants,Cuts):\n",
    "    model = ConcreteModel()\n",
    "\n",
    "    # Define sets and parameters specific to the first stage\n",
    "    model.plants = Set(initialize=data['hydro'].index)  # Set of plant types (e.g., 'Hydro1', 'Hydro2')\n",
    "\n",
    "    #Parameters\n",
    "    model.Ci=pyo.Param(model.plants, initialize=data['hydro']['Ci'])\n",
    "    model.yi=pyo.Param(model.plants, initialize=data['hydro']['yi'])\n",
    "    model.Pmin=pyo.Param(model.plants, initialize=data['hydro']['P_min'])\n",
    "    model.Pmax=pyo.Param(model.plants, initialize=data['hydro']['P_max'])\n",
    "    model.H_stage1 = pyo.Param(model.plants, initialize=Constants['Hydro_cap'])     #Initial capacity\n",
    "    model.m = pyo.Param(model.plants, initialize=Market)   #market sell price\n",
    "\n",
    "    model.L = pyo.Param(initialize=Constants['Load'])\n",
    "\n",
    "\n",
    "    # Variables\n",
    "    model.p   = pyo.Var(model.plants, bounds=p_bounds)  # Production from hydro plants\n",
    "\n",
    "    # Constraints\n",
    "    model.hydro_cons=pyo.Constraint(model.plants, rule=Hydro_capacity)\n",
    "\n",
    "    \"\"\"Cuts_information\"\"\"\n",
    "    #Set for cuts\n",
    "    model.Cut = pyo.Set(initialize = Cuts[\"Set\"])\n",
    "    #Parameter for cuts\n",
    "    model.Phi = pyo.Param(model.Cut, initialize = Cuts[\"Phi\"])\n",
    "    model.Lambda = pyo.Param(model.Cut, model.plants, initialize = Cuts[\"lambda\"])\n",
    "    model.x_hat = pyo.Param(model.Cut, model.plants, initialize = Cuts[\"x_hat\"])\n",
    "    #Variable for alpha\n",
    "    model.alpha = pyo.Var(bounds = (-100000000,100000000))\n",
    "    \n",
    "    \"\"\"Constraint cut\"\"\"\n",
    "    model.CreateCuts = pyo.Constraint(model.Cut, rule = CreateCuts)\n",
    "\n",
    "\n",
    "    \"\"\"Constraints\"\"\"\n",
    "    # Define objective function\n",
    "    model.obj = pyo.Objective(rule=Obj_1st, sense=pyo.minimize)\n",
    "    \n",
    "    return model\n",
    "\n",
    "\n",
    "def ModelSetUp_2nd(data, Constants, X_hat, rem_cap):\n",
    "    # Instance\n",
    "    model = pyo.ConcreteModel()\n",
    "    # Define sets\n",
    "    model.plants = Set(initialize=data['hydro'].index)  # Set of plant types (e.g., 'Hydro1', 'Hydro2')\n",
    "    #model.solar = Set(initialize=data['solar'].index)  # Set of solar types (e.g., 'Solar') ->used for solar cost\n",
    "    model.penalty= Set(initialize=['Load_penalty']) \n",
    "    model.scenarios = Set(initialize=Constants['probs'].keys())\n",
    "\n",
    "    # Define parameters\n",
    "    model.X_hat = pyo.Param(model.plants, initialize=X_hat)\n",
    "    model.Li=pyo.Param(model.penalty, initialize=Constants['Load_penalty'])\n",
    "    model.yi=pyo.Param(model.plants, initialize=data['hydro']['yi'])\n",
    "    #model.ki=pyo.Param(model.solar, initialize=data['solar']['yi'])  #solar is free and will always be utilizied\n",
    "    model.Pmin=pyo.Param(model.plants, initialize=data['hydro']['P_min'])\n",
    "    model.Pmax=pyo.Param(model.plants, initialize=data['hydro']['P_max'])\n",
    "    #model.Phi_min=pyo.Param(model.scenarios, initialize=data['solar']['P_min'])\n",
    "    #model.Phi_max=pyo.Param(model.scenarios, initialize=data['solar']['P_max'])\n",
    "    model.H_stage2 = pyo.Param(model.plants, initialize=rem_cap)\n",
    "    model.probs=pyo.Param(model.scenarios, initialize=Constants['probs'])       #Scenarios indexed by \"l\"\n",
    "    model.L = pyo.Param(initialize=Constants['Load'])\n",
    "    \n",
    "    # Define variables\n",
    "    model.p   = pyo.Var(model.plants, bounds=p_bounds)\n",
    "    model.phi = pyo.Var(model.scenarios, within=NonNegativeReals)\n",
    "    model.L_p = pyo.Var(model.penalty, within=NonNegativeReals)\n",
    "\n",
    "    #Constraints\n",
    "    model.high_sun= pyo.Constraint(rule=Solar_high)\n",
    "    model.avg_sun= pyo.Constraint(rule=Solar_avg)\n",
    "    model.low_sun= pyo.Constraint(rule=Solar_low)\n",
    "\n",
    "    model.load_cons  = pyo.Constraint(model.scenarios, rule=load_rule)\n",
    "    model.hydro_cons = pyo.Constraint(model.plants, rule=Hydro_capacity2)  #constraining power production from hydrom from the remaining capacity\n",
    "    \n",
    "    #Stochastic constraints\n",
    "\n",
    "    # Define objective function\n",
    "    model.obj = pyo.Objective(rule=Obj_2nd, sense=pyo.minimize)\n",
    "    \n",
    "    return model\n",
    "\n",
    "\n",
    "def Solve(model):\n",
    "    opt = SolverFactory(\"gurobi\")\n",
    "    model.dual = pyo.Suffix(direction=pyo.Suffix.IMPORT)\n",
    "    results = opt.solve(model, load_solutions=True)\n",
    "    return results, model\n",
    "def DisplayResults(model):\n",
    "    return print(model.display(), model.dual.display())\n",
    "\n",
    "\n",
    "# ----------------------- CUTTING ------------------------ #\n",
    "\n",
    "# Function for creating new linear cuts for optimization problem\n",
    "def Cut_manage(Cuts,model):\n",
    "    \"\"\"Add new cut to existing dictionary of cut information\"\"\"\n",
    "    \n",
    "    #Find cut iteration by checking number of existing cuts\n",
    "    cut = len(Cuts[\"Set\"])\n",
    "    #Add new cut to list, since 0-index is a thing this works well\n",
    "    Cuts[\"Set\"].append(cut)\n",
    "    \n",
    "    #Find 2nd stage cost result\n",
    "    Cuts[\"Phi\"][cut] = pyo.value(model.obj)\n",
    "    #Find lambda x_hat for each type of power produced\n",
    "    for i in model.plants:\n",
    "        Cuts[\"lambda\"][cut, i] = model.dual.get(model.hydro_cons[i])  # the lambda should be the economic change when we increase the 1st decision by 1, => dual value of hydro prod\n",
    "        Cuts[\"x_hat\"][cut,i] = model.X_hat[i]\n",
    "    return(Cuts)\n",
    "\n",
    "Cuts = {}\n",
    "Cuts[\"Set\"] = []\n",
    "Cuts[\"Phi\"] = {}\n",
    "Cuts[\"lambda\"] = {}\n",
    "Cuts[\"x_hat\"] = {}\n",
    "\n",
    "#X_hat = {\n",
    "#    \"Hydro1\": 0.0,\n",
    "#    \"Hydro2\": 0.0,\n",
    "#}\n",
    "\n",
    "#This is the while-loop in principle, but for this case is only a for-loop\n",
    "\n",
    "#CODE FOR LATER WHEN LOGIC WORKS:\n",
    "#tol = 1e-4     #tolerance for while loop\n",
    "#while (pyo.value(m_1st.alpha.value - pyo.value(m_2nd.obj)) >= tol): #while loop that doesn't end until upper bound and lower bound converge (not working so something similar)\n",
    "\n",
    "\n",
    "\n",
    "#For now:\n",
    "for i in range(5):\n",
    "\n",
    "    #Solve 1st stage problem\n",
    "    m_1st = ModelSetUp_1st(data, Constants,Cuts)\n",
    "    Solve(m_1st)\n",
    " \n",
    " \n",
    "    # Process 1st stage result\n",
    "    X_hat = {\n",
    "            \"Hydro1\": m_1st.p[\"Hydro1\"].value,\n",
    "            \"Hydro2\": m_1st.p[\"Hydro2\"].value,\n",
    "\n",
    "        }\n",
    "    display(X_hat)\n",
    "    DisplayResults(m_1st)\n",
    "    \n",
    "    #Updating remaining capacity between stages\n",
    "    initial_H_stage2 = calculate_initial_H_stage2(Constants, X_hat)         #calculate changing voluem\n",
    "    display(\"How much capacity is left for each plant for stage 2 after solving loop: \" +  str( i ) + \"  \" + str(initial_H_stage2))\n",
    "\n",
    "    # Setup and solve 2nd stage problem with updated H_stage1\n",
    "    m_2nd = ModelSetUp_2nd(data, Constants, X_hat, initial_H_stage2)      #must take into account the capacity used in stage 1 as a linking variable\n",
    "    Solve(m_2nd)\n",
    "    DisplayResults(m_2nd)\n",
    "    #Create new cuts for 1st stage problem\n",
    "    Cuts = Cut_manage(Cuts,m_2nd)\n",
    "    print()\n",
    "    print()\n",
    "\n",
    "    #Print results 2nd stage\n",
    "    print(\"Objective function:\",pyo.value(m_2nd.obj))\n",
    "    print(\"Cut information acquired:\")\n",
    "    for component in Cuts:\n",
    "        if component == \"lambda\" or component == \"x_hat\":\n",
    "            for j in m_2nd.plants:\n",
    "                print(component,j,Cuts[component][i,j])\n",
    "        else:\n",
    "            print(component,Cuts[component])\n",
    "    \n",
    "    #We perform a convergence check\n",
    "    print(\"UB:\",pyo.value(m_1st.alpha.value),\"- LB:\",pyo.value(m_2nd.obj))\n",
    "    #input()\n"
   ]
  }
 ],
 "metadata": {
  "kernelspec": {
   "display_name": "base",
   "language": "python",
   "name": "python3"
  },
  "language_info": {
   "codemirror_mode": {
    "name": "ipython",
    "version": 3
   },
   "file_extension": ".py",
   "mimetype": "text/x-python",
   "name": "python",
   "nbconvert_exporter": "python",
   "pygments_lexer": "ipython3",
   "version": "3.9.12"
  },
  "orig_nbformat": 4
 },
 "nbformat": 4,
 "nbformat_minor": 2
}
