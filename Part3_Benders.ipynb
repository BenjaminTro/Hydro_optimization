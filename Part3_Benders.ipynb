{
 "cells": [
  {
   "cell_type": "code",
   "execution_count": 6,
   "metadata": {},
   "outputs": [],
   "source": [
    "import pyomo.environ as pyo\n",
    "import numpy as np\n",
    "import matplotlib.pyplot as plt\n",
    "from calculations.datahandling import*\n",
    "from calculations.data_processor import* "
   ]
  },
  {
   "cell_type": "markdown",
   "metadata": {},
   "source": [
    "## Initialization"
   ]
  },
  {
   "cell_type": "code",
   "execution_count": 7,
   "metadata": {},
   "outputs": [],
   "source": [
    "#--Data handling--\n",
    "#Read of parameters for portfolio\n",
    "def InputData(data_file):\n",
    "    inputdata = pd.read_excel(data_file)\n",
    "    inputdata = inputdata.set_index('Parameter', drop=True)\n",
    "    inputdata = inputdata.transpose()\n",
    "    data = {}\n",
    "    data['hydro'] = inputdata[['yi', 'P_min', 'P_max']].drop('Solar')\n",
    "    data['solar']=inputdata[['yi', 'P_min', 'P_max']].drop('Hydro1').drop('Hydro2')\n",
    "    return data\n",
    "\n",
    "data = InputData('data/Parameters.xlsx')\n",
    "\n",
    "#--Constants--\n",
    "Constants= {\n",
    "    'Load_penalty':200, \n",
    "    'Hydro_cap':80, \n",
    "    'Load':150,\n",
    "    'Market':60,\n",
    "}\n",
    "\n",
    "scenarios =  {'High':1/3,'Avg':1/3,'Low':1/3}\n",
    "solar_val_scenario = {'High':30,'Avg':15,'Low':0}\n",
    "\n",
    "# ----------------------Mathematical formulation ------------------------- #\n",
    "# ----- First stage obejctive and constraints ------------------ #\n",
    "def Obj_1st(model):\n",
    "    return (sum(model.yi[i] * model.p[i] for i in model.plants) - sum(model.Mi[i]*model.p[i] for i in model.plants))/len(scenarios) + model.alpha #minimize(power produced - power sold to market)\n",
    "\n",
    "def p_bounds(model,i):\n",
    "    return (model.Pmin[i], model.Pmax[i])   \n",
    "\n",
    "def Hydro_capacity(model, i):\n",
    "    return model.p[i] <= model.H_stage1[i]\n",
    "\n",
    "def CreateCuts(model,c):\n",
    "    return(model.alpha >= model.Phi[c] - sum(model.Lambda[c,i]*(model.p[i]-model.x_hat[c,i]) for i in model.plants))  #only takes into account the hydro power production scheduling from H_cap\n",
    "\n",
    "# ----- Second stage ojbective and constraints --------------#\n",
    "def Obj_2nd(model):\n",
    "    return (model.probs*(sum(model.yi[i]*model.p[i] for i in model.plants) + (model.Li * model.L_p)))\n",
    "\n",
    "\n",
    "def Solar_rule(model):\n",
    "    return model.phi == Solar_p\n",
    "\n",
    "def Hydro_capacity2(model, i):      #ensures that model.p does not use more capacity than what it has available\n",
    "    return model.p[i] <= model.H_stage2[i]\n",
    "\n",
    "def load_rule(model):\n",
    "    return model.p['Hydro1'] + model.p['Hydro2'] + model.phi == model.L - model.L_p \n",
    "\n",
    "def calculate_initial_H_stage2(Constants, X_hat):\n",
    "    initial_H_stage2 = {}\n",
    "    for plant in X_hat:\n",
    "        remaining_capacity = Constants['Hydro_cap'] - (X_hat[plant])\n",
    "        initial_H_stage2[plant] = remaining_capacity\n",
    "    return initial_H_stage2\n",
    " \n",
    "# ------------------------- MODEL SETUP -------------------------- #\n",
    "\n",
    "# Set up model 1st stage\n",
    "def ModelSetUp_1st(data, Constants,Cuts, Scenario):\n",
    "    model = pyo.ConcreteModel()\n",
    "\n",
    "    # Define sets and parameters specific to the first stage\n",
    "    model.plants   =  pyo.Set(initialize=data['hydro'].index)  # Set of plant types (e.g., 'Hydro1', 'Hydro2')\n",
    "\n",
    "    #Parameters\n",
    "    model.yi       =  pyo.Param(model.plants, initialize=data['hydro']['yi'])\n",
    "    model.Pmin     =  pyo.Param(model.plants, initialize=data['hydro']['P_min'])\n",
    "    model.Pmax     =  pyo.Param(model.plants, initialize=data['hydro']['P_max'])\n",
    "    model.H_stage1 =  pyo.Param(model.plants, initialize=Constants['Hydro_cap'])                        #Initial capacity\n",
    "    model.Mi       =  pyo.Param(model.plants, initialize=Constants['Market'])                           #Market sell price\n",
    "    model.L        =  pyo.Param(initialize=Constants['Load'])\n",
    "    model.probs    =  pyo.Param(initialize=Scenario)\n",
    "\n",
    "    # Variables\n",
    "    model.p        =  pyo.Var(model.plants, bounds=p_bounds)  # Production from hydro plants\n",
    "\n",
    "    # Constraints\n",
    "    model.hydro_cons   =  pyo.Constraint(model.plants, rule=Hydro_capacity)\n",
    "\n",
    "    # Cuts information\n",
    "    model.Cut      =  pyo.Set(initialize = Cuts[\"Set\"])\n",
    "    model.Phi      =  pyo.Param(model.Cut, initialize = Cuts[\"Phi\"])\n",
    "    model.Lambda   =  pyo.Param(model.Cut, model.plants, initialize = Cuts[\"lambda\"])\n",
    "    model.x_hat    =  pyo.Param(model.Cut, model.plants, initialize = Cuts[\"x_hat\"])\n",
    "    \n",
    "    model.alpha    =  pyo.Var(bounds = (-10000,10000))\n",
    "    \n",
    "    model.CreateCuts   =  pyo.Constraint(model.Cut, rule = CreateCuts)\n",
    "\n",
    "    # Define objective function\n",
    "    model.obj      =  pyo.Objective(rule=Obj_1st, sense=pyo.minimize)\n",
    "    \n",
    "    return model\n",
    "\n",
    "def ModelSetUp_2nd(data, Constants, X_hat, rem_cap, Scenario):\n",
    "    # Instance\n",
    "    model          =  pyo.ConcreteModel()\n",
    "\n",
    "    # Define sets\n",
    "    model.plants   =  pyo.Set(initialize=data['hydro'].index)  # Set of plant types (e.g., 'Hydro1', 'Hydro2')\n",
    "\n",
    "    # Define parameters\n",
    "    model.X_hat    =  pyo.Param(model.plants, initialize=X_hat)\n",
    "    model.Li       =  pyo.Param(initialize=Constants['Load_penalty']) \n",
    "    model.yi       =  pyo.Param(model.plants, initialize=data['hydro']['yi'])\n",
    "    model.Pmin     =  pyo.Param(model.plants, initialize=data['hydro']['P_min'])\n",
    "    model.Pmax     =  pyo.Param(model.plants, initialize=data['hydro']['P_max'])\n",
    "    model.H_stage2 =  pyo.Param(model.plants, initialize=rem_cap)\n",
    "    model.L        =  pyo.Param(initialize=Constants['Load'])\n",
    "    model.probs    =  pyo.Param(initialize=Scenario)\n",
    "\n",
    "\n",
    "    # Define variables\n",
    "    model.p        =  pyo.Var(model.plants, bounds=p_bounds)\n",
    "    model.phi      =  pyo.Var(within=pyo.NonNegativeReals)\n",
    "    model.L_p      =  pyo.Var(within=pyo.NonNegativeReals)\n",
    "\n",
    "    # Constraints\n",
    "    model.load_cons    =  pyo.Constraint(rule=load_rule)\n",
    "    model.solar_cons   =  pyo.Constraint(rule=Solar_rule)\n",
    "    model.hydro_cons   =  pyo.Constraint(model.plants, rule=Hydro_capacity2)                                           #constraining power production from hydrom from the remaining capacity\n",
    "\n",
    "    # Define objective function\n",
    "    model.obj     =  pyo.Objective(rule=Obj_2nd, sense=pyo.minimize)\n",
    "    \n",
    "    return model\n",
    "\n",
    "\n",
    "def Solve(model):\n",
    "    opt = pyo.SolverFactory(\"gurobi\")\n",
    "    model.dual = pyo.Suffix(direction=pyo.Suffix.IMPORT)\n",
    "    results = opt.solve(model, load_solutions=True)\n",
    "    return results, model\n",
    "\n",
    "\n",
    "def DisplayResults(model):\n",
    "    return print(model.display(), model.dual.display())\n",
    "\n",
    "\n",
    "# ----------------------- CUTTING ------------------------ #\n",
    "\n",
    "# Function for creating new linear cuts for optimization problem\n",
    "def Cut_manage(Cuts,model):\n",
    "    \"\"\"Add new cut to existing dictionary of cut information\"\"\"\n",
    "    \n",
    "    #Find cut iteration by checking number of existing cuts\n",
    "    cut = len(Cuts[\"Set\"])\n",
    "    #Add new cut to list, since 0-index is a thing this works well\n",
    "    Cuts[\"Set\"].append(cut)\n",
    "    \n",
    "    #Find 2nd stage cost result\n",
    "    Cuts[\"Phi\"][cut] = pyo.value(model.obj)\n",
    "    #Find lambda x_hat for each type of power produced\n",
    "    for i in model.plants:\n",
    "        Cuts[\"lambda\"][cut, i] = model.dual.get(model.hydro_cons[i])  # the lambda should be the economic change when we increase the 1st decision by 1. Should be something else\n",
    "        Cuts[\"x_hat\"][cut,i] = model.X_hat[i]\n",
    "    return(Cuts)\n",
    "\n",
    "Cuts = {}\n",
    "Cuts[\"Set\"] = []\n",
    "Cuts[\"Phi\"] = {}\n",
    "Cuts[\"lambda\"] = {}\n",
    "Cuts[\"x_hat\"] = {}\n"
   ]
  },
  {
   "cell_type": "markdown",
   "metadata": {},
   "source": [
    "## Bender's decomposition"
   ]
  },
  {
   "cell_type": "code",
   "execution_count": 8,
   "metadata": {},
   "outputs": [
    {
     "name": "stdout",
     "output_type": "stream",
     "text": [
      "\n",
      "----------------------------------------------------------------------------------\n",
      "Solving for scenario: High\n",
      "----------------------------------------------------------------------------------\n",
      "The amount of solar power for scenario High is: 30 MW\n",
      "\n",
      "Solving for iteration: 1\n",
      "\n"
     ]
    },
    {
     "data": {
      "text/plain": [
       "\"How much capacity was used by each plant in stage 1 after solving iteration: 1  {'Hydro1': 60.0, 'Hydro2': 80.0}\""
      ]
     },
     "metadata": {},
     "output_type": "display_data"
    },
    {
     "data": {
      "text/plain": [
       "\"How much capacity is left for each plant in stage 2 after solving iteration: 1  {'Hydro1': 20.0, 'Hydro2': 0.0}\""
      ]
     },
     "metadata": {},
     "output_type": "display_data"
    },
    {
     "name": "stdout",
     "output_type": "stream",
     "text": [
      "Objective function - Second stage: 6833.333333333333\n",
      "TOLERANCE 16833.333333333332\n",
      "UB: 6833.333333333333 - LB: -10000.0\n",
      "The first stage objective value is: -11366.666666666666\n",
      "\n",
      "Solving for iteration: 2\n",
      "\n"
     ]
    },
    {
     "data": {
      "text/plain": [
       "\"How much capacity was used by each plant in stage 1 after solving iteration: 2  {'Hydro1': 0.0, 'Hydro2': 0.0}\""
      ]
     },
     "metadata": {},
     "output_type": "display_data"
    },
    {
     "data": {
      "text/plain": [
       "\"How much capacity is left for each plant in stage 2 after solving iteration: 2  {'Hydro1': 80.0, 'Hydro2': 80.0}\""
      ]
     },
     "metadata": {},
     "output_type": "display_data"
    },
    {
     "name": "stdout",
     "output_type": "stream",
     "text": [
      "Objective function - Second stage: 1200.0\n",
      "TOLERANCE 2266.6666666666642\n",
      "UB: 1200.0 - LB: -1066.6666666666642\n",
      "The first stage objective value is: -1066.6666666666642\n",
      "\n",
      "Solving for iteration: 3\n",
      "\n"
     ]
    },
    {
     "data": {
      "text/plain": [
       "\"How much capacity was used by each plant in stage 1 after solving iteration: 3  {'Hydro1': 38.85714285714283, 'Hydro2': 0.0}\""
      ]
     },
     "metadata": {},
     "output_type": "display_data"
    },
    {
     "data": {
      "text/plain": [
       "\"How much capacity is left for each plant in stage 2 after solving iteration: 3  {'Hydro1': 41.14285714285717, 'Hydro2': 80.0}\""
      ]
     },
     "metadata": {},
     "output_type": "display_data"
    },
    {
     "name": "stdout",
     "output_type": "stream",
     "text": [
      "Objective function - Second stage: 1262.8571428571427\n",
      "TOLERANCE 62.85714285714266\n",
      "UB: 1262.8571428571427 - LB: 1200.0\n",
      "The first stage objective value is: 746.666666666667\n",
      "\n",
      "Solving for iteration: 4\n",
      "\n"
     ]
    },
    {
     "data": {
      "text/plain": [
       "\"How much capacity was used by each plant in stage 1 after solving iteration: 4  {'Hydro1': 39.99999999999997, 'Hydro2': 0.0}\""
      ]
     },
     "metadata": {},
     "output_type": "display_data"
    },
    {
     "data": {
      "text/plain": [
       "\"How much capacity is left for each plant in stage 2 after solving iteration: 4  {'Hydro1': 40.00000000000003, 'Hydro2': 80.0}\""
      ]
     },
     "metadata": {},
     "output_type": "display_data"
    },
    {
     "name": "stdout",
     "output_type": "stream",
     "text": [
      "Objective function - Second stage: 1266.666666666667\n",
      "TOLERANCE 9.094947017729282e-13\n",
      "UB: 1266.666666666667 - LB: 1266.666666666666\n",
      "The first stage objective value is: 799.9999999999998\n",
      "\n",
      "---------------------------------> For scenario: High the cost is: 799.9999999999998 <---------------------------------\n",
      "\n",
      "\n",
      "----------------------------------------------------------------------------------\n",
      "Solving for scenario: Avg\n",
      "----------------------------------------------------------------------------------\n",
      "The amount of solar power for scenario Avg is: 15 MW\n",
      "\n",
      "Solving for iteration: 1\n",
      "\n"
     ]
    },
    {
     "data": {
      "text/plain": [
       "\"How much capacity was used by each plant in stage 1 after solving iteration: 1  {'Hydro1': 20.000000000000018, 'Hydro2': 19.99999999999995}\""
      ]
     },
     "metadata": {},
     "output_type": "display_data"
    },
    {
     "data": {
      "text/plain": [
       "\"How much capacity is left for each plant in stage 2 after solving iteration: 1  {'Hydro1': 59.999999999999986, 'Hydro2': 60.00000000000005}\""
      ]
     },
     "metadata": {},
     "output_type": "display_data"
    },
    {
     "name": "stdout",
     "output_type": "stream",
     "text": [
      "Objective function - Second stage: 2199.9999999999973\n",
      "TOLERANCE 999.9999999999973\n",
      "UB: 2199.9999999999973 - LB: 1200.0\n",
      "The first stage objective value is: 800.0000000000002\n",
      "\n",
      "Solving for iteration: 2\n",
      "\n"
     ]
    },
    {
     "data": {
      "text/plain": [
       "\"How much capacity was used by each plant in stage 1 after solving iteration: 2  {'Hydro1': 37.14285714285712, 'Hydro2': 2.8571428571428528}\""
      ]
     },
     "metadata": {},
     "output_type": "display_data"
    },
    {
     "data": {
      "text/plain": [
       "\"How much capacity is left for each plant in stage 2 after solving iteration: 2  {'Hydro1': 42.85714285714288, 'Hydro2': 77.14285714285715}\""
      ]
     },
     "metadata": {},
     "output_type": "display_data"
    },
    {
     "name": "stdout",
     "output_type": "stream",
     "text": [
      "Objective function - Second stage: 2257.142857142855\n",
      "TOLERANCE 999.9999999999982\n",
      "UB: 2257.142857142855 - LB: 1257.1428571428569\n",
      "The first stage objective value is: 800.0\n",
      "\n",
      "Solving for iteration: 3\n",
      "\n"
     ]
    },
    {
     "data": {
      "text/plain": [
       "\"How much capacity was used by each plant in stage 1 after solving iteration: 3  {'Hydro1': 20.00000000000001, 'Hydro2': 1.8181818181818143}\""
      ]
     },
     "metadata": {},
     "output_type": "display_data"
    },
    {
     "data": {
      "text/plain": [
       "\"How much capacity is left for each plant in stage 2 after solving iteration: 3  {'Hydro1': 59.999999999999986, 'Hydro2': 78.18181818181819}\""
      ]
     },
     "metadata": {},
     "output_type": "display_data"
    },
    {
     "name": "stdout",
     "output_type": "stream",
     "text": [
      "Objective function - Second stage: 1375.0\n",
      "TOLERANCE 175.0\n",
      "UB: 1375.0 - LB: 1200.0\n",
      "The first stage objective value is: 951.5151515151514\n",
      "\n",
      "Solving for iteration: 4\n",
      "\n"
     ]
    },
    {
     "data": {
      "text/plain": [
       "\"How much capacity was used by each plant in stage 1 after solving iteration: 4  {'Hydro1': 24.714285714285722, 'Hydro2': 0.0}\""
      ]
     },
     "metadata": {},
     "output_type": "display_data"
    },
    {
     "data": {
      "text/plain": [
       "\"How much capacity is left for each plant in stage 2 after solving iteration: 4  {'Hydro1': 55.28571428571428, 'Hydro2': 80.0}\""
      ]
     },
     "metadata": {},
     "output_type": "display_data"
    },
    {
     "name": "stdout",
     "output_type": "stream",
     "text": [
      "Objective function - Second stage: 1390.7142857142856\n",
      "TOLERANCE 15.714285714285552\n",
      "UB: 1390.7142857142856 - LB: 1375.0\n",
      "The first stage objective value is: 1086.6666666666665\n",
      "\n",
      "Solving for iteration: 5\n",
      "\n"
     ]
    },
    {
     "data": {
      "text/plain": [
       "\"How much capacity was used by each plant in stage 1 after solving iteration: 5  {'Hydro1': 25.000000000000004, 'Hydro2': 0.0}\""
      ]
     },
     "metadata": {},
     "output_type": "display_data"
    },
    {
     "data": {
      "text/plain": [
       "\"How much capacity is left for each plant in stage 2 after solving iteration: 5  {'Hydro1': 55.0, 'Hydro2': 80.0}\""
      ]
     },
     "metadata": {},
     "output_type": "display_data"
    },
    {
     "name": "stdout",
     "output_type": "stream",
     "text": [
      "Objective function - Second stage: 1391.6666666666665\n",
      "TOLERANCE 4.547473508864641e-13\n",
      "UB: 1391.6666666666665 - LB: 1391.666666666666\n",
      "The first stage objective value is: 1099.9999999999993\n",
      "\n",
      "---------------------------------> For scenario: Avg the cost is: 1099.9999999999993 <---------------------------------\n",
      "\n",
      "\n",
      "----------------------------------------------------------------------------------\n",
      "Solving for scenario: Low\n",
      "----------------------------------------------------------------------------------\n",
      "The amount of solar power for scenario Low is: 0 MW\n",
      "\n",
      "Solving for iteration: 1\n",
      "\n"
     ]
    },
    {
     "data": {
      "text/plain": [
       "\"How much capacity was used by each plant in stage 1 after solving iteration: 1  {'Hydro1': 25.000000000000004, 'Hydro2': 0.0}\""
      ]
     },
     "metadata": {},
     "output_type": "display_data"
    },
    {
     "data": {
      "text/plain": [
       "\"How much capacity is left for each plant in stage 2 after solving iteration: 1  {'Hydro1': 55.0, 'Hydro2': 80.0}\""
      ]
     },
     "metadata": {},
     "output_type": "display_data"
    },
    {
     "name": "stdout",
     "output_type": "stream",
     "text": [
      "Objective function - Second stage: 2391.6666666666665\n",
      "TOLERANCE 1000.0000000000005\n",
      "UB: 2391.6666666666665 - LB: 1391.666666666666\n",
      "The first stage objective value is: 1099.9999999999993\n",
      "\n",
      "Solving for iteration: 2\n",
      "\n"
     ]
    },
    {
     "data": {
      "text/plain": [
       "\"How much capacity was used by each plant in stage 1 after solving iteration: 2  {'Hydro1': 7.571428571428577, 'Hydro2': 0.0}\""
      ]
     },
     "metadata": {},
     "output_type": "display_data"
    },
    {
     "data": {
      "text/plain": [
       "\"How much capacity is left for each plant in stage 2 after solving iteration: 2  {'Hydro1': 72.42857142857142, 'Hydro2': 80.0}\""
      ]
     },
     "metadata": {},
     "output_type": "display_data"
    },
    {
     "name": "stdout",
     "output_type": "stream",
     "text": [
      "Objective function - Second stage: 2100.0\n",
      "TOLERANCE 725.0\n",
      "UB: 2100.0 - LB: 1375.0\n",
      "The first stage objective value is: 1286.6666666666665\n",
      "\n",
      "Solving for iteration: 3\n",
      "\n"
     ]
    },
    {
     "data": {
      "text/plain": [
       "\"How much capacity was used by each plant in stage 1 after solving iteration: 3  {'Hydro1': 20.000000000000007, 'Hydro2': 0.0}\""
      ]
     },
     "metadata": {},
     "output_type": "display_data"
    },
    {
     "data": {
      "text/plain": [
       "\"How much capacity is left for each plant in stage 2 after solving iteration: 3  {'Hydro1': 59.99999999999999, 'Hydro2': 80.0}\""
      ]
     },
     "metadata": {},
     "output_type": "display_data"
    },
    {
     "name": "stdout",
     "output_type": "stream",
     "text": [
      "Objective function - Second stage: 2100.0\n",
      "TOLERANCE 0.0\n",
      "UB: 2100.0 - LB: 2100.0\n",
      "The first stage objective value is: 1866.6666666666665\n",
      "\n",
      "---------------------------------> For scenario: Low the cost is: 1866.6666666666665 <---------------------------------\n",
      "\n",
      ">>>>-------------------------------------<<<<\n",
      "The objective value is: 3766.67\n",
      ">>>>-------------------------------------<<<<\n"
     ]
    }
   ],
   "source": [
    "# Initialize empty value for accumulated objective value from all scenarios\n",
    "tot_1st = 0\n",
    "\n",
    "# Empty lists to store results from each scenario for plotting later\n",
    "hydro1_st1 = []\n",
    "hydro2_st1 = []\n",
    "hydro1_st2 = []\n",
    "hydro2_st2 = []\n",
    "result_phi = []\n",
    "result_L_p = []\n",
    "UB = []\n",
    "LB = []\n",
    "\n",
    "# Loop over all scenarios\n",
    "for s in scenarios:\n",
    "    print()\n",
    "    print('----------------------------------------------------------------------------------')\n",
    "    print(\"Solving for scenario:\",s)\n",
    "    print('----------------------------------------------------------------------------------')\n",
    "    Solar_p = solar_val_scenario[s]  #input of solar data to be used in the optimization\n",
    "    print(\"The amount of solar power for scenario\",s,\"is:\",Solar_p,\"MW\")\n",
    "    tol = 1\n",
    "    i = 0\n",
    "\n",
    "    opt = pyo.SolverFactory(\"gurobi\")\n",
    "    \n",
    "    UB_inner = []\n",
    "    LB_inner = []\n",
    "\n",
    "    while abs(tol) > 0.1:\n",
    "        i += 1\n",
    "        print()\n",
    "        print('Solving for iteration:',i)\n",
    "        print()\n",
    "\n",
    "        #Solve 1st stage problem\n",
    "        m_1st = ModelSetUp_1st(data, Constants, Cuts, Scenario=scenarios[s])\n",
    "        Solve(m_1st)\n",
    "\n",
    "        # Process 1st stage result\n",
    "        X_hat = {\n",
    "                \"Hydro1\": m_1st.p[\"Hydro1\"].value,\n",
    "                \"Hydro2\": m_1st.p[\"Hydro2\"].value,\n",
    "            }\n",
    "        \n",
    "        display(\"How much capacity was used by each plant in stage 1 after solving iteration: \"  +  str( i ) + \"  \" + str(X_hat))\n",
    "\n",
    "        #Updating remaining capacity between stages\n",
    "        initial_H_stage2 = calculate_initial_H_stage2(Constants, X_hat)         #calculate changing capacity between stages\n",
    "        display(\"How much capacity is left for each plant in stage 2 after solving iteration: \"  +  str( i ) + \"  \" + str(initial_H_stage2))\n",
    "\n",
    "        # Setup and solve 2nd stage problem with updated amount of capacity left\n",
    "        m_2nd = ModelSetUp_2nd(data, Constants, X_hat, initial_H_stage2, Scenario=scenarios[s])\n",
    "        Solve(m_2nd)\n",
    "\n",
    "        #Create new cuts for 1st stage problem\n",
    "        Cuts = Cut_manage(Cuts,m_2nd)\n",
    "\n",
    "        #Print results 2nd stage\n",
    "        print(\"Objective function - Second stage:\",pyo.value(m_2nd.obj()))\n",
    "\n",
    "        tol = (pyo.value(m_1st.alpha.value)-pyo.value(m_2nd.obj()))\n",
    "        print(\"TOLERANCE\",abs(tol))\n",
    "\n",
    "        #Convergence check\n",
    "        print(\"UB:\",pyo.value(m_2nd.obj()),\"- LB:\",pyo.value(m_1st.alpha.value))\n",
    "        UB_inner.append(pyo.value(m_2nd.obj()))\n",
    "        LB_inner.append(pyo.value(m_1st.alpha.value))\n",
    "        print(\"The first stage objective value is:\",m_1st.obj())\n",
    "\n",
    "    print(\"\")\n",
    "    print('--------------------------------->','For scenario:',s,'the cost is:',m_1st.obj(),'<---------------------------------')\n",
    "    print(\"\")\n",
    "\n",
    "    #Total costs is the objectiv value of the final iterated first stage including the alpha value derived from the final iterated second stage\n",
    "    tot_1st += m_1st.obj() \n",
    "\n",
    "    hydro1_st1.append(m_1st.p['Hydro1'].value)\n",
    "    hydro2_st1.append(m_1st.p['Hydro2'].value)\n",
    "\n",
    "    hydro1_st2.append(m_2nd.p['Hydro1'].value)\n",
    "    hydro2_st2.append(m_2nd.p['Hydro2'].value)\n",
    "    result_phi.append(m_2nd.phi.value)\n",
    "    result_L_p.append(m_2nd.L_p.value)\n",
    "    UB.append(UB_inner)\n",
    "    LB.append(LB_inner) \n",
    "\n",
    "print(\">>>>-------------------------------------<<<<\")\n",
    "print(\"The objective value is:\",np.round(tot_1st,2))\n",
    "print(\">>>>-------------------------------------<<<<\")"
   ]
  },
  {
   "cell_type": "markdown",
   "metadata": {},
   "source": [
    "### Plotting power production schedule"
   ]
  },
  {
   "cell_type": "code",
   "execution_count": 9,
   "metadata": {},
   "outputs": [
    {
     "data": {
      "image/png": "[encoded data removed]",
      "text/plain": [
       "<Figure size 720x432 with 1 Axes>"
      ]
     },
     "metadata": {
      "needs_background": "light"
     },
     "output_type": "display_data"
    }
   ],
   "source": [
    "# Data from Bender's decomposition\n",
    "hydro1_st1 = np.array(hydro1_st1)\n",
    "hydro1_st2 = np.array(hydro1_st2)\n",
    "hydro2_st2 = np.array(hydro2_st2)\n",
    "result_L_p = np.array(result_L_p)\n",
    "result_phi = np.array(result_phi)\n",
    "\n",
    "plt.figure(figsize=(10, 6))\n",
    "bar_width = 0.35\n",
    "bar_positions_1st = np.arange(len(scenarios)) \n",
    "bar_positions_2nd = bar_positions_1st + bar_width \n",
    "\n",
    "plt.bar(bar_positions_1st, hydro1_st1, width=bar_width, label=f'Hydro1', color='C0', edgecolor ='black')\n",
    "plt.bar(bar_positions_2nd, hydro1_st2, width=bar_width, color=\"C0\", edgecolor ='black')\n",
    "plt.bar(bar_positions_2nd, hydro2_st2, width=bar_width, bottom=hydro1_st2, label=f'Hydro2', color='C1', edgecolor='black')\n",
    "plt.bar(bar_positions_2nd, result_L_p, width=bar_width, bottom=hydro1_st2 + hydro2_st2, label=f'Load Penalty', color=\"C3\", edgecolor='black')\n",
    "plt.bar(bar_positions_2nd, result_phi, width=bar_width, bottom=hydro1_st2 + hydro2_st2 + result_L_p, label=f'Solar', color='C2', edgecolor='black')\n",
    "plt.axhline(y=150, color='red', linestyle='--', label='Load demand')\n",
    "plt.xlabel('Scenarios')\n",
    "plt.ylabel('Power Production (MW)')\n",
    "plt.ylim(0, 250)\n",
    "plt.title('Comparison of stage 1 and stage 2 during the different scenarios')\n",
    "plt.xticks(bar_positions_1st + bar_width / 2, scenarios)\n",
    "plt.legend(loc=\"upper right\")\n",
    "plt.show()"
   ]
  },
  {
   "cell_type": "markdown",
   "metadata": {},
   "source": [
    "### Plotting convergence"
   ]
  },
  {
   "cell_type": "code",
   "execution_count": 10,
   "metadata": {},
   "outputs": [
    {
     "data": {
      "image/png": "[encoded data removed]",
      "text/plain": [
       "<Figure size 720x432 with 1 Axes>"
      ]
     },
     "metadata": {
      "needs_background": "light"
     },
     "output_type": "display_data"
    },
    {
     "data": {
      "image/png": "[encoded data removed]",
      "text/plain": [
       "<Figure size 720x432 with 1 Axes>"
      ]
     },
     "metadata": {
      "needs_background": "light"
     },
     "output_type": "display_data"
    },
    {
     "data": {
      "image/png": "[encoded data removed]",
      "text/plain": [
       "<Figure size 720x432 with 1 Axes>"
      ]
     },
     "metadata": {
      "needs_background": "light"
     },
     "output_type": "display_data"
    }
   ],
   "source": [
    "# Data from the bounds\n",
    "iterations = [range(1,len(UB[0])+1,1),range(1,len(UB[1])+1,1),range(1,len(UB[2])+1,1)]\n",
    "upper_bounds = UB\n",
    "lower_bounds = LB\n",
    "\n",
    "# Plotting for each scenario\n",
    "for i, scenario in enumerate(scenarios):\n",
    "    fig, ax = plt.subplots(figsize=(10, 6))\n",
    "\n",
    "    ax.plot(iterations[i], upper_bounds[i], label=f'Scenario: {scenario} - Upper Bound', marker='o')\n",
    "    ax.plot(iterations[i], lower_bounds[i], label=f'Scenario: {scenario} - Lower Bound', marker='o')\n",
    "\n",
    "    ax.set_xlabel('Iterations', fontsize=16, fontweight='bold')\n",
    "    ax.set_ylabel('Bound Values', fontsize=16, fontweight='bold')\n",
    "    ax.legend(fontsize=14)\n",
    "    ax.grid(True)\n",
    "    plt.title(f'Convergence of Upper and Lower Bounds - Scenario: {scenario}', fontsize=16, fontweight='bold')\n",
    "\n",
    "    plt.show()\n",
    "    \n",
    "# Due to convergence, all the variables need to be reset at the end (NOTE THAT EVERYTHING IS RESET, INDIVIDUAL CELLS WILL NOT WORK UNLESS EVERYTHING IS RUN AGAIN)\n",
    "%reset -f"
   ]
  }
 ],
 "metadata": {
  "kernelspec": {
   "display_name": "base",
   "language": "python",
   "name": "python3"
  },
  "language_info": {
   "codemirror_mode": {
    "name": "ipython",
    "version": 3
   },
   "file_extension": ".py",
   "mimetype": "text/x-python",
   "name": "python",
   "nbconvert_exporter": "python",
   "pygments_lexer": "ipython3",
   "version": "3.9.12"
  },
  "orig_nbformat": 4
 },
 "nbformat": 4,
 "nbformat_minor": 2
}
