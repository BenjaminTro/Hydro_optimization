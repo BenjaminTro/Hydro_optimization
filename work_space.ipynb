{
 "cells": [
  {
   "cell_type": "code",
   "execution_count": 2,
   "metadata": {},
   "outputs": [],
   "source": [
    "#Import relevant python files\n",
    "from calculations.data_processor import * #read_excel_data, read_csv_data, perform_calculation , * means importing ALL code within, but may cause namespace clutter!!\n",
    "from calculations.datahandling import *\n",
    "from plotting.plot_generator import * #plot_irr, plot_PVcalc\n"
   ]
  },
  {
   "cell_type": "markdown",
   "metadata": {},
   "source": [
    "## Plotting results and running code"
   ]
  },
  {
   "cell_type": "code",
   "execution_count": 2,
   "metadata": {},
   "outputs": [
    {
     "name": "stdout",
     "output_type": "stream",
     "text": [
      "{1: 27.96, 2: 27.76, 3: 27.4, 4: 27.54, 5: 27.88, 6: 28.7, 7: 31.09, 8: 32.45, 9: 33.42, 10: 32.83, 11: 32.93, 12: 32.43, 13: 32.33, 14: 32.19, 15: 32.16, 16: 32.37, 17: 32.86, 18: 43.64, 19: 42.36, 20: 36.5, 21: 33.17, 22: 32.37, 23: 31.12, 24: 30.11}\n"
     ]
    }
   ],
   "source": [
    "# Alternatively, can also run the code directly from the imported functions:\n",
    "input_data_PV = read_excel_data('data/PV_spec.xlsx')\n",
    "input_data_Irr = read_irr_data('data/Data_solar_irr_NOR.csv')\n",
    "input_data_market = read_csv_data('data/Market_price.csv')\n",
    "\n",
    "# Calculate PV power production \n",
    "PV_power = pv_power_estimated(input_data_PV,input_data_Irr)\n",
    "\n",
    "# Generate a plot of the irradiance and PV production data (data, time resolution, color)\n",
    "plot_irr(input_data_Irr, 'H', 'purple')\n",
    "plot_PVcalc(PV_power, 'H', 'orange')\n",
    "plot_market(input_data_market, 'H', 'green')"
   ]
  },
  {
   "cell_type": "markdown",
   "metadata": {},
   "source": [
    "## Work space"
   ]
  },
  {
   "cell_type": "code",
   "execution_count": 2,
   "metadata": {},
   "outputs": [
    {
     "name": "stdout",
     "output_type": "stream",
     "text": [
      "{0: {'A': 1, 'B': 4}, 1: {'A': 2, 'B': 5}, 2: {'A': 3, 'B': 6}}\n"
     ]
    }
   ],
   "source": [
    "\n",
    "\n",
    "# Sample DataFrame\n",
    "data = {'A': [1, 2, 3], 'B': [4, 5, 6]}\n",
    "df = pd.DataFrame(data)\n",
    "\n",
    "# Create an empty dictionary\n",
    "dictionary = {}\n",
    "\n",
    "# Loop through the DataFrame indices and values\n",
    "for index, row in df.iterrows():\n",
    "    dictionary[index] = row.to_dict()\n",
    "\n",
    "print(dictionary)"
   ]
  },
  {
   "cell_type": "code",
   "execution_count": null,
   "metadata": {},
   "outputs": [],
   "source": []
  },
  {
   "cell_type": "markdown",
   "metadata": {},
   "source": [
    "- Oscar"
   ]
  },
  {
   "cell_type": "code",
   "execution_count": 11,
   "metadata": {},
   "outputs": [
    {
     "ename": "KeyError",
     "evalue": "'Solar'",
     "output_type": "error",
     "traceback": [
      "\u001b[1;31m---------------------------------------------------------------------------\u001b[0m",
      "\u001b[1;31mKeyError\u001b[0m                                  Traceback (most recent call last)",
      "\u001b[1;32mc:\\Users\\oscar\\OneDrive\\Dokumenter\\Høst 2023\\TET4565 Spesialiseringsemne\\Hydro_optimization\\work_space.ipynb Cell 8\u001b[0m line \u001b[0;36m4\n\u001b[0;32m     <a href='vscode-notebook-cell:/c%3A/Users/oscar/OneDrive/Dokumenter/H%C3%B8st%202023/TET4565%20Spesialiseringsemne/Hydro_optimization/work_space.ipynb#X10sZmlsZQ%3D%3D?line=43'>44</a>\u001b[0m solar_a\u001b[39m=\u001b[39mscale_dict(Solar_p, \u001b[39m1\u001b[39m)\n\u001b[0;32m     <a href='vscode-notebook-cell:/c%3A/Users/oscar/OneDrive/Dokumenter/H%C3%B8st%202023/TET4565%20Spesialiseringsemne/Hydro_optimization/work_space.ipynb#X10sZmlsZQ%3D%3D?line=44'>45</a>\u001b[0m solar_l\u001b[39m=\u001b[39mscale_dict(Solar_p, \u001b[39m0.8\u001b[39m)\n\u001b[1;32m---> <a href='vscode-notebook-cell:/c%3A/Users/oscar/OneDrive/Dokumenter/H%C3%B8st%202023/TET4565%20Spesialiseringsemne/Hydro_optimization/work_space.ipynb#X10sZmlsZQ%3D%3D?line=46'>47</a>\u001b[0m stacked\u001b[39m=\u001b[39mstack_dicts2(solar_h, solar_a)\n\u001b[0;32m     <a href='vscode-notebook-cell:/c%3A/Users/oscar/OneDrive/Dokumenter/H%C3%B8st%202023/TET4565%20Spesialiseringsemne/Hydro_optimization/work_space.ipynb#X10sZmlsZQ%3D%3D?line=48'>49</a>\u001b[0m \u001b[39mprint\u001b[39m(stacked)\n",
      "\u001b[1;32mc:\\Users\\oscar\\OneDrive\\Dokumenter\\Høst 2023\\TET4565 Spesialiseringsemne\\Hydro_optimization\\work_space.ipynb Cell 8\u001b[0m line \u001b[0;36m3\n\u001b[0;32m     <a href='vscode-notebook-cell:/c%3A/Users/oscar/OneDrive/Dokumenter/H%C3%B8st%202023/TET4565%20Spesialiseringsemne/Hydro_optimization/work_space.ipynb#X10sZmlsZQ%3D%3D?line=32'>33</a>\u001b[0m \u001b[39mdef\u001b[39;00m \u001b[39mstack_dicts2\u001b[39m(dict1, dict2):\n\u001b[1;32m---> <a href='vscode-notebook-cell:/c%3A/Users/oscar/OneDrive/Dokumenter/H%C3%B8st%202023/TET4565%20Spesialiseringsemne/Hydro_optimization/work_space.ipynb#X10sZmlsZQ%3D%3D?line=33'>34</a>\u001b[0m     stacked_dict \u001b[39m=\u001b[39m {k: [dict1[k], dict2[k]] \u001b[39mfor\u001b[39;00m k \u001b[39min\u001b[39;00m dict1}\n\u001b[0;32m     <a href='vscode-notebook-cell:/c%3A/Users/oscar/OneDrive/Dokumenter/H%C3%B8st%202023/TET4565%20Spesialiseringsemne/Hydro_optimization/work_space.ipynb#X10sZmlsZQ%3D%3D?line=34'>35</a>\u001b[0m     \u001b[39mreturn\u001b[39;00m stacked_dict\n",
      "\u001b[1;32mc:\\Users\\oscar\\OneDrive\\Dokumenter\\Høst 2023\\TET4565 Spesialiseringsemne\\Hydro_optimization\\work_space.ipynb Cell 8\u001b[0m line \u001b[0;36m3\n\u001b[0;32m     <a href='vscode-notebook-cell:/c%3A/Users/oscar/OneDrive/Dokumenter/H%C3%B8st%202023/TET4565%20Spesialiseringsemne/Hydro_optimization/work_space.ipynb#X10sZmlsZQ%3D%3D?line=32'>33</a>\u001b[0m \u001b[39mdef\u001b[39;00m \u001b[39mstack_dicts2\u001b[39m(dict1, dict2):\n\u001b[1;32m---> <a href='vscode-notebook-cell:/c%3A/Users/oscar/OneDrive/Dokumenter/H%C3%B8st%202023/TET4565%20Spesialiseringsemne/Hydro_optimization/work_space.ipynb#X10sZmlsZQ%3D%3D?line=33'>34</a>\u001b[0m     stacked_dict \u001b[39m=\u001b[39m {k: [dict1[k], dict2[k]] \u001b[39mfor\u001b[39;00m k \u001b[39min\u001b[39;00m dict1}\n\u001b[0;32m     <a href='vscode-notebook-cell:/c%3A/Users/oscar/OneDrive/Dokumenter/H%C3%B8st%202023/TET4565%20Spesialiseringsemne/Hydro_optimization/work_space.ipynb#X10sZmlsZQ%3D%3D?line=34'>35</a>\u001b[0m     \u001b[39mreturn\u001b[39;00m stacked_dict\n",
      "\u001b[1;31mKeyError\u001b[0m: 'Solar'"
     ]
    }
   ],
   "source": [
    "\n",
    "start_date='2018-05-28 00:00'\n",
    "end_date='2018-05-28 23:00'\n",
    "\n",
    "\n",
    "input_data_PV = read_excel_data('data/PV_spec.xlsx')\n",
    "input_data_Irr = read_irr_data('data/Data_solar_irr_NOR.csv')\n",
    "PV_power = pv_power_estimated(input_data_PV,input_data_Irr)\n",
    "Solar_1=convert_to_dict(PV_power, start_date, end_date, 'H')\n",
    "Solar_p=scale_dict(Solar_1, 10)\n",
    "\n",
    "\n",
    "\n",
    "\n",
    "def InputData(data_file):\n",
    "    inputdata = pd.read_excel(data_file)\n",
    "    inputdata = inputdata.set_index('Parameter', drop=True)\n",
    "    inputdata = inputdata.transpose()\n",
    "    data = {}\n",
    "    data['hydroprod'] = inputdata[['Ci', 'yi', 'P_min', 'P_max']].drop('Solar')\n",
    "    data['solar']=inputdata[['Ci', 'yi', 'P_min', 'P_max']].drop('Hydro1').drop('Hydro2')\n",
    "    return data\n",
    "data=InputData('data/Parameters.xlsx')\n",
    "Phi_min=data['hydroprod']['P_max']\n",
    "\n",
    "#test3=scale_dict(test2, 10)\n",
    "#test4=scale_dict(test2, 8)\n",
    "#test5=scale_dict(test2, 12)\n",
    "\n",
    "def stack_dicts(dict1, dict2, dict3):\n",
    "    stacked_dict = {k: [dict1[k], dict2[k], dict3[k]] for k in dict1}\n",
    "    return stacked_dict\n",
    "\n",
    "def stack_dicts2(dict1, dict2):\n",
    "    stacked_dict = {k: [dict1[k], dict2[k]] for k in dict1}\n",
    "    return stacked_dict\n",
    "    \n",
    "    \n",
    "    \n",
    "# Example dictionaries with the same keys\n",
    "#stacked_result = stack_dicts(test5, test3, test4)\n",
    "\n",
    "\n",
    "\n",
    "solar_a=scale_dict(Solar_p, 1)\n",
    "solar_l=scale_dict(Solar_p, 0.8)\n",
    "\n",
    "\n",
    "\n",
    "\n",
    "\n"
   ]
  },
  {
   "cell_type": "code",
   "execution_count": null,
   "metadata": {},
   "outputs": [],
   "source": []
  }
 ],
 "metadata": {
  "kernelspec": {
   "display_name": "base",
   "language": "python",
   "name": "python3"
  },
  "language_info": {
   "codemirror_mode": {
    "name": "ipython",
    "version": 3
   },
   "file_extension": ".py",
   "mimetype": "text/x-python",
   "name": "python",
   "nbconvert_exporter": "python",
   "pygments_lexer": "ipython3",
   "version": "3.11.4"
  },
  "orig_nbformat": 4
 },
 "nbformat": 4,
 "nbformat_minor": 2
}
