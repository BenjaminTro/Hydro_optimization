{
 "cells": [
  {
   "cell_type": "code",
   "execution_count": 1,
   "metadata": {},
   "outputs": [],
   "source": [
    "#Import relevant python files\n",
    "from calculations.data_processor import * #read_excel_data, read_csv_data, perform_calculation , * means importing ALL code within, but may cause namespace clutter!!\n",
    "from calculations.datahandling import *\n",
    "from plotting.plot_generator import * #plot_irr, plot_PVcalc"
   ]
  },
  {
   "cell_type": "markdown",
   "metadata": {},
   "source": [
    "## Plotting results and running code"
   ]
  },
  {
   "cell_type": "code",
   "execution_count": 2,
   "metadata": {},
   "outputs": [
    {
     "name": "stdout",
     "output_type": "stream",
     "text": [
      "{1: 27.96, 2: 27.76, 3: 27.4, 4: 27.54, 5: 27.88, 6: 28.7, 7: 31.09, 8: 32.45, 9: 33.42, 10: 32.83, 11: 32.93, 12: 32.43, 13: 32.33, 14: 32.19, 15: 32.16, 16: 32.37, 17: 32.86, 18: 43.64, 19: 42.36, 20: 36.5, 21: 33.17, 22: 32.37, 23: 31.12, 24: 30.11}\n"
     ]
    }
   ],
   "source": [
    "# Alternatively, can also run the code directly from the imported functions:\n",
    "input_data_PV = read_excel_data('data/PV_spec.xlsx')\n",
    "input_data_Irr = read_irr_data('data/Data_solar_irr_NOR.csv')\n",
    "input_data_market = read_csv_data('data/Market_price.csv')\n",
    "\n",
    "# Calculate PV power production \n",
    "PV_power = pv_power_estimated(input_data_PV,input_data_Irr)\n",
    "\n",
    "# Generate a plot of the irradiance and PV production data (data, time resolution, color)\n",
    "plot_irr(input_data_Irr, 'H', 'purple')\n",
    "plot_PVcalc(PV_power, 'H', 'orange')\n",
    "plot_market(input_data_market, 'H', 'green')"
   ]
  },
  {
   "cell_type": "markdown",
   "metadata": {},
   "source": [
    "## Work space"
   ]
  },
  {
   "cell_type": "code",
   "execution_count": 2,
   "metadata": {},
   "outputs": [
    {
     "name": "stdout",
     "output_type": "stream",
     "text": [
      "{0: {'A': 1, 'B': 4}, 1: {'A': 2, 'B': 5}, 2: {'A': 3, 'B': 6}}\n"
     ]
    }
   ],
   "source": [
    "import pandas as pd\n",
    "\n",
    "# Sample DataFrame\n",
    "data = {'A': [1, 2, 3], 'B': [4, 5, 6]}\n",
    "df = pd.DataFrame(data)\n",
    "\n",
    "# Create an empty dictionary\n",
    "dictionary = {}\n",
    "\n",
    "# Loop through the DataFrame indices and values\n",
    "for index, row in df.iterrows():\n",
    "    dictionary[index] = row.to_dict()\n",
    "\n",
    "print(dictionary)"
   ]
  },
  {
   "cell_type": "code",
   "execution_count": null,
   "metadata": {},
   "outputs": [],
   "source": []
  },
  {
   "cell_type": "markdown",
   "metadata": {},
   "source": [
    "- Oscar"
   ]
  },
  {
   "cell_type": "code",
   "execution_count": 4,
   "metadata": {},
   "outputs": [
    {
     "name": "stdout",
     "output_type": "stream",
     "text": [
      "32.127199999999995\n"
     ]
    }
   ],
   "source": [
    "input_data_market = read_csv_data('data/Market_price.csv')\n",
    "input_data_PV = read_excel_data('data/PV_spec.xlsx')\n",
    "input_data_Irr = read_irr_data('data/Data_solar_irr_NOR.csv')\n",
    "PV_power = pv_power_estimated(input_data_PV,input_data_Irr)\n",
    "\n",
    "test=convert_to_dict(input_data_market, '2018-01-30', '2018-01-31', 'H')\n",
    "test2=convert_to_dict(PV_power, '2018-05-28', '2018-05-28', 'H')\n",
    "mean=average_value(test)\n",
    "print(mean)"
   ]
  },
  {
   "cell_type": "code",
   "execution_count": null,
   "metadata": {},
   "outputs": [],
   "source": []
  }
 ],
 "metadata": {
  "kernelspec": {
   "display_name": "base",
   "language": "python",
   "name": "python3"
  },
  "language_info": {
   "codemirror_mode": {
    "name": "ipython",
    "version": 3
   },
   "file_extension": ".py",
   "mimetype": "text/x-python",
   "name": "python",
   "nbconvert_exporter": "python",
   "pygments_lexer": "ipython3",
   "version": "3.11.4"
  },
  "orig_nbformat": 4
 },
 "nbformat": 4,
 "nbformat_minor": 2
}
