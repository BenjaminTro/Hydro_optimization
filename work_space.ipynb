{
 "cells": [
  {
   "cell_type": "code",
   "execution_count": 1,
   "metadata": {},
   "outputs": [],
   "source": [
    "#Import relevant python files\n",
    "from calculations.data_processor import * #read_excel_data, read_csv_data, perform_calculation , * means importing ALL code within, but may cause namespace clutter!!\n",
    "from calculations.datahandling import *\n",
    "from plotting.plot_generator import * #plot_irr, plot_PVcalc\n"
   ]
  },
  {
   "cell_type": "markdown",
   "metadata": {},
   "source": [
    "## Plotting results and running code"
   ]
  },
  {
   "cell_type": "code",
   "execution_count": 2,
   "metadata": {},
   "outputs": [
    {
     "name": "stdout",
     "output_type": "stream",
     "text": [
      "{1: 27.96, 2: 27.76, 3: 27.4, 4: 27.54, 5: 27.88, 6: 28.7, 7: 31.09, 8: 32.45, 9: 33.42, 10: 32.83, 11: 32.93, 12: 32.43, 13: 32.33, 14: 32.19, 15: 32.16, 16: 32.37, 17: 32.86, 18: 43.64, 19: 42.36, 20: 36.5, 21: 33.17, 22: 32.37, 23: 31.12, 24: 30.11}\n"
     ]
    }
   ],
   "source": [
    "# Alternatively, can also run the code directly from the imported functions:\n",
    "input_data_PV = read_excel_data('data/PV_spec.xlsx')\n",
    "input_data_Irr = read_irr_data('data/Data_solar_irr_NOR.csv')\n",
    "input_data_market = read_csv_data('data/Market_price.csv')\n",
    "\n",
    "# Calculate PV power production \n",
    "PV_power = pv_power_estimated(input_data_PV,input_data_Irr)\n",
    "\n",
    "# Generate a plot of the irradiance and PV production data (data, time resolution, color)\n",
    "plot_irr(input_data_Irr, 'H', 'purple')\n",
    "plot_PVcalc(PV_power, 'H', 'orange')\n",
    "plot_market(input_data_market, 'H', 'green')"
   ]
  },
  {
   "cell_type": "markdown",
   "metadata": {},
   "source": [
    "## Work space"
   ]
  },
  {
   "cell_type": "code",
   "execution_count": 2,
   "metadata": {},
   "outputs": [
    {
     "name": "stdout",
     "output_type": "stream",
     "text": [
      "{0: {'A': 1, 'B': 4}, 1: {'A': 2, 'B': 5}, 2: {'A': 3, 'B': 6}}\n"
     ]
    }
   ],
   "source": [
    "\n",
    "\n",
    "# Sample DataFrame\n",
    "data = {'A': [1, 2, 3], 'B': [4, 5, 6]}\n",
    "df = pd.DataFrame(data)\n",
    "\n",
    "# Create an empty dictionary\n",
    "dictionary = {}\n",
    "\n",
    "# Loop through the DataFrame indices and values\n",
    "for index, row in df.iterrows():\n",
    "    dictionary[index] = row.to_dict()\n",
    "\n",
    "print(dictionary)"
   ]
  },
  {
   "cell_type": "code",
   "execution_count": null,
   "metadata": {},
   "outputs": [],
   "source": []
  },
  {
   "cell_type": "markdown",
   "metadata": {},
   "source": [
    "- Oscar"
   ]
  },
  {
   "cell_type": "code",
   "execution_count": 4,
   "metadata": {},
   "outputs": [
    {
     "name": "stdout",
     "output_type": "stream",
     "text": [
      "{1: [0.0, 0.0, 0.0], 2: [0.0, 0.0, 0.0], 3: [0.0, 0.0, 0.0], 4: [0.33552792000000004, 0.22368528000000001, 0.11184264000000001], 5: [0.81493776, 0.54329184, 0.27164592], 6: [3.76746552, 2.51164368, 1.25582184], 7: [6.12146808, 4.08097872, 2.04048936], 8: [8.8569936, 5.904662399999999, 2.9523311999999997], 9: [10.595370240000001, 7.063580160000001, 3.5317900800000004], 10: [23.170885919999996, 15.447257279999997, 7.7236286399999985], 11: [19.162830960000004, 12.775220640000002, 6.387610320000001], 12: [15.461409599999996, 10.307606399999997, 5.153803199999999], 13: [14.68185264, 9.78790176, 4.89395088], 14: [13.08617856, 8.72411904, 4.36205952], 15: [33.96379896, 22.64253264, 11.32126632], 16: [26.647639199999997, 17.765092799999998, 8.882546399999999], 17: [12.846178799999997, 8.564119199999999, 4.282059599999999], 18: [6.4835316, 4.3223544, 2.1611772], 19: [2.73257712, 1.8217180800000001, 0.9108590400000001], 20: [0.33552792000000004, 0.22368528000000001, 0.11184264000000001], 21: [0.0, 0.0, 0.0], 22: [0.0, 0.0, 0.0], 23: [0.0, 0.0, 0.0], 24: [0.0, 0.0, 0.0]}\n"
     ]
    }
   ],
   "source": [
    "\n",
    "start_date='2018-05-28 00:00'\n",
    "end_date='2018-05-28 23:00'\n",
    "\n",
    "\n",
    "input_data_PV = read_excel_data('data/PV_spec.xlsx')\n",
    "input_data_Irr = read_irr_data('data/Data_solar_irr_NOR.csv')\n",
    "PV_power = pv_power_estimated(input_data_PV,input_data_Irr)\n",
    "Solar_1=convert_to_dict(PV_power, start_date, end_date, 'H')\n",
    "Solar_p=scale_dict(Solar_1, 10)\n",
    "\n",
    "\n",
    "\n",
    "\n",
    "def InputData(data_file):\n",
    "    inputdata = pd.read_excel(data_file)\n",
    "    inputdata = inputdata.set_index('Parameter', drop=True)\n",
    "    inputdata = inputdata.transpose()\n",
    "    data = {}\n",
    "    data['hydroprod'] = inputdata[['Ci', 'yi', 'P_min', 'P_max']].drop('Solar')\n",
    "    data['solar']=inputdata[['Ci', 'yi', 'P_min', 'P_max']].drop('Hydro1').drop('Hydro2')\n",
    "    return data\n",
    "data=InputData('data/Parameters.xlsx')\n",
    "Phi_min=data['hydroprod']['P_max']\n",
    "\n",
    "#test3=scale_dict(test2, 10)\n",
    "#test4=scale_dict(test2, 8)\n",
    "#test5=scale_dict(test2, 12)\n",
    "\n",
    "def stack_dicts(dict1, dict2, dict3):\n",
    "    stacked_dict = {k: [dict1[k], dict2[k], dict3[k]] for k in dict1}\n",
    "    return stacked_dict\n",
    "\n",
    "# Example dictionaries with the same keys\n",
    "#stacked_result = stack_dicts(test5, test3, test4)\n",
    "\n",
    "solar_h=scale_dict(Solar_p, 1.5)\n",
    "solar_a=scale_dict(Solar_p, 1)\n",
    "solar_l=scale_dict(Solar_p, 0.5)\n",
    "\n",
    "stacked=stack_dicts(solar_h, solar_a, solar_l)\n",
    "print(stacked)\n",
    "\n",
    "\n",
    "\n",
    "\n"
   ]
  },
  {
   "cell_type": "code",
   "execution_count": null,
   "metadata": {},
   "outputs": [],
   "source": []
  }
 ],
 "metadata": {
  "kernelspec": {
   "display_name": "base",
   "language": "python",
   "name": "python3"
  },
  "language_info": {
   "codemirror_mode": {
    "name": "ipython",
    "version": 3
   },
   "file_extension": ".py",
   "mimetype": "text/x-python",
   "name": "python",
   "nbconvert_exporter": "python",
   "pygments_lexer": "ipython3",
   "version": "3.11.4"
  },
  "orig_nbformat": 4
 },
 "nbformat": 4,
 "nbformat_minor": 2
}
