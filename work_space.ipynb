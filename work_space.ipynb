{
 "cells": [
  {
   "cell_type": "code",
   "execution_count": 1,
   "metadata": {},
   "outputs": [],
   "source": [
    "#Import relevant python files\n",
    "from calculations.data_processor import * #read_excel_data, read_csv_data, perform_calculation , * means importing ALL code within, but may cause namespace clutter!!\n",
    "from calculations.datahandling import *\n",
    "from plotting.plot_generator import * #plot_irr, plot_PVcalc"
   ]
  },
  {
   "cell_type": "markdown",
   "metadata": {},
   "source": [
    "## Plotting results and running code"
   ]
  },
  {
   "cell_type": "code",
   "execution_count": 2,
   "metadata": {},
   "outputs": [
    {
     "data": {
      "application/vnd.plotly.v1+json": {
       "config": {
        "plotlyServerURL": "https://plot.ly"
       },
       "data": [
        {
         "hovertemplate": "index=%{x}<br>G(i)=%{y}<extra></extra>",
         "legendgroup": "",
         "line": {
          "color": "purple",
          "dash": "solid"
         },
         "marker": {
          "symbol": "circle"
         },
         "mode": "lines",
         "name": "",
         "orientation": "v",
         "showlegend": false,
         "type": "scatter",
         "x": [
          "2018-05-28T00:00:00",
          "2018-05-28T01:00:00",
          "2018-05-28T02:00:00",
          "2018-05-28T03:00:00",
          "2018-05-28T04:00:00",
          "2018-05-28T05:00:00",
          "2018-05-28T06:00:00",
          "2018-05-28T07:00:00",
          "2018-05-28T08:00:00",
          "2018-05-28T09:00:00",
          "2018-05-28T10:00:00",
          "2018-05-28T11:00:00",
          "2018-05-28T12:00:00",
          "2018-05-28T13:00:00",
          "2018-05-28T14:00:00",
          "2018-05-28T15:00:00",
          "2018-05-28T16:00:00",
          "2018-05-28T17:00:00",
          "2018-05-28T18:00:00",
          "2018-05-28T19:00:00",
          "2018-05-28T20:00:00",
          "2018-05-28T21:00:00",
          "2018-05-28T22:00:00",
          "2018-05-28T23:00:00"
         ],
         "xaxis": "x",
         "y": [
          0,
          0,
          0,
          5.69,
          13.82,
          63.89,
          103.81,
          150.2,
          179.68,
          392.94,
          324.97,
          262.2,
          248.98,
          221.92,
          575.97,
          451.9,
          217.85,
          109.95,
          46.34,
          5.69,
          0,
          0,
          0,
          0
         ],
         "yaxis": "y"
        }
       ],
       "layout": {
        "legend": {
         "tracegroupgap": 0
        },
        "template": {
         "data": {
          "bar": [
           {
            "error_x": {
             "color": "#2a3f5f"
            },
            "error_y": {
             "color": "#2a3f5f"
            },
            "marker": {
             "line": {
              "color": "#E5ECF6",
              "width": 0.5
             },
             "pattern": {
              "fillmode": "overlay",
              "size": 10,
              "solidity": 0.2
             }
            },
            "type": "bar"
           }
          ],
          "barpolar": [
           {
            "marker": {
             "line": {
              "color": "#E5ECF6",
              "width": 0.5
             },
             "pattern": {
              "fillmode": "overlay",
              "size": 10,
              "solidity": 0.2
             }
            },
            "type": "barpolar"
           }
          ],
          "carpet": [
           {
            "aaxis": {
             "endlinecolor": "#2a3f5f",
             "gridcolor": "white",
             "linecolor": "white",
             "minorgridcolor": "white",
             "startlinecolor": "#2a3f5f"
            },
            "baxis": {
             "endlinecolor": "#2a3f5f",
             "gridcolor": "white",
             "linecolor": "white",
             "minorgridcolor": "white",
             "startlinecolor": "#2a3f5f"
            },
            "type": "carpet"
           }
          ],
          "choropleth": [
           {
            "colorbar": {
             "outlinewidth": 0,
             "ticks": ""
            },
            "type": "choropleth"
           }
          ],
          "contour": [
           {
            "colorbar": {
             "outlinewidth": 0,
             "ticks": ""
            },
            "colorscale": [
             [
              0,
              "#0d0887"
             ],
             [
              0.1111111111111111,
              "#46039f"
             ],
             [
              0.2222222222222222,
              "#7201a8"
             ],
             [
              0.3333333333333333,
              "#9c179e"
             ],
             [
              0.4444444444444444,
              "#bd3786"
             ],
             [
              0.5555555555555556,
              "#d8576b"
             ],
             [
              0.6666666666666666,
              "#ed7953"
             ],
             [
              0.7777777777777778,
              "#fb9f3a"
             ],
             [
              0.8888888888888888,
              "#fdca26"
             ],
             [
              1,
              "#f0f921"
             ]
            ],
            "type": "contour"
           }
          ],
          "contourcarpet": [
           {
            "colorbar": {
             "outlinewidth": 0,
             "ticks": ""
            },
            "type": "contourcarpet"
           }
          ],
          "heatmap": [
           {
            "colorbar": {
             "outlinewidth": 0,
             "ticks": ""
            },
            "colorscale": [
             [
              0,
              "#0d0887"
             ],
             [
              0.1111111111111111,
              "#46039f"
             ],
             [
              0.2222222222222222,
              "#7201a8"
             ],
             [
              0.3333333333333333,
              "#9c179e"
             ],
             [
              0.4444444444444444,
              "#bd3786"
             ],
             [
              0.5555555555555556,
              "#d8576b"
             ],
             [
              0.6666666666666666,
              "#ed7953"
             ],
             [
              0.7777777777777778,
              "#fb9f3a"
             ],
             [
              0.8888888888888888,
              "#fdca26"
             ],
             [
              1,
              "#f0f921"
             ]
            ],
            "type": "heatmap"
           }
          ],
          "heatmapgl": [
           {
            "colorbar": {
             "outlinewidth": 0,
             "ticks": ""
            },
            "colorscale": [
             [
              0,
              "#0d0887"
             ],
             [
              0.1111111111111111,
              "#46039f"
             ],
             [
              0.2222222222222222,
              "#7201a8"
             ],
             [
              0.3333333333333333,
              "#9c179e"
             ],
             [
              0.4444444444444444,
              "#bd3786"
             ],
             [
              0.5555555555555556,
              "#d8576b"
             ],
             [
              0.6666666666666666,
              "#ed7953"
             ],
             [
              0.7777777777777778,
              "#fb9f3a"
             ],
             [
              0.8888888888888888,
              "#fdca26"
             ],
             [
              1,
              "#f0f921"
             ]
            ],
            "type": "heatmapgl"
           }
          ],
          "histogram": [
           {
            "marker": {
             "pattern": {
              "fillmode": "overlay",
              "size": 10,
              "solidity": 0.2
             }
            },
            "type": "histogram"
           }
          ],
          "histogram2d": [
           {
            "colorbar": {
             "outlinewidth": 0,
             "ticks": ""
            },
            "colorscale": [
             [
              0,
              "#0d0887"
             ],
             [
              0.1111111111111111,
              "#46039f"
             ],
             [
              0.2222222222222222,
              "#7201a8"
             ],
             [
              0.3333333333333333,
              "#9c179e"
             ],
             [
              0.4444444444444444,
              "#bd3786"
             ],
             [
              0.5555555555555556,
              "#d8576b"
             ],
             [
              0.6666666666666666,
              "#ed7953"
             ],
             [
              0.7777777777777778,
              "#fb9f3a"
             ],
             [
              0.8888888888888888,
              "#fdca26"
             ],
             [
              1,
              "#f0f921"
             ]
            ],
            "type": "histogram2d"
           }
          ],
          "histogram2dcontour": [
           {
            "colorbar": {
             "outlinewidth": 0,
             "ticks": ""
            },
            "colorscale": [
             [
              0,
              "#0d0887"
             ],
             [
              0.1111111111111111,
              "#46039f"
             ],
             [
              0.2222222222222222,
              "#7201a8"
             ],
             [
              0.3333333333333333,
              "#9c179e"
             ],
             [
              0.4444444444444444,
              "#bd3786"
             ],
             [
              0.5555555555555556,
              "#d8576b"
             ],
             [
              0.6666666666666666,
              "#ed7953"
             ],
             [
              0.7777777777777778,
              "#fb9f3a"
             ],
             [
              0.8888888888888888,
              "#fdca26"
             ],
             [
              1,
              "#f0f921"
             ]
            ],
            "type": "histogram2dcontour"
           }
          ],
          "mesh3d": [
           {
            "colorbar": {
             "outlinewidth": 0,
             "ticks": ""
            },
            "type": "mesh3d"
           }
          ],
          "parcoords": [
           {
            "line": {
             "colorbar": {
              "outlinewidth": 0,
              "ticks": ""
             }
            },
            "type": "parcoords"
           }
          ],
          "pie": [
           {
            "automargin": true,
            "type": "pie"
           }
          ],
          "scatter": [
           {
            "marker": {
             "colorbar": {
              "outlinewidth": 0,
              "ticks": ""
             }
            },
            "type": "scatter"
           }
          ],
          "scatter3d": [
           {
            "line": {
             "colorbar": {
              "outlinewidth": 0,
              "ticks": ""
             }
            },
            "marker": {
             "colorbar": {
              "outlinewidth": 0,
              "ticks": ""
             }
            },
            "type": "scatter3d"
           }
          ],
          "scattercarpet": [
           {
            "marker": {
             "colorbar": {
              "outlinewidth": 0,
              "ticks": ""
             }
            },
            "type": "scattercarpet"
           }
          ],
          "scattergeo": [
           {
            "marker": {
             "colorbar": {
              "outlinewidth": 0,
              "ticks": ""
             }
            },
            "type": "scattergeo"
           }
          ],
          "scattergl": [
           {
            "marker": {
             "colorbar": {
              "outlinewidth": 0,
              "ticks": ""
             }
            },
            "type": "scattergl"
           }
          ],
          "scattermapbox": [
           {
            "marker": {
             "colorbar": {
              "outlinewidth": 0,
              "ticks": ""
             }
            },
            "type": "scattermapbox"
           }
          ],
          "scatterpolar": [
           {
            "marker": {
             "colorbar": {
              "outlinewidth": 0,
              "ticks": ""
             }
            },
            "type": "scatterpolar"
           }
          ],
          "scatterpolargl": [
           {
            "marker": {
             "colorbar": {
              "outlinewidth": 0,
              "ticks": ""
             }
            },
            "type": "scatterpolargl"
           }
          ],
          "scatterternary": [
           {
            "marker": {
             "colorbar": {
              "outlinewidth": 0,
              "ticks": ""
             }
            },
            "type": "scatterternary"
           }
          ],
          "surface": [
           {
            "colorbar": {
             "outlinewidth": 0,
             "ticks": ""
            },
            "colorscale": [
             [
              0,
              "#0d0887"
             ],
             [
              0.1111111111111111,
              "#46039f"
             ],
             [
              0.2222222222222222,
              "#7201a8"
             ],
             [
              0.3333333333333333,
              "#9c179e"
             ],
             [
              0.4444444444444444,
              "#bd3786"
             ],
             [
              0.5555555555555556,
              "#d8576b"
             ],
             [
              0.6666666666666666,
              "#ed7953"
             ],
             [
              0.7777777777777778,
              "#fb9f3a"
             ],
             [
              0.8888888888888888,
              "#fdca26"
             ],
             [
              1,
              "#f0f921"
             ]
            ],
            "type": "surface"
           }
          ],
          "table": [
           {
            "cells": {
             "fill": {
              "color": "#EBF0F8"
             },
             "line": {
              "color": "white"
             }
            },
            "header": {
             "fill": {
              "color": "#C8D4E3"
             },
             "line": {
              "color": "white"
             }
            },
            "type": "table"
           }
          ]
         },
         "layout": {
          "annotationdefaults": {
           "arrowcolor": "#2a3f5f",
           "arrowhead": 0,
           "arrowwidth": 1
          },
          "autotypenumbers": "strict",
          "coloraxis": {
           "colorbar": {
            "outlinewidth": 0,
            "ticks": ""
           }
          },
          "colorscale": {
           "diverging": [
            [
             0,
             "#8e0152"
            ],
            [
             0.1,
             "#c51b7d"
            ],
            [
             0.2,
             "#de77ae"
            ],
            [
             0.3,
             "#f1b6da"
            ],
            [
             0.4,
             "#fde0ef"
            ],
            [
             0.5,
             "#f7f7f7"
            ],
            [
             0.6,
             "#e6f5d0"
            ],
            [
             0.7,
             "#b8e186"
            ],
            [
             0.8,
             "#7fbc41"
            ],
            [
             0.9,
             "#4d9221"
            ],
            [
             1,
             "#276419"
            ]
           ],
           "sequential": [
            [
             0,
             "#0d0887"
            ],
            [
             0.1111111111111111,
             "#46039f"
            ],
            [
             0.2222222222222222,
             "#7201a8"
            ],
            [
             0.3333333333333333,
             "#9c179e"
            ],
            [
             0.4444444444444444,
             "#bd3786"
            ],
            [
             0.5555555555555556,
             "#d8576b"
            ],
            [
             0.6666666666666666,
             "#ed7953"
            ],
            [
             0.7777777777777778,
             "#fb9f3a"
            ],
            [
             0.8888888888888888,
             "#fdca26"
            ],
            [
             1,
             "#f0f921"
            ]
           ],
           "sequentialminus": [
            [
             0,
             "#0d0887"
            ],
            [
             0.1111111111111111,
             "#46039f"
            ],
            [
             0.2222222222222222,
             "#7201a8"
            ],
            [
             0.3333333333333333,
             "#9c179e"
            ],
            [
             0.4444444444444444,
             "#bd3786"
            ],
            [
             0.5555555555555556,
             "#d8576b"
            ],
            [
             0.6666666666666666,
             "#ed7953"
            ],
            [
             0.7777777777777778,
             "#fb9f3a"
            ],
            [
             0.8888888888888888,
             "#fdca26"
            ],
            [
             1,
             "#f0f921"
            ]
           ]
          },
          "colorway": [
           "#636efa",
           "#EF553B",
           "#00cc96",
           "#ab63fa",
           "#FFA15A",
           "#19d3f3",
           "#FF6692",
           "#B6E880",
           "#FF97FF",
           "#FECB52"
          ],
          "font": {
           "color": "#2a3f5f"
          },
          "geo": {
           "bgcolor": "white",
           "lakecolor": "white",
           "landcolor": "#E5ECF6",
           "showlakes": true,
           "showland": true,
           "subunitcolor": "white"
          },
          "hoverlabel": {
           "align": "left"
          },
          "hovermode": "closest",
          "mapbox": {
           "style": "light"
          },
          "paper_bgcolor": "white",
          "plot_bgcolor": "#E5ECF6",
          "polar": {
           "angularaxis": {
            "gridcolor": "white",
            "linecolor": "white",
            "ticks": ""
           },
           "bgcolor": "#E5ECF6",
           "radialaxis": {
            "gridcolor": "white",
            "linecolor": "white",
            "ticks": ""
           }
          },
          "scene": {
           "xaxis": {
            "backgroundcolor": "#E5ECF6",
            "gridcolor": "white",
            "gridwidth": 2,
            "linecolor": "white",
            "showbackground": true,
            "ticks": "",
            "zerolinecolor": "white"
           },
           "yaxis": {
            "backgroundcolor": "#E5ECF6",
            "gridcolor": "white",
            "gridwidth": 2,
            "linecolor": "white",
            "showbackground": true,
            "ticks": "",
            "zerolinecolor": "white"
           },
           "zaxis": {
            "backgroundcolor": "#E5ECF6",
            "gridcolor": "white",
            "gridwidth": 2,
            "linecolor": "white",
            "showbackground": true,
            "ticks": "",
            "zerolinecolor": "white"
           }
          },
          "shapedefaults": {
           "line": {
            "color": "#2a3f5f"
           }
          },
          "ternary": {
           "aaxis": {
            "gridcolor": "white",
            "linecolor": "white",
            "ticks": ""
           },
           "baxis": {
            "gridcolor": "white",
            "linecolor": "white",
            "ticks": ""
           },
           "bgcolor": "#E5ECF6",
           "caxis": {
            "gridcolor": "white",
            "linecolor": "white",
            "ticks": ""
           }
          },
          "title": {
           "x": 0.05
          },
          "xaxis": {
           "automargin": true,
           "gridcolor": "white",
           "linecolor": "white",
           "ticks": "",
           "title": {
            "standoff": 15
           },
           "zerolinecolor": "white",
           "zerolinewidth": 2
          },
          "yaxis": {
           "automargin": true,
           "gridcolor": "white",
           "linecolor": "white",
           "ticks": "",
           "title": {
            "standoff": 15
           },
           "zerolinecolor": "white",
           "zerolinewidth": 2
          }
         }
        },
        "title": {
         "text": "Irradiance Data"
        },
        "xaxis": {
         "anchor": "y",
         "domain": [
          0,
          1
         ],
         "title": {
          "text": "Time"
         }
        },
        "yaxis": {
         "anchor": "x",
         "domain": [
          0,
          1
         ],
         "title": {
          "text": "Irradiance (W/m^2)"
         }
        }
       }
      }
     },
     "metadata": {},
     "output_type": "display_data"
    },
    {
     "data": {
      "application/vnd.plotly.v1+json": {
       "config": {
        "plotlyServerURL": "https://plot.ly"
       },
       "data": [
        {
         "hovertemplate": "index=%{x}<br>PV_power=%{y}<extra></extra>",
         "legendgroup": "",
         "line": {
          "color": "orange",
          "dash": "solid"
         },
         "marker": {
          "symbol": "circle"
         },
         "mode": "lines",
         "name": "",
         "orientation": "v",
         "showlegend": false,
         "type": "scatter",
         "x": [
          "2018-05-28T00:00:00",
          "2018-05-28T01:00:00",
          "2018-05-28T02:00:00",
          "2018-05-28T03:00:00",
          "2018-05-28T04:00:00",
          "2018-05-28T05:00:00",
          "2018-05-28T06:00:00",
          "2018-05-28T07:00:00",
          "2018-05-28T08:00:00",
          "2018-05-28T09:00:00",
          "2018-05-28T10:00:00",
          "2018-05-28T11:00:00",
          "2018-05-28T12:00:00",
          "2018-05-28T13:00:00",
          "2018-05-28T14:00:00",
          "2018-05-28T15:00:00",
          "2018-05-28T16:00:00",
          "2018-05-28T17:00:00",
          "2018-05-28T18:00:00",
          "2018-05-28T19:00:00",
          "2018-05-28T20:00:00",
          "2018-05-28T21:00:00",
          "2018-05-28T22:00:00",
          "2018-05-28T23:00:00"
         ],
         "xaxis": "x",
         "y": [
          0,
          0,
          0,
          0.022368528000000002,
          0.054329183999999996,
          0.251164368,
          0.40809787200000003,
          0.5904662399999999,
          0.706358016,
          1.5447257279999997,
          1.2775220640000002,
          1.0307606399999998,
          0.978790176,
          0.8724119039999999,
          2.2642532639999997,
          1.77650928,
          0.8564119199999999,
          0.43223544,
          0.18217180800000002,
          0.022368528000000002,
          0,
          0,
          0,
          0
         ],
         "yaxis": "y"
        }
       ],
       "layout": {
        "legend": {
         "tracegroupgap": 0
        },
        "template": {
         "data": {
          "bar": [
           {
            "error_x": {
             "color": "#2a3f5f"
            },
            "error_y": {
             "color": "#2a3f5f"
            },
            "marker": {
             "line": {
              "color": "#E5ECF6",
              "width": 0.5
             },
             "pattern": {
              "fillmode": "overlay",
              "size": 10,
              "solidity": 0.2
             }
            },
            "type": "bar"
           }
          ],
          "barpolar": [
           {
            "marker": {
             "line": {
              "color": "#E5ECF6",
              "width": 0.5
             },
             "pattern": {
              "fillmode": "overlay",
              "size": 10,
              "solidity": 0.2
             }
            },
            "type": "barpolar"
           }
          ],
          "carpet": [
           {
            "aaxis": {
             "endlinecolor": "#2a3f5f",
             "gridcolor": "white",
             "linecolor": "white",
             "minorgridcolor": "white",
             "startlinecolor": "#2a3f5f"
            },
            "baxis": {
             "endlinecolor": "#2a3f5f",
             "gridcolor": "white",
             "linecolor": "white",
             "minorgridcolor": "white",
             "startlinecolor": "#2a3f5f"
            },
            "type": "carpet"
           }
          ],
          "choropleth": [
           {
            "colorbar": {
             "outlinewidth": 0,
             "ticks": ""
            },
            "type": "choropleth"
           }
          ],
          "contour": [
           {
            "colorbar": {
             "outlinewidth": 0,
             "ticks": ""
            },
            "colorscale": [
             [
              0,
              "#0d0887"
             ],
             [
              0.1111111111111111,
              "#46039f"
             ],
             [
              0.2222222222222222,
              "#7201a8"
             ],
             [
              0.3333333333333333,
              "#9c179e"
             ],
             [
              0.4444444444444444,
              "#bd3786"
             ],
             [
              0.5555555555555556,
              "#d8576b"
             ],
             [
              0.6666666666666666,
              "#ed7953"
             ],
             [
              0.7777777777777778,
              "#fb9f3a"
             ],
             [
              0.8888888888888888,
              "#fdca26"
             ],
             [
              1,
              "#f0f921"
             ]
            ],
            "type": "contour"
           }
          ],
          "contourcarpet": [
           {
            "colorbar": {
             "outlinewidth": 0,
             "ticks": ""
            },
            "type": "contourcarpet"
           }
          ],
          "heatmap": [
           {
            "colorbar": {
             "outlinewidth": 0,
             "ticks": ""
            },
            "colorscale": [
             [
              0,
              "#0d0887"
             ],
             [
              0.1111111111111111,
              "#46039f"
             ],
             [
              0.2222222222222222,
              "#7201a8"
             ],
             [
              0.3333333333333333,
              "#9c179e"
             ],
             [
              0.4444444444444444,
              "#bd3786"
             ],
             [
              0.5555555555555556,
              "#d8576b"
             ],
             [
              0.6666666666666666,
              "#ed7953"
             ],
             [
              0.7777777777777778,
              "#fb9f3a"
             ],
             [
              0.8888888888888888,
              "#fdca26"
             ],
             [
              1,
              "#f0f921"
             ]
            ],
            "type": "heatmap"
           }
          ],
          "heatmapgl": [
           {
            "colorbar": {
             "outlinewidth": 0,
             "ticks": ""
            },
            "colorscale": [
             [
              0,
              "#0d0887"
             ],
             [
              0.1111111111111111,
              "#46039f"
             ],
             [
              0.2222222222222222,
              "#7201a8"
             ],
             [
              0.3333333333333333,
              "#9c179e"
             ],
             [
              0.4444444444444444,
              "#bd3786"
             ],
             [
              0.5555555555555556,
              "#d8576b"
             ],
             [
              0.6666666666666666,
              "#ed7953"
             ],
             [
              0.7777777777777778,
              "#fb9f3a"
             ],
             [
              0.8888888888888888,
              "#fdca26"
             ],
             [
              1,
              "#f0f921"
             ]
            ],
            "type": "heatmapgl"
           }
          ],
          "histogram": [
           {
            "marker": {
             "pattern": {
              "fillmode": "overlay",
              "size": 10,
              "solidity": 0.2
             }
            },
            "type": "histogram"
           }
          ],
          "histogram2d": [
           {
            "colorbar": {
             "outlinewidth": 0,
             "ticks": ""
            },
            "colorscale": [
             [
              0,
              "#0d0887"
             ],
             [
              0.1111111111111111,
              "#46039f"
             ],
             [
              0.2222222222222222,
              "#7201a8"
             ],
             [
              0.3333333333333333,
              "#9c179e"
             ],
             [
              0.4444444444444444,
              "#bd3786"
             ],
             [
              0.5555555555555556,
              "#d8576b"
             ],
             [
              0.6666666666666666,
              "#ed7953"
             ],
             [
              0.7777777777777778,
              "#fb9f3a"
             ],
             [
              0.8888888888888888,
              "#fdca26"
             ],
             [
              1,
              "#f0f921"
             ]
            ],
            "type": "histogram2d"
           }
          ],
          "histogram2dcontour": [
           {
            "colorbar": {
             "outlinewidth": 0,
             "ticks": ""
            },
            "colorscale": [
             [
              0,
              "#0d0887"
             ],
             [
              0.1111111111111111,
              "#46039f"
             ],
             [
              0.2222222222222222,
              "#7201a8"
             ],
             [
              0.3333333333333333,
              "#9c179e"
             ],
             [
              0.4444444444444444,
              "#bd3786"
             ],
             [
              0.5555555555555556,
              "#d8576b"
             ],
             [
              0.6666666666666666,
              "#ed7953"
             ],
             [
              0.7777777777777778,
              "#fb9f3a"
             ],
             [
              0.8888888888888888,
              "#fdca26"
             ],
             [
              1,
              "#f0f921"
             ]
            ],
            "type": "histogram2dcontour"
           }
          ],
          "mesh3d": [
           {
            "colorbar": {
             "outlinewidth": 0,
             "ticks": ""
            },
            "type": "mesh3d"
           }
          ],
          "parcoords": [
           {
            "line": {
             "colorbar": {
              "outlinewidth": 0,
              "ticks": ""
             }
            },
            "type": "parcoords"
           }
          ],
          "pie": [
           {
            "automargin": true,
            "type": "pie"
           }
          ],
          "scatter": [
           {
            "marker": {
             "colorbar": {
              "outlinewidth": 0,
              "ticks": ""
             }
            },
            "type": "scatter"
           }
          ],
          "scatter3d": [
           {
            "line": {
             "colorbar": {
              "outlinewidth": 0,
              "ticks": ""
             }
            },
            "marker": {
             "colorbar": {
              "outlinewidth": 0,
              "ticks": ""
             }
            },
            "type": "scatter3d"
           }
          ],
          "scattercarpet": [
           {
            "marker": {
             "colorbar": {
              "outlinewidth": 0,
              "ticks": ""
             }
            },
            "type": "scattercarpet"
           }
          ],
          "scattergeo": [
           {
            "marker": {
             "colorbar": {
              "outlinewidth": 0,
              "ticks": ""
             }
            },
            "type": "scattergeo"
           }
          ],
          "scattergl": [
           {
            "marker": {
             "colorbar": {
              "outlinewidth": 0,
              "ticks": ""
             }
            },
            "type": "scattergl"
           }
          ],
          "scattermapbox": [
           {
            "marker": {
             "colorbar": {
              "outlinewidth": 0,
              "ticks": ""
             }
            },
            "type": "scattermapbox"
           }
          ],
          "scatterpolar": [
           {
            "marker": {
             "colorbar": {
              "outlinewidth": 0,
              "ticks": ""
             }
            },
            "type": "scatterpolar"
           }
          ],
          "scatterpolargl": [
           {
            "marker": {
             "colorbar": {
              "outlinewidth": 0,
              "ticks": ""
             }
            },
            "type": "scatterpolargl"
           }
          ],
          "scatterternary": [
           {
            "marker": {
             "colorbar": {
              "outlinewidth": 0,
              "ticks": ""
             }
            },
            "type": "scatterternary"
           }
          ],
          "surface": [
           {
            "colorbar": {
             "outlinewidth": 0,
             "ticks": ""
            },
            "colorscale": [
             [
              0,
              "#0d0887"
             ],
             [
              0.1111111111111111,
              "#46039f"
             ],
             [
              0.2222222222222222,
              "#7201a8"
             ],
             [
              0.3333333333333333,
              "#9c179e"
             ],
             [
              0.4444444444444444,
              "#bd3786"
             ],
             [
              0.5555555555555556,
              "#d8576b"
             ],
             [
              0.6666666666666666,
              "#ed7953"
             ],
             [
              0.7777777777777778,
              "#fb9f3a"
             ],
             [
              0.8888888888888888,
              "#fdca26"
             ],
             [
              1,
              "#f0f921"
             ]
            ],
            "type": "surface"
           }
          ],
          "table": [
           {
            "cells": {
             "fill": {
              "color": "#EBF0F8"
             },
             "line": {
              "color": "white"
             }
            },
            "header": {
             "fill": {
              "color": "#C8D4E3"
             },
             "line": {
              "color": "white"
             }
            },
            "type": "table"
           }
          ]
         },
         "layout": {
          "annotationdefaults": {
           "arrowcolor": "#2a3f5f",
           "arrowhead": 0,
           "arrowwidth": 1
          },
          "autotypenumbers": "strict",
          "coloraxis": {
           "colorbar": {
            "outlinewidth": 0,
            "ticks": ""
           }
          },
          "colorscale": {
           "diverging": [
            [
             0,
             "#8e0152"
            ],
            [
             0.1,
             "#c51b7d"
            ],
            [
             0.2,
             "#de77ae"
            ],
            [
             0.3,
             "#f1b6da"
            ],
            [
             0.4,
             "#fde0ef"
            ],
            [
             0.5,
             "#f7f7f7"
            ],
            [
             0.6,
             "#e6f5d0"
            ],
            [
             0.7,
             "#b8e186"
            ],
            [
             0.8,
             "#7fbc41"
            ],
            [
             0.9,
             "#4d9221"
            ],
            [
             1,
             "#276419"
            ]
           ],
           "sequential": [
            [
             0,
             "#0d0887"
            ],
            [
             0.1111111111111111,
             "#46039f"
            ],
            [
             0.2222222222222222,
             "#7201a8"
            ],
            [
             0.3333333333333333,
             "#9c179e"
            ],
            [
             0.4444444444444444,
             "#bd3786"
            ],
            [
             0.5555555555555556,
             "#d8576b"
            ],
            [
             0.6666666666666666,
             "#ed7953"
            ],
            [
             0.7777777777777778,
             "#fb9f3a"
            ],
            [
             0.8888888888888888,
             "#fdca26"
            ],
            [
             1,
             "#f0f921"
            ]
           ],
           "sequentialminus": [
            [
             0,
             "#0d0887"
            ],
            [
             0.1111111111111111,
             "#46039f"
            ],
            [
             0.2222222222222222,
             "#7201a8"
            ],
            [
             0.3333333333333333,
             "#9c179e"
            ],
            [
             0.4444444444444444,
             "#bd3786"
            ],
            [
             0.5555555555555556,
             "#d8576b"
            ],
            [
             0.6666666666666666,
             "#ed7953"
            ],
            [
             0.7777777777777778,
             "#fb9f3a"
            ],
            [
             0.8888888888888888,
             "#fdca26"
            ],
            [
             1,
             "#f0f921"
            ]
           ]
          },
          "colorway": [
           "#636efa",
           "#EF553B",
           "#00cc96",
           "#ab63fa",
           "#FFA15A",
           "#19d3f3",
           "#FF6692",
           "#B6E880",
           "#FF97FF",
           "#FECB52"
          ],
          "font": {
           "color": "#2a3f5f"
          },
          "geo": {
           "bgcolor": "white",
           "lakecolor": "white",
           "landcolor": "#E5ECF6",
           "showlakes": true,
           "showland": true,
           "subunitcolor": "white"
          },
          "hoverlabel": {
           "align": "left"
          },
          "hovermode": "closest",
          "mapbox": {
           "style": "light"
          },
          "paper_bgcolor": "white",
          "plot_bgcolor": "#E5ECF6",
          "polar": {
           "angularaxis": {
            "gridcolor": "white",
            "linecolor": "white",
            "ticks": ""
           },
           "bgcolor": "#E5ECF6",
           "radialaxis": {
            "gridcolor": "white",
            "linecolor": "white",
            "ticks": ""
           }
          },
          "scene": {
           "xaxis": {
            "backgroundcolor": "#E5ECF6",
            "gridcolor": "white",
            "gridwidth": 2,
            "linecolor": "white",
            "showbackground": true,
            "ticks": "",
            "zerolinecolor": "white"
           },
           "yaxis": {
            "backgroundcolor": "#E5ECF6",
            "gridcolor": "white",
            "gridwidth": 2,
            "linecolor": "white",
            "showbackground": true,
            "ticks": "",
            "zerolinecolor": "white"
           },
           "zaxis": {
            "backgroundcolor": "#E5ECF6",
            "gridcolor": "white",
            "gridwidth": 2,
            "linecolor": "white",
            "showbackground": true,
            "ticks": "",
            "zerolinecolor": "white"
           }
          },
          "shapedefaults": {
           "line": {
            "color": "#2a3f5f"
           }
          },
          "ternary": {
           "aaxis": {
            "gridcolor": "white",
            "linecolor": "white",
            "ticks": ""
           },
           "baxis": {
            "gridcolor": "white",
            "linecolor": "white",
            "ticks": ""
           },
           "bgcolor": "#E5ECF6",
           "caxis": {
            "gridcolor": "white",
            "linecolor": "white",
            "ticks": ""
           }
          },
          "title": {
           "x": 0.05
          },
          "xaxis": {
           "automargin": true,
           "gridcolor": "white",
           "linecolor": "white",
           "ticks": "",
           "title": {
            "standoff": 15
           },
           "zerolinecolor": "white",
           "zerolinewidth": 2
          },
          "yaxis": {
           "automargin": true,
           "gridcolor": "white",
           "linecolor": "white",
           "ticks": "",
           "title": {
            "standoff": 15
           },
           "zerolinecolor": "white",
           "zerolinewidth": 2
          }
         }
        },
        "title": {
         "text": "PV Power Production"
        },
        "xaxis": {
         "anchor": "y",
         "domain": [
          0,
          1
         ],
         "title": {
          "text": "Time"
         }
        },
        "yaxis": {
         "anchor": "x",
         "domain": [
          0,
          1
         ],
         "title": {
          "text": "Power production (MW)"
         }
        }
       }
      }
     },
     "metadata": {},
     "output_type": "display_data"
    },
    {
     "data": {
      "application/vnd.plotly.v1+json": {
       "config": {
        "plotlyServerURL": "https://plot.ly"
       },
       "data": [
        {
         "hovertemplate": "Date=%{x}<br>NO3=%{y}<extra></extra>",
         "legendgroup": "",
         "line": {
          "color": "green",
          "dash": "solid"
         },
         "marker": {
          "symbol": "circle"
         },
         "mode": "lines",
         "name": "",
         "orientation": "v",
         "showlegend": false,
         "type": "scatter",
         "x": [
          "2018-05-28T00:00:00",
          "2018-05-28T01:00:00",
          "2018-05-28T02:00:00",
          "2018-05-28T03:00:00",
          "2018-05-28T04:00:00",
          "2018-05-28T05:00:00",
          "2018-05-28T06:00:00",
          "2018-05-28T07:00:00",
          "2018-05-28T08:00:00",
          "2018-05-28T09:00:00",
          "2018-05-28T10:00:00",
          "2018-05-28T11:00:00",
          "2018-05-28T12:00:00",
          "2018-05-28T13:00:00",
          "2018-05-28T14:00:00",
          "2018-05-28T15:00:00",
          "2018-05-28T16:00:00",
          "2018-05-28T17:00:00",
          "2018-05-28T18:00:00",
          "2018-05-28T19:00:00",
          "2018-05-28T20:00:00",
          "2018-05-28T21:00:00",
          "2018-05-28T22:00:00",
          "2018-05-28T23:00:00"
         ],
         "xaxis": "x",
         "y": [
          37.09,
          33.66,
          28.86,
          28.24,
          29.21,
          37.45,
          43.04,
          44.82,
          45.77,
          45.3,
          45.19,
          44.99,
          44.89,
          44.89,
          44.83,
          44.77,
          44.67,
          44.64,
          44.61,
          44.65,
          44.75,
          44.87,
          42.96,
          38.76
         ],
         "yaxis": "y"
        }
       ],
       "layout": {
        "legend": {
         "tracegroupgap": 0
        },
        "template": {
         "data": {
          "bar": [
           {
            "error_x": {
             "color": "#2a3f5f"
            },
            "error_y": {
             "color": "#2a3f5f"
            },
            "marker": {
             "line": {
              "color": "#E5ECF6",
              "width": 0.5
             },
             "pattern": {
              "fillmode": "overlay",
              "size": 10,
              "solidity": 0.2
             }
            },
            "type": "bar"
           }
          ],
          "barpolar": [
           {
            "marker": {
             "line": {
              "color": "#E5ECF6",
              "width": 0.5
             },
             "pattern": {
              "fillmode": "overlay",
              "size": 10,
              "solidity": 0.2
             }
            },
            "type": "barpolar"
           }
          ],
          "carpet": [
           {
            "aaxis": {
             "endlinecolor": "#2a3f5f",
             "gridcolor": "white",
             "linecolor": "white",
             "minorgridcolor": "white",
             "startlinecolor": "#2a3f5f"
            },
            "baxis": {
             "endlinecolor": "#2a3f5f",
             "gridcolor": "white",
             "linecolor": "white",
             "minorgridcolor": "white",
             "startlinecolor": "#2a3f5f"
            },
            "type": "carpet"
           }
          ],
          "choropleth": [
           {
            "colorbar": {
             "outlinewidth": 0,
             "ticks": ""
            },
            "type": "choropleth"
           }
          ],
          "contour": [
           {
            "colorbar": {
             "outlinewidth": 0,
             "ticks": ""
            },
            "colorscale": [
             [
              0,
              "#0d0887"
             ],
             [
              0.1111111111111111,
              "#46039f"
             ],
             [
              0.2222222222222222,
              "#7201a8"
             ],
             [
              0.3333333333333333,
              "#9c179e"
             ],
             [
              0.4444444444444444,
              "#bd3786"
             ],
             [
              0.5555555555555556,
              "#d8576b"
             ],
             [
              0.6666666666666666,
              "#ed7953"
             ],
             [
              0.7777777777777778,
              "#fb9f3a"
             ],
             [
              0.8888888888888888,
              "#fdca26"
             ],
             [
              1,
              "#f0f921"
             ]
            ],
            "type": "contour"
           }
          ],
          "contourcarpet": [
           {
            "colorbar": {
             "outlinewidth": 0,
             "ticks": ""
            },
            "type": "contourcarpet"
           }
          ],
          "heatmap": [
           {
            "colorbar": {
             "outlinewidth": 0,
             "ticks": ""
            },
            "colorscale": [
             [
              0,
              "#0d0887"
             ],
             [
              0.1111111111111111,
              "#46039f"
             ],
             [
              0.2222222222222222,
              "#7201a8"
             ],
             [
              0.3333333333333333,
              "#9c179e"
             ],
             [
              0.4444444444444444,
              "#bd3786"
             ],
             [
              0.5555555555555556,
              "#d8576b"
             ],
             [
              0.6666666666666666,
              "#ed7953"
             ],
             [
              0.7777777777777778,
              "#fb9f3a"
             ],
             [
              0.8888888888888888,
              "#fdca26"
             ],
             [
              1,
              "#f0f921"
             ]
            ],
            "type": "heatmap"
           }
          ],
          "heatmapgl": [
           {
            "colorbar": {
             "outlinewidth": 0,
             "ticks": ""
            },
            "colorscale": [
             [
              0,
              "#0d0887"
             ],
             [
              0.1111111111111111,
              "#46039f"
             ],
             [
              0.2222222222222222,
              "#7201a8"
             ],
             [
              0.3333333333333333,
              "#9c179e"
             ],
             [
              0.4444444444444444,
              "#bd3786"
             ],
             [
              0.5555555555555556,
              "#d8576b"
             ],
             [
              0.6666666666666666,
              "#ed7953"
             ],
             [
              0.7777777777777778,
              "#fb9f3a"
             ],
             [
              0.8888888888888888,
              "#fdca26"
             ],
             [
              1,
              "#f0f921"
             ]
            ],
            "type": "heatmapgl"
           }
          ],
          "histogram": [
           {
            "marker": {
             "pattern": {
              "fillmode": "overlay",
              "size": 10,
              "solidity": 0.2
             }
            },
            "type": "histogram"
           }
          ],
          "histogram2d": [
           {
            "colorbar": {
             "outlinewidth": 0,
             "ticks": ""
            },
            "colorscale": [
             [
              0,
              "#0d0887"
             ],
             [
              0.1111111111111111,
              "#46039f"
             ],
             [
              0.2222222222222222,
              "#7201a8"
             ],
             [
              0.3333333333333333,
              "#9c179e"
             ],
             [
              0.4444444444444444,
              "#bd3786"
             ],
             [
              0.5555555555555556,
              "#d8576b"
             ],
             [
              0.6666666666666666,
              "#ed7953"
             ],
             [
              0.7777777777777778,
              "#fb9f3a"
             ],
             [
              0.8888888888888888,
              "#fdca26"
             ],
             [
              1,
              "#f0f921"
             ]
            ],
            "type": "histogram2d"
           }
          ],
          "histogram2dcontour": [
           {
            "colorbar": {
             "outlinewidth": 0,
             "ticks": ""
            },
            "colorscale": [
             [
              0,
              "#0d0887"
             ],
             [
              0.1111111111111111,
              "#46039f"
             ],
             [
              0.2222222222222222,
              "#7201a8"
             ],
             [
              0.3333333333333333,
              "#9c179e"
             ],
             [
              0.4444444444444444,
              "#bd3786"
             ],
             [
              0.5555555555555556,
              "#d8576b"
             ],
             [
              0.6666666666666666,
              "#ed7953"
             ],
             [
              0.7777777777777778,
              "#fb9f3a"
             ],
             [
              0.8888888888888888,
              "#fdca26"
             ],
             [
              1,
              "#f0f921"
             ]
            ],
            "type": "histogram2dcontour"
           }
          ],
          "mesh3d": [
           {
            "colorbar": {
             "outlinewidth": 0,
             "ticks": ""
            },
            "type": "mesh3d"
           }
          ],
          "parcoords": [
           {
            "line": {
             "colorbar": {
              "outlinewidth": 0,
              "ticks": ""
             }
            },
            "type": "parcoords"
           }
          ],
          "pie": [
           {
            "automargin": true,
            "type": "pie"
           }
          ],
          "scatter": [
           {
            "marker": {
             "colorbar": {
              "outlinewidth": 0,
              "ticks": ""
             }
            },
            "type": "scatter"
           }
          ],
          "scatter3d": [
           {
            "line": {
             "colorbar": {
              "outlinewidth": 0,
              "ticks": ""
             }
            },
            "marker": {
             "colorbar": {
              "outlinewidth": 0,
              "ticks": ""
             }
            },
            "type": "scatter3d"
           }
          ],
          "scattercarpet": [
           {
            "marker": {
             "colorbar": {
              "outlinewidth": 0,
              "ticks": ""
             }
            },
            "type": "scattercarpet"
           }
          ],
          "scattergeo": [
           {
            "marker": {
             "colorbar": {
              "outlinewidth": 0,
              "ticks": ""
             }
            },
            "type": "scattergeo"
           }
          ],
          "scattergl": [
           {
            "marker": {
             "colorbar": {
              "outlinewidth": 0,
              "ticks": ""
             }
            },
            "type": "scattergl"
           }
          ],
          "scattermapbox": [
           {
            "marker": {
             "colorbar": {
              "outlinewidth": 0,
              "ticks": ""
             }
            },
            "type": "scattermapbox"
           }
          ],
          "scatterpolar": [
           {
            "marker": {
             "colorbar": {
              "outlinewidth": 0,
              "ticks": ""
             }
            },
            "type": "scatterpolar"
           }
          ],
          "scatterpolargl": [
           {
            "marker": {
             "colorbar": {
              "outlinewidth": 0,
              "ticks": ""
             }
            },
            "type": "scatterpolargl"
           }
          ],
          "scatterternary": [
           {
            "marker": {
             "colorbar": {
              "outlinewidth": 0,
              "ticks": ""
             }
            },
            "type": "scatterternary"
           }
          ],
          "surface": [
           {
            "colorbar": {
             "outlinewidth": 0,
             "ticks": ""
            },
            "colorscale": [
             [
              0,
              "#0d0887"
             ],
             [
              0.1111111111111111,
              "#46039f"
             ],
             [
              0.2222222222222222,
              "#7201a8"
             ],
             [
              0.3333333333333333,
              "#9c179e"
             ],
             [
              0.4444444444444444,
              "#bd3786"
             ],
             [
              0.5555555555555556,
              "#d8576b"
             ],
             [
              0.6666666666666666,
              "#ed7953"
             ],
             [
              0.7777777777777778,
              "#fb9f3a"
             ],
             [
              0.8888888888888888,
              "#fdca26"
             ],
             [
              1,
              "#f0f921"
             ]
            ],
            "type": "surface"
           }
          ],
          "table": [
           {
            "cells": {
             "fill": {
              "color": "#EBF0F8"
             },
             "line": {
              "color": "white"
             }
            },
            "header": {
             "fill": {
              "color": "#C8D4E3"
             },
             "line": {
              "color": "white"
             }
            },
            "type": "table"
           }
          ]
         },
         "layout": {
          "annotationdefaults": {
           "arrowcolor": "#2a3f5f",
           "arrowhead": 0,
           "arrowwidth": 1
          },
          "autotypenumbers": "strict",
          "coloraxis": {
           "colorbar": {
            "outlinewidth": 0,
            "ticks": ""
           }
          },
          "colorscale": {
           "diverging": [
            [
             0,
             "#8e0152"
            ],
            [
             0.1,
             "#c51b7d"
            ],
            [
             0.2,
             "#de77ae"
            ],
            [
             0.3,
             "#f1b6da"
            ],
            [
             0.4,
             "#fde0ef"
            ],
            [
             0.5,
             "#f7f7f7"
            ],
            [
             0.6,
             "#e6f5d0"
            ],
            [
             0.7,
             "#b8e186"
            ],
            [
             0.8,
             "#7fbc41"
            ],
            [
             0.9,
             "#4d9221"
            ],
            [
             1,
             "#276419"
            ]
           ],
           "sequential": [
            [
             0,
             "#0d0887"
            ],
            [
             0.1111111111111111,
             "#46039f"
            ],
            [
             0.2222222222222222,
             "#7201a8"
            ],
            [
             0.3333333333333333,
             "#9c179e"
            ],
            [
             0.4444444444444444,
             "#bd3786"
            ],
            [
             0.5555555555555556,
             "#d8576b"
            ],
            [
             0.6666666666666666,
             "#ed7953"
            ],
            [
             0.7777777777777778,
             "#fb9f3a"
            ],
            [
             0.8888888888888888,
             "#fdca26"
            ],
            [
             1,
             "#f0f921"
            ]
           ],
           "sequentialminus": [
            [
             0,
             "#0d0887"
            ],
            [
             0.1111111111111111,
             "#46039f"
            ],
            [
             0.2222222222222222,
             "#7201a8"
            ],
            [
             0.3333333333333333,
             "#9c179e"
            ],
            [
             0.4444444444444444,
             "#bd3786"
            ],
            [
             0.5555555555555556,
             "#d8576b"
            ],
            [
             0.6666666666666666,
             "#ed7953"
            ],
            [
             0.7777777777777778,
             "#fb9f3a"
            ],
            [
             0.8888888888888888,
             "#fdca26"
            ],
            [
             1,
             "#f0f921"
            ]
           ]
          },
          "colorway": [
           "#636efa",
           "#EF553B",
           "#00cc96",
           "#ab63fa",
           "#FFA15A",
           "#19d3f3",
           "#FF6692",
           "#B6E880",
           "#FF97FF",
           "#FECB52"
          ],
          "font": {
           "color": "#2a3f5f"
          },
          "geo": {
           "bgcolor": "white",
           "lakecolor": "white",
           "landcolor": "#E5ECF6",
           "showlakes": true,
           "showland": true,
           "subunitcolor": "white"
          },
          "hoverlabel": {
           "align": "left"
          },
          "hovermode": "closest",
          "mapbox": {
           "style": "light"
          },
          "paper_bgcolor": "white",
          "plot_bgcolor": "#E5ECF6",
          "polar": {
           "angularaxis": {
            "gridcolor": "white",
            "linecolor": "white",
            "ticks": ""
           },
           "bgcolor": "#E5ECF6",
           "radialaxis": {
            "gridcolor": "white",
            "linecolor": "white",
            "ticks": ""
           }
          },
          "scene": {
           "xaxis": {
            "backgroundcolor": "#E5ECF6",
            "gridcolor": "white",
            "gridwidth": 2,
            "linecolor": "white",
            "showbackground": true,
            "ticks": "",
            "zerolinecolor": "white"
           },
           "yaxis": {
            "backgroundcolor": "#E5ECF6",
            "gridcolor": "white",
            "gridwidth": 2,
            "linecolor": "white",
            "showbackground": true,
            "ticks": "",
            "zerolinecolor": "white"
           },
           "zaxis": {
            "backgroundcolor": "#E5ECF6",
            "gridcolor": "white",
            "gridwidth": 2,
            "linecolor": "white",
            "showbackground": true,
            "ticks": "",
            "zerolinecolor": "white"
           }
          },
          "shapedefaults": {
           "line": {
            "color": "#2a3f5f"
           }
          },
          "ternary": {
           "aaxis": {
            "gridcolor": "white",
            "linecolor": "white",
            "ticks": ""
           },
           "baxis": {
            "gridcolor": "white",
            "linecolor": "white",
            "ticks": ""
           },
           "bgcolor": "#E5ECF6",
           "caxis": {
            "gridcolor": "white",
            "linecolor": "white",
            "ticks": ""
           }
          },
          "title": {
           "x": 0.05
          },
          "xaxis": {
           "automargin": true,
           "gridcolor": "white",
           "linecolor": "white",
           "ticks": "",
           "title": {
            "standoff": 15
           },
           "zerolinecolor": "white",
           "zerolinewidth": 2
          },
          "yaxis": {
           "automargin": true,
           "gridcolor": "white",
           "linecolor": "white",
           "ticks": "",
           "title": {
            "standoff": 15
           },
           "zerolinecolor": "white",
           "zerolinewidth": 2
          }
         }
        },
        "title": {
         "text": "Market prices (NO3)"
        },
        "xaxis": {
         "anchor": "y",
         "domain": [
          0,
          1
         ],
         "title": {
          "text": "Time"
         }
        },
        "yaxis": {
         "anchor": "x",
         "domain": [
          0,
          1
         ],
         "title": {
          "text": "Market price (EUR/MWh)"
         }
        }
       }
      }
     },
     "metadata": {},
     "output_type": "display_data"
    },
    {
     "data": {
      "application/vnd.plotly.v1+json": {
       "config": {
        "plotlyServerURL": "https://plot.ly"
       },
       "data": [
        {
         "hovertemplate": "Date=%{x}<br>Load=%{y}<extra></extra>",
         "legendgroup": "",
         "line": {
          "color": "black",
          "dash": "solid"
         },
         "marker": {
          "symbol": "circle"
         },
         "mode": "lines",
         "name": "",
         "showlegend": false,
         "type": "scattergl",
         "x": [
          "2018-05-28T00:00:00",
          "2018-05-28T00:01:00",
          "2018-05-28T00:02:00",
          "2018-05-28T00:03:00",
          "2018-05-28T00:04:00",
          "2018-05-28T00:05:00",
          "2018-05-28T00:06:00",
          "2018-05-28T00:07:00",
          "2018-05-28T00:08:00",
          "2018-05-28T00:09:00",
          "2018-05-28T00:10:00",
          "2018-05-28T00:11:00",
          "2018-05-28T00:12:00",
          "2018-05-28T00:13:00",
          "2018-05-28T00:14:00",
          "2018-05-28T00:15:00",
          "2018-05-28T00:16:00",
          "2018-05-28T00:17:00",
          "2018-05-28T00:18:00",
          "2018-05-28T00:19:00",
          "2018-05-28T00:20:00",
          "2018-05-28T00:21:00",
          "2018-05-28T00:22:00",
          "2018-05-28T00:23:00",
          "2018-05-28T00:24:00",
          "2018-05-28T00:25:00",
          "2018-05-28T00:26:00",
          "2018-05-28T00:27:00",
          "2018-05-28T00:28:00",
          "2018-05-28T00:29:00",
          "2018-05-28T00:30:00",
          "2018-05-28T00:31:00",
          "2018-05-28T00:32:00",
          "2018-05-28T00:33:00",
          "2018-05-28T00:34:00",
          "2018-05-28T00:35:00",
          "2018-05-28T00:36:00",
          "2018-05-28T00:37:00",
          "2018-05-28T00:38:00",
          "2018-05-28T00:39:00",
          "2018-05-28T00:40:00",
          "2018-05-28T00:41:00",
          "2018-05-28T00:42:00",
          "2018-05-28T00:43:00",
          "2018-05-28T00:44:00",
          "2018-05-28T00:45:00",
          "2018-05-28T00:46:00",
          "2018-05-28T00:47:00",
          "2018-05-28T00:48:00",
          "2018-05-28T00:49:00",
          "2018-05-28T00:50:00",
          "2018-05-28T00:51:00",
          "2018-05-28T00:52:00",
          "2018-05-28T00:53:00",
          "2018-05-28T00:54:00",
          "2018-05-28T00:55:00",
          "2018-05-28T00:56:00",
          "2018-05-28T00:57:00",
          "2018-05-28T00:58:00",
          "2018-05-28T00:59:00",
          "2018-05-28T01:00:00",
          "2018-05-28T01:01:00",
          "2018-05-28T01:02:00",
          "2018-05-28T01:03:00",
          "2018-05-28T01:04:00",
          "2018-05-28T01:05:00",
          "2018-05-28T01:06:00",
          "2018-05-28T01:07:00",
          "2018-05-28T01:08:00",
          "2018-05-28T01:09:00",
          "2018-05-28T01:10:00",
          "2018-05-28T01:11:00",
          "2018-05-28T01:12:00",
          "2018-05-28T01:13:00",
          "2018-05-28T01:14:00",
          "2018-05-28T01:15:00",
          "2018-05-28T01:16:00",
          "2018-05-28T01:17:00",
          "2018-05-28T01:18:00",
          "2018-05-28T01:19:00",
          "2018-05-28T01:20:00",
          "2018-05-28T01:21:00",
          "2018-05-28T01:22:00",
          "2018-05-28T01:23:00",
          "2018-05-28T01:24:00",
          "2018-05-28T01:25:00",
          "2018-05-28T01:26:00",
          "2018-05-28T01:27:00",
          "2018-05-28T01:28:00",
          "2018-05-28T01:29:00",
          "2018-05-28T01:30:00",
          "2018-05-28T01:31:00",
          "2018-05-28T01:32:00",
          "2018-05-28T01:33:00",
          "2018-05-28T01:34:00",
          "2018-05-28T01:35:00",
          "2018-05-28T01:36:00",
          "2018-05-28T01:37:00",
          "2018-05-28T01:38:00",
          "2018-05-28T01:39:00",
          "2018-05-28T01:40:00",
          "2018-05-28T01:41:00",
          "2018-05-28T01:42:00",
          "2018-05-28T01:43:00",
          "2018-05-28T01:44:00",
          "2018-05-28T01:45:00",
          "2018-05-28T01:46:00",
          "2018-05-28T01:47:00",
          "2018-05-28T01:48:00",
          "2018-05-28T01:49:00",
          "2018-05-28T01:50:00",
          "2018-05-28T01:51:00",
          "2018-05-28T01:52:00",
          "2018-05-28T01:53:00",
          "2018-05-28T01:54:00",
          "2018-05-28T01:55:00",
          "2018-05-28T01:56:00",
          "2018-05-28T01:57:00",
          "2018-05-28T01:58:00",
          "2018-05-28T01:59:00",
          "2018-05-28T02:00:00",
          "2018-05-28T02:01:00",
          "2018-05-28T02:02:00",
          "2018-05-28T02:03:00",
          "2018-05-28T02:04:00",
          "2018-05-28T02:05:00",
          "2018-05-28T02:06:00",
          "2018-05-28T02:07:00",
          "2018-05-28T02:08:00",
          "2018-05-28T02:09:00",
          "2018-05-28T02:10:00",
          "2018-05-28T02:11:00",
          "2018-05-28T02:12:00",
          "2018-05-28T02:13:00",
          "2018-05-28T02:14:00",
          "2018-05-28T02:15:00",
          "2018-05-28T02:16:00",
          "2018-05-28T02:17:00",
          "2018-05-28T02:18:00",
          "2018-05-28T02:19:00",
          "2018-05-28T02:20:00",
          "2018-05-28T02:21:00",
          "2018-05-28T02:22:00",
          "2018-05-28T02:23:00",
          "2018-05-28T02:24:00",
          "2018-05-28T02:25:00",
          "2018-05-28T02:26:00",
          "2018-05-28T02:27:00",
          "2018-05-28T02:28:00",
          "2018-05-28T02:29:00",
          "2018-05-28T02:30:00",
          "2018-05-28T02:31:00",
          "2018-05-28T02:32:00",
          "2018-05-28T02:33:00",
          "2018-05-28T02:34:00",
          "2018-05-28T02:35:00",
          "2018-05-28T02:36:00",
          "2018-05-28T02:37:00",
          "2018-05-28T02:38:00",
          "2018-05-28T02:39:00",
          "2018-05-28T02:40:00",
          "2018-05-28T02:41:00",
          "2018-05-28T02:42:00",
          "2018-05-28T02:43:00",
          "2018-05-28T02:44:00",
          "2018-05-28T02:45:00",
          "2018-05-28T02:46:00",
          "2018-05-28T02:47:00",
          "2018-05-28T02:48:00",
          "2018-05-28T02:49:00",
          "2018-05-28T02:50:00",
          "2018-05-28T02:51:00",
          "2018-05-28T02:52:00",
          "2018-05-28T02:53:00",
          "2018-05-28T02:54:00",
          "2018-05-28T02:55:00",
          "2018-05-28T02:56:00",
          "2018-05-28T02:57:00",
          "2018-05-28T02:58:00",
          "2018-05-28T02:59:00",
          "2018-05-28T03:00:00",
          "2018-05-28T03:01:00",
          "2018-05-28T03:02:00",
          "2018-05-28T03:03:00",
          "2018-05-28T03:04:00",
          "2018-05-28T03:05:00",
          "2018-05-28T03:06:00",
          "2018-05-28T03:07:00",
          "2018-05-28T03:08:00",
          "2018-05-28T03:09:00",
          "2018-05-28T03:10:00",
          "2018-05-28T03:11:00",
          "2018-05-28T03:12:00",
          "2018-05-28T03:13:00",
          "2018-05-28T03:14:00",
          "2018-05-28T03:15:00",
          "2018-05-28T03:16:00",
          "2018-05-28T03:17:00",
          "2018-05-28T03:18:00",
          "2018-05-28T03:19:00",
          "2018-05-28T03:20:00",
          "2018-05-28T03:21:00",
          "2018-05-28T03:22:00",
          "2018-05-28T03:23:00",
          "2018-05-28T03:24:00",
          "2018-05-28T03:25:00",
          "2018-05-28T03:26:00",
          "2018-05-28T03:27:00",
          "2018-05-28T03:28:00",
          "2018-05-28T03:29:00",
          "2018-05-28T03:30:00",
          "2018-05-28T03:31:00",
          "2018-05-28T03:32:00",
          "2018-05-28T03:33:00",
          "2018-05-28T03:34:00",
          "2018-05-28T03:35:00",
          "2018-05-28T03:36:00",
          "2018-05-28T03:37:00",
          "2018-05-28T03:38:00",
          "2018-05-28T03:39:00",
          "2018-05-28T03:40:00",
          "2018-05-28T03:41:00",
          "2018-05-28T03:42:00",
          "2018-05-28T03:43:00",
          "2018-05-28T03:44:00",
          "2018-05-28T03:45:00",
          "2018-05-28T03:46:00",
          "2018-05-28T03:47:00",
          "2018-05-28T03:48:00",
          "2018-05-28T03:49:00",
          "2018-05-28T03:50:00",
          "2018-05-28T03:51:00",
          "2018-05-28T03:52:00",
          "2018-05-28T03:53:00",
          "2018-05-28T03:54:00",
          "2018-05-28T03:55:00",
          "2018-05-28T03:56:00",
          "2018-05-28T03:57:00",
          "2018-05-28T03:58:00",
          "2018-05-28T03:59:00",
          "2018-05-28T04:00:00",
          "2018-05-28T04:01:00",
          "2018-05-28T04:02:00",
          "2018-05-28T04:03:00",
          "2018-05-28T04:04:00",
          "2018-05-28T04:05:00",
          "2018-05-28T04:06:00",
          "2018-05-28T04:07:00",
          "2018-05-28T04:08:00",
          "2018-05-28T04:09:00",
          "2018-05-28T04:10:00",
          "2018-05-28T04:11:00",
          "2018-05-28T04:12:00",
          "2018-05-28T04:13:00",
          "2018-05-28T04:14:00",
          "2018-05-28T04:15:00",
          "2018-05-28T04:16:00",
          "2018-05-28T04:17:00",
          "2018-05-28T04:18:00",
          "2018-05-28T04:19:00",
          "2018-05-28T04:20:00",
          "2018-05-28T04:21:00",
          "2018-05-28T04:22:00",
          "2018-05-28T04:23:00",
          "2018-05-28T04:24:00",
          "2018-05-28T04:25:00",
          "2018-05-28T04:26:00",
          "2018-05-28T04:27:00",
          "2018-05-28T04:28:00",
          "2018-05-28T04:29:00",
          "2018-05-28T04:30:00",
          "2018-05-28T04:31:00",
          "2018-05-28T04:32:00",
          "2018-05-28T04:33:00",
          "2018-05-28T04:34:00",
          "2018-05-28T04:35:00",
          "2018-05-28T04:36:00",
          "2018-05-28T04:37:00",
          "2018-05-28T04:38:00",
          "2018-05-28T04:39:00",
          "2018-05-28T04:40:00",
          "2018-05-28T04:41:00",
          "2018-05-28T04:42:00",
          "2018-05-28T04:43:00",
          "2018-05-28T04:44:00",
          "2018-05-28T04:45:00",
          "2018-05-28T04:46:00",
          "2018-05-28T04:47:00",
          "2018-05-28T04:48:00",
          "2018-05-28T04:49:00",
          "2018-05-28T04:50:00",
          "2018-05-28T04:51:00",
          "2018-05-28T04:52:00",
          "2018-05-28T04:53:00",
          "2018-05-28T04:54:00",
          "2018-05-28T04:55:00",
          "2018-05-28T04:56:00",
          "2018-05-28T04:57:00",
          "2018-05-28T04:58:00",
          "2018-05-28T04:59:00",
          "2018-05-28T05:00:00",
          "2018-05-28T05:01:00",
          "2018-05-28T05:02:00",
          "2018-05-28T05:03:00",
          "2018-05-28T05:04:00",
          "2018-05-28T05:05:00",
          "2018-05-28T05:06:00",
          "2018-05-28T05:07:00",
          "2018-05-28T05:08:00",
          "2018-05-28T05:09:00",
          "2018-05-28T05:10:00",
          "2018-05-28T05:11:00",
          "2018-05-28T05:12:00",
          "2018-05-28T05:13:00",
          "2018-05-28T05:14:00",
          "2018-05-28T05:15:00",
          "2018-05-28T05:16:00",
          "2018-05-28T05:17:00",
          "2018-05-28T05:18:00",
          "2018-05-28T05:19:00",
          "2018-05-28T05:20:00",
          "2018-05-28T05:21:00",
          "2018-05-28T05:22:00",
          "2018-05-28T05:23:00",
          "2018-05-28T05:24:00",
          "2018-05-28T05:25:00",
          "2018-05-28T05:26:00",
          "2018-05-28T05:27:00",
          "2018-05-28T05:28:00",
          "2018-05-28T05:29:00",
          "2018-05-28T05:30:00",
          "2018-05-28T05:31:00",
          "2018-05-28T05:32:00",
          "2018-05-28T05:33:00",
          "2018-05-28T05:34:00",
          "2018-05-28T05:35:00",
          "2018-05-28T05:36:00",
          "2018-05-28T05:37:00",
          "2018-05-28T05:38:00",
          "2018-05-28T05:39:00",
          "2018-05-28T05:40:00",
          "2018-05-28T05:41:00",
          "2018-05-28T05:42:00",
          "2018-05-28T05:43:00",
          "2018-05-28T05:44:00",
          "2018-05-28T05:45:00",
          "2018-05-28T05:46:00",
          "2018-05-28T05:47:00",
          "2018-05-28T05:48:00",
          "2018-05-28T05:49:00",
          "2018-05-28T05:50:00",
          "2018-05-28T05:51:00",
          "2018-05-28T05:52:00",
          "2018-05-28T05:53:00",
          "2018-05-28T05:54:00",
          "2018-05-28T05:55:00",
          "2018-05-28T05:56:00",
          "2018-05-28T05:57:00",
          "2018-05-28T05:58:00",
          "2018-05-28T05:59:00",
          "2018-05-28T06:00:00",
          "2018-05-28T06:01:00",
          "2018-05-28T06:02:00",
          "2018-05-28T06:03:00",
          "2018-05-28T06:04:00",
          "2018-05-28T06:05:00",
          "2018-05-28T06:06:00",
          "2018-05-28T06:07:00",
          "2018-05-28T06:08:00",
          "2018-05-28T06:09:00",
          "2018-05-28T06:10:00",
          "2018-05-28T06:11:00",
          "2018-05-28T06:12:00",
          "2018-05-28T06:13:00",
          "2018-05-28T06:14:00",
          "2018-05-28T06:15:00",
          "2018-05-28T06:16:00",
          "2018-05-28T06:17:00",
          "2018-05-28T06:18:00",
          "2018-05-28T06:19:00",
          "2018-05-28T06:20:00",
          "2018-05-28T06:21:00",
          "2018-05-28T06:22:00",
          "2018-05-28T06:23:00",
          "2018-05-28T06:24:00",
          "2018-05-28T06:25:00",
          "2018-05-28T06:26:00",
          "2018-05-28T06:27:00",
          "2018-05-28T06:28:00",
          "2018-05-28T06:29:00",
          "2018-05-28T06:30:00",
          "2018-05-28T06:31:00",
          "2018-05-28T06:32:00",
          "2018-05-28T06:33:00",
          "2018-05-28T06:34:00",
          "2018-05-28T06:35:00",
          "2018-05-28T06:36:00",
          "2018-05-28T06:37:00",
          "2018-05-28T06:38:00",
          "2018-05-28T06:39:00",
          "2018-05-28T06:40:00",
          "2018-05-28T06:41:00",
          "2018-05-28T06:42:00",
          "2018-05-28T06:43:00",
          "2018-05-28T06:44:00",
          "2018-05-28T06:45:00",
          "2018-05-28T06:46:00",
          "2018-05-28T06:47:00",
          "2018-05-28T06:48:00",
          "2018-05-28T06:49:00",
          "2018-05-28T06:50:00",
          "2018-05-28T06:51:00",
          "2018-05-28T06:52:00",
          "2018-05-28T06:53:00",
          "2018-05-28T06:54:00",
          "2018-05-28T06:55:00",
          "2018-05-28T06:56:00",
          "2018-05-28T06:57:00",
          "2018-05-28T06:58:00",
          "2018-05-28T06:59:00",
          "2018-05-28T07:00:00",
          "2018-05-28T07:01:00",
          "2018-05-28T07:02:00",
          "2018-05-28T07:03:00",
          "2018-05-28T07:04:00",
          "2018-05-28T07:05:00",
          "2018-05-28T07:06:00",
          "2018-05-28T07:07:00",
          "2018-05-28T07:08:00",
          "2018-05-28T07:09:00",
          "2018-05-28T07:10:00",
          "2018-05-28T07:11:00",
          "2018-05-28T07:12:00",
          "2018-05-28T07:13:00",
          "2018-05-28T07:14:00",
          "2018-05-28T07:15:00",
          "2018-05-28T07:16:00",
          "2018-05-28T07:17:00",
          "2018-05-28T07:18:00",
          "2018-05-28T07:19:00",
          "2018-05-28T07:20:00",
          "2018-05-28T07:21:00",
          "2018-05-28T07:22:00",
          "2018-05-28T07:23:00",
          "2018-05-28T07:24:00",
          "2018-05-28T07:25:00",
          "2018-05-28T07:26:00",
          "2018-05-28T07:27:00",
          "2018-05-28T07:28:00",
          "2018-05-28T07:29:00",
          "2018-05-28T07:30:00",
          "2018-05-28T07:31:00",
          "2018-05-28T07:32:00",
          "2018-05-28T07:33:00",
          "2018-05-28T07:34:00",
          "2018-05-28T07:35:00",
          "2018-05-28T07:36:00",
          "2018-05-28T07:37:00",
          "2018-05-28T07:38:00",
          "2018-05-28T07:39:00",
          "2018-05-28T07:40:00",
          "2018-05-28T07:41:00",
          "2018-05-28T07:42:00",
          "2018-05-28T07:43:00",
          "2018-05-28T07:44:00",
          "2018-05-28T07:45:00",
          "2018-05-28T07:46:00",
          "2018-05-28T07:47:00",
          "2018-05-28T07:48:00",
          "2018-05-28T07:49:00",
          "2018-05-28T07:50:00",
          "2018-05-28T07:51:00",
          "2018-05-28T07:52:00",
          "2018-05-28T07:53:00",
          "2018-05-28T07:54:00",
          "2018-05-28T07:55:00",
          "2018-05-28T07:56:00",
          "2018-05-28T07:57:00",
          "2018-05-28T07:58:00",
          "2018-05-28T07:59:00",
          "2018-05-28T08:00:00",
          "2018-05-28T08:01:00",
          "2018-05-28T08:02:00",
          "2018-05-28T08:03:00",
          "2018-05-28T08:04:00",
          "2018-05-28T08:05:00",
          "2018-05-28T08:06:00",
          "2018-05-28T08:07:00",
          "2018-05-28T08:08:00",
          "2018-05-28T08:09:00",
          "2018-05-28T08:10:00",
          "2018-05-28T08:11:00",
          "2018-05-28T08:12:00",
          "2018-05-28T08:13:00",
          "2018-05-28T08:14:00",
          "2018-05-28T08:15:00",
          "2018-05-28T08:16:00",
          "2018-05-28T08:17:00",
          "2018-05-28T08:18:00",
          "2018-05-28T08:19:00",
          "2018-05-28T08:20:00",
          "2018-05-28T08:21:00",
          "2018-05-28T08:22:00",
          "2018-05-28T08:23:00",
          "2018-05-28T08:24:00",
          "2018-05-28T08:25:00",
          "2018-05-28T08:26:00",
          "2018-05-28T08:27:00",
          "2018-05-28T08:28:00",
          "2018-05-28T08:29:00",
          "2018-05-28T08:30:00",
          "2018-05-28T08:31:00",
          "2018-05-28T08:32:00",
          "2018-05-28T08:33:00",
          "2018-05-28T08:34:00",
          "2018-05-28T08:35:00",
          "2018-05-28T08:36:00",
          "2018-05-28T08:37:00",
          "2018-05-28T08:38:00",
          "2018-05-28T08:39:00",
          "2018-05-28T08:40:00",
          "2018-05-28T08:41:00",
          "2018-05-28T08:42:00",
          "2018-05-28T08:43:00",
          "2018-05-28T08:44:00",
          "2018-05-28T08:45:00",
          "2018-05-28T08:46:00",
          "2018-05-28T08:47:00",
          "2018-05-28T08:48:00",
          "2018-05-28T08:49:00",
          "2018-05-28T08:50:00",
          "2018-05-28T08:51:00",
          "2018-05-28T08:52:00",
          "2018-05-28T08:53:00",
          "2018-05-28T08:54:00",
          "2018-05-28T08:55:00",
          "2018-05-28T08:56:00",
          "2018-05-28T08:57:00",
          "2018-05-28T08:58:00",
          "2018-05-28T08:59:00",
          "2018-05-28T09:00:00",
          "2018-05-28T09:01:00",
          "2018-05-28T09:02:00",
          "2018-05-28T09:03:00",
          "2018-05-28T09:04:00",
          "2018-05-28T09:05:00",
          "2018-05-28T09:06:00",
          "2018-05-28T09:07:00",
          "2018-05-28T09:08:00",
          "2018-05-28T09:09:00",
          "2018-05-28T09:10:00",
          "2018-05-28T09:11:00",
          "2018-05-28T09:12:00",
          "2018-05-28T09:13:00",
          "2018-05-28T09:14:00",
          "2018-05-28T09:15:00",
          "2018-05-28T09:16:00",
          "2018-05-28T09:17:00",
          "2018-05-28T09:18:00",
          "2018-05-28T09:19:00",
          "2018-05-28T09:20:00",
          "2018-05-28T09:21:00",
          "2018-05-28T09:22:00",
          "2018-05-28T09:23:00",
          "2018-05-28T09:24:00",
          "2018-05-28T09:25:00",
          "2018-05-28T09:26:00",
          "2018-05-28T09:27:00",
          "2018-05-28T09:28:00",
          "2018-05-28T09:29:00",
          "2018-05-28T09:30:00",
          "2018-05-28T09:31:00",
          "2018-05-28T09:32:00",
          "2018-05-28T09:33:00",
          "2018-05-28T09:34:00",
          "2018-05-28T09:35:00",
          "2018-05-28T09:36:00",
          "2018-05-28T09:37:00",
          "2018-05-28T09:38:00",
          "2018-05-28T09:39:00",
          "2018-05-28T09:40:00",
          "2018-05-28T09:41:00",
          "2018-05-28T09:42:00",
          "2018-05-28T09:43:00",
          "2018-05-28T09:44:00",
          "2018-05-28T09:45:00",
          "2018-05-28T09:46:00",
          "2018-05-28T09:47:00",
          "2018-05-28T09:48:00",
          "2018-05-28T09:49:00",
          "2018-05-28T09:50:00",
          "2018-05-28T09:51:00",
          "2018-05-28T09:52:00",
          "2018-05-28T09:53:00",
          "2018-05-28T09:54:00",
          "2018-05-28T09:55:00",
          "2018-05-28T09:56:00",
          "2018-05-28T09:57:00",
          "2018-05-28T09:58:00",
          "2018-05-28T09:59:00",
          "2018-05-28T10:00:00",
          "2018-05-28T10:01:00",
          "2018-05-28T10:02:00",
          "2018-05-28T10:03:00",
          "2018-05-28T10:04:00",
          "2018-05-28T10:05:00",
          "2018-05-28T10:06:00",
          "2018-05-28T10:07:00",
          "2018-05-28T10:08:00",
          "2018-05-28T10:09:00",
          "2018-05-28T10:10:00",
          "2018-05-28T10:11:00",
          "2018-05-28T10:12:00",
          "2018-05-28T10:13:00",
          "2018-05-28T10:14:00",
          "2018-05-28T10:15:00",
          "2018-05-28T10:16:00",
          "2018-05-28T10:17:00",
          "2018-05-28T10:18:00",
          "2018-05-28T10:19:00",
          "2018-05-28T10:20:00",
          "2018-05-28T10:21:00",
          "2018-05-28T10:22:00",
          "2018-05-28T10:23:00",
          "2018-05-28T10:24:00",
          "2018-05-28T10:25:00",
          "2018-05-28T10:26:00",
          "2018-05-28T10:27:00",
          "2018-05-28T10:28:00",
          "2018-05-28T10:29:00",
          "2018-05-28T10:30:00",
          "2018-05-28T10:31:00",
          "2018-05-28T10:32:00",
          "2018-05-28T10:33:00",
          "2018-05-28T10:34:00",
          "2018-05-28T10:35:00",
          "2018-05-28T10:36:00",
          "2018-05-28T10:37:00",
          "2018-05-28T10:38:00",
          "2018-05-28T10:39:00",
          "2018-05-28T10:40:00",
          "2018-05-28T10:41:00",
          "2018-05-28T10:42:00",
          "2018-05-28T10:43:00",
          "2018-05-28T10:44:00",
          "2018-05-28T10:45:00",
          "2018-05-28T10:46:00",
          "2018-05-28T10:47:00",
          "2018-05-28T10:48:00",
          "2018-05-28T10:49:00",
          "2018-05-28T10:50:00",
          "2018-05-28T10:51:00",
          "2018-05-28T10:52:00",
          "2018-05-28T10:53:00",
          "2018-05-28T10:54:00",
          "2018-05-28T10:55:00",
          "2018-05-28T10:56:00",
          "2018-05-28T10:57:00",
          "2018-05-28T10:58:00",
          "2018-05-28T10:59:00",
          "2018-05-28T11:00:00",
          "2018-05-28T11:01:00",
          "2018-05-28T11:02:00",
          "2018-05-28T11:03:00",
          "2018-05-28T11:04:00",
          "2018-05-28T11:05:00",
          "2018-05-28T11:06:00",
          "2018-05-28T11:07:00",
          "2018-05-28T11:08:00",
          "2018-05-28T11:09:00",
          "2018-05-28T11:10:00",
          "2018-05-28T11:11:00",
          "2018-05-28T11:12:00",
          "2018-05-28T11:13:00",
          "2018-05-28T11:14:00",
          "2018-05-28T11:15:00",
          "2018-05-28T11:16:00",
          "2018-05-28T11:17:00",
          "2018-05-28T11:18:00",
          "2018-05-28T11:19:00",
          "2018-05-28T11:20:00",
          "2018-05-28T11:21:00",
          "2018-05-28T11:22:00",
          "2018-05-28T11:23:00",
          "2018-05-28T11:24:00",
          "2018-05-28T11:25:00",
          "2018-05-28T11:26:00",
          "2018-05-28T11:27:00",
          "2018-05-28T11:28:00",
          "2018-05-28T11:29:00",
          "2018-05-28T11:30:00",
          "2018-05-28T11:31:00",
          "2018-05-28T11:32:00",
          "2018-05-28T11:33:00",
          "2018-05-28T11:34:00",
          "2018-05-28T11:35:00",
          "2018-05-28T11:36:00",
          "2018-05-28T11:37:00",
          "2018-05-28T11:38:00",
          "2018-05-28T11:39:00",
          "2018-05-28T11:40:00",
          "2018-05-28T11:41:00",
          "2018-05-28T11:42:00",
          "2018-05-28T11:43:00",
          "2018-05-28T11:44:00",
          "2018-05-28T11:45:00",
          "2018-05-28T11:46:00",
          "2018-05-28T11:47:00",
          "2018-05-28T11:48:00",
          "2018-05-28T11:49:00",
          "2018-05-28T11:50:00",
          "2018-05-28T11:51:00",
          "2018-05-28T11:52:00",
          "2018-05-28T11:53:00",
          "2018-05-28T11:54:00",
          "2018-05-28T11:55:00",
          "2018-05-28T11:56:00",
          "2018-05-28T11:57:00",
          "2018-05-28T11:58:00",
          "2018-05-28T11:59:00",
          "2018-05-28T12:00:00",
          "2018-05-28T12:01:00",
          "2018-05-28T12:02:00",
          "2018-05-28T12:03:00",
          "2018-05-28T12:04:00",
          "2018-05-28T12:05:00",
          "2018-05-28T12:06:00",
          "2018-05-28T12:07:00",
          "2018-05-28T12:08:00",
          "2018-05-28T12:09:00",
          "2018-05-28T12:10:00",
          "2018-05-28T12:11:00",
          "2018-05-28T12:12:00",
          "2018-05-28T12:13:00",
          "2018-05-28T12:14:00",
          "2018-05-28T12:15:00",
          "2018-05-28T12:16:00",
          "2018-05-28T12:17:00",
          "2018-05-28T12:18:00",
          "2018-05-28T12:19:00",
          "2018-05-28T12:20:00",
          "2018-05-28T12:21:00",
          "2018-05-28T12:22:00",
          "2018-05-28T12:23:00",
          "2018-05-28T12:24:00",
          "2018-05-28T12:25:00",
          "2018-05-28T12:26:00",
          "2018-05-28T12:27:00",
          "2018-05-28T12:28:00",
          "2018-05-28T12:29:00",
          "2018-05-28T12:30:00",
          "2018-05-28T12:31:00",
          "2018-05-28T12:32:00",
          "2018-05-28T12:33:00",
          "2018-05-28T12:34:00",
          "2018-05-28T12:35:00",
          "2018-05-28T12:36:00",
          "2018-05-28T12:37:00",
          "2018-05-28T12:38:00",
          "2018-05-28T12:39:00",
          "2018-05-28T12:40:00",
          "2018-05-28T12:41:00",
          "2018-05-28T12:42:00",
          "2018-05-28T12:43:00",
          "2018-05-28T12:44:00",
          "2018-05-28T12:45:00",
          "2018-05-28T12:46:00",
          "2018-05-28T12:47:00",
          "2018-05-28T12:48:00",
          "2018-05-28T12:49:00",
          "2018-05-28T12:50:00",
          "2018-05-28T12:51:00",
          "2018-05-28T12:52:00",
          "2018-05-28T12:53:00",
          "2018-05-28T12:54:00",
          "2018-05-28T12:55:00",
          "2018-05-28T12:56:00",
          "2018-05-28T12:57:00",
          "2018-05-28T12:58:00",
          "2018-05-28T12:59:00",
          "2018-05-28T13:00:00",
          "2018-05-28T13:01:00",
          "2018-05-28T13:02:00",
          "2018-05-28T13:03:00",
          "2018-05-28T13:04:00",
          "2018-05-28T13:05:00",
          "2018-05-28T13:06:00",
          "2018-05-28T13:07:00",
          "2018-05-28T13:08:00",
          "2018-05-28T13:09:00",
          "2018-05-28T13:10:00",
          "2018-05-28T13:11:00",
          "2018-05-28T13:12:00",
          "2018-05-28T13:13:00",
          "2018-05-28T13:14:00",
          "2018-05-28T13:15:00",
          "2018-05-28T13:16:00",
          "2018-05-28T13:17:00",
          "2018-05-28T13:18:00",
          "2018-05-28T13:19:00",
          "2018-05-28T13:20:00",
          "2018-05-28T13:21:00",
          "2018-05-28T13:22:00",
          "2018-05-28T13:23:00",
          "2018-05-28T13:24:00",
          "2018-05-28T13:25:00",
          "2018-05-28T13:26:00",
          "2018-05-28T13:27:00",
          "2018-05-28T13:28:00",
          "2018-05-28T13:29:00",
          "2018-05-28T13:30:00",
          "2018-05-28T13:31:00",
          "2018-05-28T13:32:00",
          "2018-05-28T13:33:00",
          "2018-05-28T13:34:00",
          "2018-05-28T13:35:00",
          "2018-05-28T13:36:00",
          "2018-05-28T13:37:00",
          "2018-05-28T13:38:00",
          "2018-05-28T13:39:00",
          "2018-05-28T13:40:00",
          "2018-05-28T13:41:00",
          "2018-05-28T13:42:00",
          "2018-05-28T13:43:00",
          "2018-05-28T13:44:00",
          "2018-05-28T13:45:00",
          "2018-05-28T13:46:00",
          "2018-05-28T13:47:00",
          "2018-05-28T13:48:00",
          "2018-05-28T13:49:00",
          "2018-05-28T13:50:00",
          "2018-05-28T13:51:00",
          "2018-05-28T13:52:00",
          "2018-05-28T13:53:00",
          "2018-05-28T13:54:00",
          "2018-05-28T13:55:00",
          "2018-05-28T13:56:00",
          "2018-05-28T13:57:00",
          "2018-05-28T13:58:00",
          "2018-05-28T13:59:00",
          "2018-05-28T14:00:00",
          "2018-05-28T14:01:00",
          "2018-05-28T14:02:00",
          "2018-05-28T14:03:00",
          "2018-05-28T14:04:00",
          "2018-05-28T14:05:00",
          "2018-05-28T14:06:00",
          "2018-05-28T14:07:00",
          "2018-05-28T14:08:00",
          "2018-05-28T14:09:00",
          "2018-05-28T14:10:00",
          "2018-05-28T14:11:00",
          "2018-05-28T14:12:00",
          "2018-05-28T14:13:00",
          "2018-05-28T14:14:00",
          "2018-05-28T14:15:00",
          "2018-05-28T14:16:00",
          "2018-05-28T14:17:00",
          "2018-05-28T14:18:00",
          "2018-05-28T14:19:00",
          "2018-05-28T14:20:00",
          "2018-05-28T14:21:00",
          "2018-05-28T14:22:00",
          "2018-05-28T14:23:00",
          "2018-05-28T14:24:00",
          "2018-05-28T14:25:00",
          "2018-05-28T14:26:00",
          "2018-05-28T14:27:00",
          "2018-05-28T14:28:00",
          "2018-05-28T14:29:00",
          "2018-05-28T14:30:00",
          "2018-05-28T14:31:00",
          "2018-05-28T14:32:00",
          "2018-05-28T14:33:00",
          "2018-05-28T14:34:00",
          "2018-05-28T14:35:00",
          "2018-05-28T14:36:00",
          "2018-05-28T14:37:00",
          "2018-05-28T14:38:00",
          "2018-05-28T14:39:00",
          "2018-05-28T14:40:00",
          "2018-05-28T14:41:00",
          "2018-05-28T14:42:00",
          "2018-05-28T14:43:00",
          "2018-05-28T14:44:00",
          "2018-05-28T14:45:00",
          "2018-05-28T14:46:00",
          "2018-05-28T14:47:00",
          "2018-05-28T14:48:00",
          "2018-05-28T14:49:00",
          "2018-05-28T14:50:00",
          "2018-05-28T14:51:00",
          "2018-05-28T14:52:00",
          "2018-05-28T14:53:00",
          "2018-05-28T14:54:00",
          "2018-05-28T14:55:00",
          "2018-05-28T14:56:00",
          "2018-05-28T14:57:00",
          "2018-05-28T14:58:00",
          "2018-05-28T14:59:00",
          "2018-05-28T15:00:00",
          "2018-05-28T15:01:00",
          "2018-05-28T15:02:00",
          "2018-05-28T15:03:00",
          "2018-05-28T15:04:00",
          "2018-05-28T15:05:00",
          "2018-05-28T15:06:00",
          "2018-05-28T15:07:00",
          "2018-05-28T15:08:00",
          "2018-05-28T15:09:00",
          "2018-05-28T15:10:00",
          "2018-05-28T15:11:00",
          "2018-05-28T15:12:00",
          "2018-05-28T15:13:00",
          "2018-05-28T15:14:00",
          "2018-05-28T15:15:00",
          "2018-05-28T15:16:00",
          "2018-05-28T15:17:00",
          "2018-05-28T15:18:00",
          "2018-05-28T15:19:00",
          "2018-05-28T15:20:00",
          "2018-05-28T15:21:00",
          "2018-05-28T15:22:00",
          "2018-05-28T15:23:00",
          "2018-05-28T15:24:00",
          "2018-05-28T15:25:00",
          "2018-05-28T15:26:00",
          "2018-05-28T15:27:00",
          "2018-05-28T15:28:00",
          "2018-05-28T15:29:00",
          "2018-05-28T15:30:00",
          "2018-05-28T15:31:00",
          "2018-05-28T15:32:00",
          "2018-05-28T15:33:00",
          "2018-05-28T15:34:00",
          "2018-05-28T15:35:00",
          "2018-05-28T15:36:00",
          "2018-05-28T15:37:00",
          "2018-05-28T15:38:00",
          "2018-05-28T15:39:00",
          "2018-05-28T15:40:00",
          "2018-05-28T15:41:00",
          "2018-05-28T15:42:00",
          "2018-05-28T15:43:00",
          "2018-05-28T15:44:00",
          "2018-05-28T15:45:00",
          "2018-05-28T15:46:00",
          "2018-05-28T15:47:00",
          "2018-05-28T15:48:00",
          "2018-05-28T15:49:00",
          "2018-05-28T15:50:00",
          "2018-05-28T15:51:00",
          "2018-05-28T15:52:00",
          "2018-05-28T15:53:00",
          "2018-05-28T15:54:00",
          "2018-05-28T15:55:00",
          "2018-05-28T15:56:00",
          "2018-05-28T15:57:00",
          "2018-05-28T15:58:00",
          "2018-05-28T15:59:00",
          "2018-05-28T16:00:00",
          "2018-05-28T16:01:00",
          "2018-05-28T16:02:00",
          "2018-05-28T16:03:00",
          "2018-05-28T16:04:00",
          "2018-05-28T16:05:00",
          "2018-05-28T16:06:00",
          "2018-05-28T16:07:00",
          "2018-05-28T16:08:00",
          "2018-05-28T16:09:00",
          "2018-05-28T16:10:00",
          "2018-05-28T16:11:00",
          "2018-05-28T16:12:00",
          "2018-05-28T16:13:00",
          "2018-05-28T16:14:00",
          "2018-05-28T16:15:00",
          "2018-05-28T16:16:00",
          "2018-05-28T16:17:00",
          "2018-05-28T16:18:00",
          "2018-05-28T16:19:00",
          "2018-05-28T16:20:00",
          "2018-05-28T16:21:00",
          "2018-05-28T16:22:00",
          "2018-05-28T16:23:00",
          "2018-05-28T16:24:00",
          "2018-05-28T16:25:00",
          "2018-05-28T16:26:00",
          "2018-05-28T16:27:00",
          "2018-05-28T16:28:00",
          "2018-05-28T16:29:00",
          "2018-05-28T16:30:00",
          "2018-05-28T16:31:00",
          "2018-05-28T16:32:00",
          "2018-05-28T16:33:00",
          "2018-05-28T16:34:00",
          "2018-05-28T16:35:00",
          "2018-05-28T16:36:00",
          "2018-05-28T16:37:00",
          "2018-05-28T16:38:00",
          "2018-05-28T16:39:00",
          "2018-05-28T16:40:00",
          "2018-05-28T16:41:00",
          "2018-05-28T16:42:00",
          "2018-05-28T16:43:00",
          "2018-05-28T16:44:00",
          "2018-05-28T16:45:00",
          "2018-05-28T16:46:00",
          "2018-05-28T16:47:00",
          "2018-05-28T16:48:00",
          "2018-05-28T16:49:00",
          "2018-05-28T16:50:00",
          "2018-05-28T16:51:00",
          "2018-05-28T16:52:00",
          "2018-05-28T16:53:00",
          "2018-05-28T16:54:00",
          "2018-05-28T16:55:00",
          "2018-05-28T16:56:00",
          "2018-05-28T16:57:00",
          "2018-05-28T16:58:00",
          "2018-05-28T16:59:00",
          "2018-05-28T17:00:00",
          "2018-05-28T17:01:00",
          "2018-05-28T17:02:00",
          "2018-05-28T17:03:00",
          "2018-05-28T17:04:00",
          "2018-05-28T17:05:00",
          "2018-05-28T17:06:00",
          "2018-05-28T17:07:00",
          "2018-05-28T17:08:00",
          "2018-05-28T17:09:00",
          "2018-05-28T17:10:00",
          "2018-05-28T17:11:00",
          "2018-05-28T17:12:00",
          "2018-05-28T17:13:00",
          "2018-05-28T17:14:00",
          "2018-05-28T17:15:00",
          "2018-05-28T17:16:00",
          "2018-05-28T17:17:00",
          "2018-05-28T17:18:00",
          "2018-05-28T17:19:00",
          "2018-05-28T17:20:00",
          "2018-05-28T17:21:00",
          "2018-05-28T17:22:00",
          "2018-05-28T17:23:00",
          "2018-05-28T17:24:00",
          "2018-05-28T17:25:00",
          "2018-05-28T17:26:00",
          "2018-05-28T17:27:00",
          "2018-05-28T17:28:00",
          "2018-05-28T17:29:00",
          "2018-05-28T17:30:00",
          "2018-05-28T17:31:00",
          "2018-05-28T17:32:00",
          "2018-05-28T17:33:00",
          "2018-05-28T17:34:00",
          "2018-05-28T17:35:00",
          "2018-05-28T17:36:00",
          "2018-05-28T17:37:00",
          "2018-05-28T17:38:00",
          "2018-05-28T17:39:00",
          "2018-05-28T17:40:00",
          "2018-05-28T17:41:00",
          "2018-05-28T17:42:00",
          "2018-05-28T17:43:00",
          "2018-05-28T17:44:00",
          "2018-05-28T17:45:00",
          "2018-05-28T17:46:00",
          "2018-05-28T17:47:00",
          "2018-05-28T17:48:00",
          "2018-05-28T17:49:00",
          "2018-05-28T17:50:00",
          "2018-05-28T17:51:00",
          "2018-05-28T17:52:00",
          "2018-05-28T17:53:00",
          "2018-05-28T17:54:00",
          "2018-05-28T17:55:00",
          "2018-05-28T17:56:00",
          "2018-05-28T17:57:00",
          "2018-05-28T17:58:00",
          "2018-05-28T17:59:00",
          "2018-05-28T18:00:00",
          "2018-05-28T18:01:00",
          "2018-05-28T18:02:00",
          "2018-05-28T18:03:00",
          "2018-05-28T18:04:00",
          "2018-05-28T18:05:00",
          "2018-05-28T18:06:00",
          "2018-05-28T18:07:00",
          "2018-05-28T18:08:00",
          "2018-05-28T18:09:00",
          "2018-05-28T18:10:00",
          "2018-05-28T18:11:00",
          "2018-05-28T18:12:00",
          "2018-05-28T18:13:00",
          "2018-05-28T18:14:00",
          "2018-05-28T18:15:00",
          "2018-05-28T18:16:00",
          "2018-05-28T18:17:00",
          "2018-05-28T18:18:00",
          "2018-05-28T18:19:00",
          "2018-05-28T18:20:00",
          "2018-05-28T18:21:00",
          "2018-05-28T18:22:00",
          "2018-05-28T18:23:00",
          "2018-05-28T18:24:00",
          "2018-05-28T18:25:00",
          "2018-05-28T18:26:00",
          "2018-05-28T18:27:00",
          "2018-05-28T18:28:00",
          "2018-05-28T18:29:00",
          "2018-05-28T18:30:00",
          "2018-05-28T18:31:00",
          "2018-05-28T18:32:00",
          "2018-05-28T18:33:00",
          "2018-05-28T18:34:00",
          "2018-05-28T18:35:00",
          "2018-05-28T18:36:00",
          "2018-05-28T18:37:00",
          "2018-05-28T18:38:00",
          "2018-05-28T18:39:00",
          "2018-05-28T18:40:00",
          "2018-05-28T18:41:00",
          "2018-05-28T18:42:00",
          "2018-05-28T18:43:00",
          "2018-05-28T18:44:00",
          "2018-05-28T18:45:00",
          "2018-05-28T18:46:00",
          "2018-05-28T18:47:00",
          "2018-05-28T18:48:00",
          "2018-05-28T18:49:00",
          "2018-05-28T18:50:00",
          "2018-05-28T18:51:00",
          "2018-05-28T18:52:00",
          "2018-05-28T18:53:00",
          "2018-05-28T18:54:00",
          "2018-05-28T18:55:00",
          "2018-05-28T18:56:00",
          "2018-05-28T18:57:00",
          "2018-05-28T18:58:00",
          "2018-05-28T18:59:00",
          "2018-05-28T19:00:00",
          "2018-05-28T19:01:00",
          "2018-05-28T19:02:00",
          "2018-05-28T19:03:00",
          "2018-05-28T19:04:00",
          "2018-05-28T19:05:00",
          "2018-05-28T19:06:00",
          "2018-05-28T19:07:00",
          "2018-05-28T19:08:00",
          "2018-05-28T19:09:00",
          "2018-05-28T19:10:00",
          "2018-05-28T19:11:00",
          "2018-05-28T19:12:00",
          "2018-05-28T19:13:00",
          "2018-05-28T19:14:00",
          "2018-05-28T19:15:00",
          "2018-05-28T19:16:00",
          "2018-05-28T19:17:00",
          "2018-05-28T19:18:00",
          "2018-05-28T19:19:00",
          "2018-05-28T19:20:00",
          "2018-05-28T19:21:00",
          "2018-05-28T19:22:00",
          "2018-05-28T19:23:00",
          "2018-05-28T19:24:00",
          "2018-05-28T19:25:00",
          "2018-05-28T19:26:00",
          "2018-05-28T19:27:00",
          "2018-05-28T19:28:00",
          "2018-05-28T19:29:00",
          "2018-05-28T19:30:00",
          "2018-05-28T19:31:00",
          "2018-05-28T19:32:00",
          "2018-05-28T19:33:00",
          "2018-05-28T19:34:00",
          "2018-05-28T19:35:00",
          "2018-05-28T19:36:00",
          "2018-05-28T19:37:00",
          "2018-05-28T19:38:00",
          "2018-05-28T19:39:00",
          "2018-05-28T19:40:00",
          "2018-05-28T19:41:00",
          "2018-05-28T19:42:00",
          "2018-05-28T19:43:00",
          "2018-05-28T19:44:00",
          "2018-05-28T19:45:00",
          "2018-05-28T19:46:00",
          "2018-05-28T19:47:00",
          "2018-05-28T19:48:00",
          "2018-05-28T19:49:00",
          "2018-05-28T19:50:00",
          "2018-05-28T19:51:00",
          "2018-05-28T19:52:00",
          "2018-05-28T19:53:00",
          "2018-05-28T19:54:00",
          "2018-05-28T19:55:00",
          "2018-05-28T19:56:00",
          "2018-05-28T19:57:00",
          "2018-05-28T19:58:00",
          "2018-05-28T19:59:00",
          "2018-05-28T20:00:00",
          "2018-05-28T20:01:00",
          "2018-05-28T20:02:00",
          "2018-05-28T20:03:00",
          "2018-05-28T20:04:00",
          "2018-05-28T20:05:00",
          "2018-05-28T20:06:00",
          "2018-05-28T20:07:00",
          "2018-05-28T20:08:00",
          "2018-05-28T20:09:00",
          "2018-05-28T20:10:00",
          "2018-05-28T20:11:00",
          "2018-05-28T20:12:00",
          "2018-05-28T20:13:00",
          "2018-05-28T20:14:00",
          "2018-05-28T20:15:00",
          "2018-05-28T20:16:00",
          "2018-05-28T20:17:00",
          "2018-05-28T20:18:00",
          "2018-05-28T20:19:00",
          "2018-05-28T20:20:00",
          "2018-05-28T20:21:00",
          "2018-05-28T20:22:00",
          "2018-05-28T20:23:00",
          "2018-05-28T20:24:00",
          "2018-05-28T20:25:00",
          "2018-05-28T20:26:00",
          "2018-05-28T20:27:00",
          "2018-05-28T20:28:00",
          "2018-05-28T20:29:00",
          "2018-05-28T20:30:00",
          "2018-05-28T20:31:00",
          "2018-05-28T20:32:00",
          "2018-05-28T20:33:00",
          "2018-05-28T20:34:00",
          "2018-05-28T20:35:00",
          "2018-05-28T20:36:00",
          "2018-05-28T20:37:00",
          "2018-05-28T20:38:00",
          "2018-05-28T20:39:00",
          "2018-05-28T20:40:00",
          "2018-05-28T20:41:00",
          "2018-05-28T20:42:00",
          "2018-05-28T20:43:00",
          "2018-05-28T20:44:00",
          "2018-05-28T20:45:00",
          "2018-05-28T20:46:00",
          "2018-05-28T20:47:00",
          "2018-05-28T20:48:00",
          "2018-05-28T20:49:00",
          "2018-05-28T20:50:00",
          "2018-05-28T20:51:00",
          "2018-05-28T20:52:00",
          "2018-05-28T20:53:00",
          "2018-05-28T20:54:00",
          "2018-05-28T20:55:00",
          "2018-05-28T20:56:00",
          "2018-05-28T20:57:00",
          "2018-05-28T20:58:00",
          "2018-05-28T20:59:00",
          "2018-05-28T21:00:00",
          "2018-05-28T21:01:00",
          "2018-05-28T21:02:00",
          "2018-05-28T21:03:00",
          "2018-05-28T21:04:00",
          "2018-05-28T21:05:00",
          "2018-05-28T21:06:00",
          "2018-05-28T21:07:00",
          "2018-05-28T21:08:00",
          "2018-05-28T21:09:00",
          "2018-05-28T21:10:00",
          "2018-05-28T21:11:00",
          "2018-05-28T21:12:00",
          "2018-05-28T21:13:00",
          "2018-05-28T21:14:00",
          "2018-05-28T21:15:00",
          "2018-05-28T21:16:00",
          "2018-05-28T21:17:00",
          "2018-05-28T21:18:00",
          "2018-05-28T21:19:00",
          "2018-05-28T21:20:00",
          "2018-05-28T21:21:00",
          "2018-05-28T21:22:00",
          "2018-05-28T21:23:00",
          "2018-05-28T21:24:00",
          "2018-05-28T21:25:00",
          "2018-05-28T21:26:00",
          "2018-05-28T21:27:00",
          "2018-05-28T21:28:00",
          "2018-05-28T21:29:00",
          "2018-05-28T21:30:00",
          "2018-05-28T21:31:00",
          "2018-05-28T21:32:00",
          "2018-05-28T21:33:00",
          "2018-05-28T21:34:00",
          "2018-05-28T21:35:00",
          "2018-05-28T21:36:00",
          "2018-05-28T21:37:00",
          "2018-05-28T21:38:00",
          "2018-05-28T21:39:00",
          "2018-05-28T21:40:00",
          "2018-05-28T21:41:00",
          "2018-05-28T21:42:00",
          "2018-05-28T21:43:00",
          "2018-05-28T21:44:00",
          "2018-05-28T21:45:00",
          "2018-05-28T21:46:00",
          "2018-05-28T21:47:00",
          "2018-05-28T21:48:00",
          "2018-05-28T21:49:00",
          "2018-05-28T21:50:00",
          "2018-05-28T21:51:00",
          "2018-05-28T21:52:00",
          "2018-05-28T21:53:00",
          "2018-05-28T21:54:00",
          "2018-05-28T21:55:00",
          "2018-05-28T21:56:00",
          "2018-05-28T21:57:00",
          "2018-05-28T21:58:00",
          "2018-05-28T21:59:00",
          "2018-05-28T22:00:00",
          "2018-05-28T22:01:00",
          "2018-05-28T22:02:00",
          "2018-05-28T22:03:00",
          "2018-05-28T22:04:00",
          "2018-05-28T22:05:00",
          "2018-05-28T22:06:00",
          "2018-05-28T22:07:00",
          "2018-05-28T22:08:00",
          "2018-05-28T22:09:00",
          "2018-05-28T22:10:00",
          "2018-05-28T22:11:00",
          "2018-05-28T22:12:00",
          "2018-05-28T22:13:00",
          "2018-05-28T22:14:00",
          "2018-05-28T22:15:00",
          "2018-05-28T22:16:00",
          "2018-05-28T22:17:00",
          "2018-05-28T22:18:00",
          "2018-05-28T22:19:00",
          "2018-05-28T22:20:00",
          "2018-05-28T22:21:00",
          "2018-05-28T22:22:00",
          "2018-05-28T22:23:00",
          "2018-05-28T22:24:00",
          "2018-05-28T22:25:00",
          "2018-05-28T22:26:00",
          "2018-05-28T22:27:00",
          "2018-05-28T22:28:00",
          "2018-05-28T22:29:00",
          "2018-05-28T22:30:00",
          "2018-05-28T22:31:00",
          "2018-05-28T22:32:00",
          "2018-05-28T22:33:00",
          "2018-05-28T22:34:00",
          "2018-05-28T22:35:00",
          "2018-05-28T22:36:00",
          "2018-05-28T22:37:00",
          "2018-05-28T22:38:00",
          "2018-05-28T22:39:00",
          "2018-05-28T22:40:00",
          "2018-05-28T22:41:00",
          "2018-05-28T22:42:00",
          "2018-05-28T22:43:00",
          "2018-05-28T22:44:00",
          "2018-05-28T22:45:00",
          "2018-05-28T22:46:00",
          "2018-05-28T22:47:00",
          "2018-05-28T22:48:00",
          "2018-05-28T22:49:00",
          "2018-05-28T22:50:00",
          "2018-05-28T22:51:00",
          "2018-05-28T22:52:00",
          "2018-05-28T22:53:00",
          "2018-05-28T22:54:00",
          "2018-05-28T22:55:00",
          "2018-05-28T22:56:00",
          "2018-05-28T22:57:00",
          "2018-05-28T22:58:00",
          "2018-05-28T22:59:00",
          "2018-05-28T23:00:00"
         ],
         "xaxis": "x",
         "y": [
          30,
          30,
          30,
          30,
          30,
          30,
          30,
          30,
          30,
          30,
          30,
          30,
          30,
          30,
          30,
          30,
          30,
          30,
          30,
          30,
          30,
          30,
          30,
          30,
          30,
          30,
          30,
          30,
          30,
          30,
          30,
          30,
          30,
          30,
          30,
          30,
          30,
          30,
          30,
          30,
          30,
          30,
          30,
          30,
          30,
          30,
          30,
          30,
          30,
          30,
          30,
          30,
          30,
          30,
          30,
          30,
          30,
          30,
          30,
          30,
          20,
          20,
          20,
          20,
          20,
          20,
          20,
          20,
          20,
          20,
          20,
          20,
          20,
          20,
          20,
          20,
          20,
          20,
          20,
          20,
          20,
          20,
          20,
          20,
          20,
          20,
          20,
          20,
          20,
          20,
          20,
          20,
          20,
          20,
          20,
          20,
          20,
          20,
          20,
          20,
          20,
          20,
          20,
          20,
          20,
          20,
          20,
          20,
          20,
          20,
          20,
          20,
          20,
          20,
          20,
          20,
          20,
          20,
          20,
          20,
          20,
          20,
          20,
          20,
          20,
          20,
          20,
          20,
          20,
          20,
          20,
          20,
          20,
          20,
          20,
          20,
          20,
          20,
          20,
          20,
          20,
          20,
          20,
          20,
          20,
          20,
          20,
          20,
          20,
          20,
          20,
          20,
          20,
          20,
          20,
          20,
          20,
          20,
          20,
          20,
          20,
          20,
          20,
          20,
          20,
          20,
          20,
          20,
          20,
          20,
          20,
          20,
          20,
          20,
          20,
          20,
          20,
          20,
          20,
          20,
          30,
          30,
          30,
          30,
          30,
          30,
          30,
          30,
          30,
          30,
          30,
          30,
          30,
          30,
          30,
          30,
          30,
          30,
          30,
          30,
          30,
          30,
          30,
          30,
          30,
          30,
          30,
          30,
          30,
          30,
          30,
          30,
          30,
          30,
          30,
          30,
          30,
          30,
          30,
          30,
          30,
          30,
          30,
          30,
          30,
          30,
          30,
          30,
          30,
          30,
          30,
          30,
          30,
          30,
          30,
          30,
          30,
          30,
          30,
          30,
          50,
          50,
          50,
          50,
          50,
          50,
          50,
          50,
          50,
          50,
          50,
          50,
          50,
          50,
          50,
          50,
          50,
          50,
          50,
          50,
          50,
          50,
          50,
          50,
          50,
          50,
          50,
          50,
          50,
          50,
          50,
          50,
          50,
          50,
          50,
          50,
          50,
          50,
          50,
          50,
          50,
          50,
          50,
          50,
          50,
          50,
          50,
          50,
          50,
          50,
          50,
          50,
          50,
          50,
          50,
          50,
          50,
          50,
          50,
          50,
          80,
          80,
          80,
          80,
          80,
          80,
          80,
          80,
          80,
          80,
          80,
          80,
          80,
          80,
          80,
          80,
          80,
          80,
          80,
          80,
          80,
          80,
          80,
          80,
          80,
          80,
          80,
          80,
          80,
          80,
          80,
          80,
          80,
          80,
          80,
          80,
          80,
          80,
          80,
          80,
          80,
          80,
          80,
          80,
          80,
          80,
          80,
          80,
          80,
          80,
          80,
          80,
          80,
          80,
          80,
          80,
          80,
          80,
          80,
          80,
          50,
          50,
          50,
          50,
          50,
          50,
          50,
          50,
          50,
          50,
          50,
          50,
          50,
          50,
          50,
          50,
          50,
          50,
          50,
          50,
          50,
          50,
          50,
          50,
          50,
          50,
          50,
          50,
          50,
          50,
          50,
          50,
          50,
          50,
          50,
          50,
          50,
          50,
          50,
          50,
          50,
          50,
          50,
          50,
          50,
          50,
          50,
          50,
          50,
          50,
          50,
          50,
          50,
          50,
          50,
          50,
          50,
          50,
          50,
          50,
          90,
          90,
          90,
          90,
          90,
          90,
          90,
          90,
          90,
          90,
          90,
          90,
          90,
          90,
          90,
          90,
          90,
          90,
          90,
          90,
          90,
          90,
          90,
          90,
          90,
          90,
          90,
          90,
          90,
          90,
          90,
          90,
          90,
          90,
          90,
          90,
          90,
          90,
          90,
          90,
          90,
          90,
          90,
          90,
          90,
          90,
          90,
          90,
          90,
          90,
          90,
          90,
          90,
          90,
          90,
          90,
          90,
          90,
          90,
          90,
          110,
          110,
          110,
          110,
          110,
          110,
          110,
          110,
          110,
          110,
          110,
          110,
          110,
          110,
          110,
          110,
          110,
          110,
          110,
          110,
          110,
          110,
          110,
          110,
          110,
          110,
          110,
          110,
          110,
          110,
          110,
          110,
          110,
          110,
          110,
          110,
          110,
          110,
          110,
          110,
          110,
          110,
          110,
          110,
          110,
          110,
          110,
          110,
          110,
          110,
          110,
          110,
          110,
          110,
          110,
          110,
          110,
          110,
          110,
          110,
          150,
          150,
          150,
          150,
          150,
          150,
          150,
          150,
          150,
          150,
          150,
          150,
          150,
          150,
          150,
          150,
          150,
          150,
          150,
          150,
          150,
          150,
          150,
          150,
          150,
          150,
          150,
          150,
          150,
          150,
          150,
          150,
          150,
          150,
          150,
          150,
          150,
          150,
          150,
          150,
          150,
          150,
          150,
          150,
          150,
          150,
          150,
          150,
          150,
          150,
          150,
          150,
          150,
          150,
          150,
          150,
          150,
          150,
          150,
          150,
          120,
          120,
          120,
          120,
          120,
          120,
          120,
          120,
          120,
          120,
          120,
          120,
          120,
          120,
          120,
          120,
          120,
          120,
          120,
          120,
          120,
          120,
          120,
          120,
          120,
          120,
          120,
          120,
          120,
          120,
          120,
          120,
          120,
          120,
          120,
          120,
          120,
          120,
          120,
          120,
          120,
          120,
          120,
          120,
          120,
          120,
          120,
          120,
          120,
          120,
          120,
          120,
          120,
          120,
          120,
          120,
          120,
          120,
          120,
          120,
          80,
          80,
          80,
          80,
          80,
          80,
          80,
          80,
          80,
          80,
          80,
          80,
          80,
          80,
          80,
          80,
          80,
          80,
          80,
          80,
          80,
          80,
          80,
          80,
          80,
          80,
          80,
          80,
          80,
          80,
          80,
          80,
          80,
          80,
          80,
          80,
          80,
          80,
          80,
          80,
          80,
          80,
          80,
          80,
          80,
          80,
          80,
          80,
          80,
          80,
          80,
          80,
          80,
          80,
          80,
          80,
          80,
          80,
          80,
          80,
          70,
          70,
          70,
          70,
          70,
          70,
          70,
          70,
          70,
          70,
          70,
          70,
          70,
          70,
          70,
          70,
          70,
          70,
          70,
          70,
          70,
          70,
          70,
          70,
          70,
          70,
          70,
          70,
          70,
          70,
          70,
          70,
          70,
          70,
          70,
          70,
          70,
          70,
          70,
          70,
          70,
          70,
          70,
          70,
          70,
          70,
          70,
          70,
          70,
          70,
          70,
          70,
          70,
          70,
          70,
          70,
          70,
          70,
          70,
          70,
          80,
          80,
          80,
          80,
          80,
          80,
          80,
          80,
          80,
          80,
          80,
          80,
          80,
          80,
          80,
          80,
          80,
          80,
          80,
          80,
          80,
          80,
          80,
          80,
          80,
          80,
          80,
          80,
          80,
          80,
          80,
          80,
          80,
          80,
          80,
          80,
          80,
          80,
          80,
          80,
          80,
          80,
          80,
          80,
          80,
          80,
          80,
          80,
          80,
          80,
          80,
          80,
          80,
          80,
          80,
          80,
          80,
          80,
          80,
          80,
          90,
          90,
          90,
          90,
          90,
          90,
          90,
          90,
          90,
          90,
          90,
          90,
          90,
          90,
          90,
          90,
          90,
          90,
          90,
          90,
          90,
          90,
          90,
          90,
          90,
          90,
          90,
          90,
          90,
          90,
          90,
          90,
          90,
          90,
          90,
          90,
          90,
          90,
          90,
          90,
          90,
          90,
          90,
          90,
          90,
          90,
          90,
          90,
          90,
          90,
          90,
          90,
          90,
          90,
          90,
          90,
          90,
          90,
          90,
          90,
          160,
          160,
          160,
          160,
          160,
          160,
          160,
          160,
          160,
          160,
          160,
          160,
          160,
          160,
          160,
          160,
          160,
          160,
          160,
          160,
          160,
          160,
          160,
          160,
          160,
          160,
          160,
          160,
          160,
          160,
          160,
          160,
          160,
          160,
          160,
          160,
          160,
          160,
          160,
          160,
          160,
          160,
          160,
          160,
          160,
          160,
          160,
          160,
          160,
          160,
          160,
          160,
          160,
          160,
          160,
          160,
          160,
          160,
          160,
          160,
          170,
          170,
          170,
          170,
          170,
          170,
          170,
          170,
          170,
          170,
          170,
          170,
          170,
          170,
          170,
          170,
          170,
          170,
          170,
          170,
          170,
          170,
          170,
          170,
          170,
          170,
          170,
          170,
          170,
          170,
          170,
          170,
          170,
          170,
          170,
          170,
          170,
          170,
          170,
          170,
          170,
          170,
          170,
          170,
          170,
          170,
          170,
          170,
          170,
          170,
          170,
          170,
          170,
          170,
          170,
          170,
          170,
          170,
          170,
          170,
          150,
          150,
          150,
          150,
          150,
          150,
          150,
          150,
          150,
          150,
          150,
          150,
          150,
          150,
          150,
          150,
          150,
          150,
          150,
          150,
          150,
          150,
          150,
          150,
          150,
          150,
          150,
          150,
          150,
          150,
          150,
          150,
          150,
          150,
          150,
          150,
          150,
          150,
          150,
          150,
          150,
          150,
          150,
          150,
          150,
          150,
          150,
          150,
          150,
          150,
          150,
          150,
          150,
          150,
          150,
          150,
          150,
          150,
          150,
          150,
          120,
          120,
          120,
          120,
          120,
          120,
          120,
          120,
          120,
          120,
          120,
          120,
          120,
          120,
          120,
          120,
          120,
          120,
          120,
          120,
          120,
          120,
          120,
          120,
          120,
          120,
          120,
          120,
          120,
          120,
          120,
          120,
          120,
          120,
          120,
          120,
          120,
          120,
          120,
          120,
          120,
          120,
          120,
          120,
          120,
          120,
          120,
          120,
          120,
          120,
          120,
          120,
          120,
          120,
          120,
          120,
          120,
          120,
          120,
          120,
          100,
          100,
          100,
          100,
          100,
          100,
          100,
          100,
          100,
          100,
          100,
          100,
          100,
          100,
          100,
          100,
          100,
          100,
          100,
          100,
          100,
          100,
          100,
          100,
          100,
          100,
          100,
          100,
          100,
          100,
          100,
          100,
          100,
          100,
          100,
          100,
          100,
          100,
          100,
          100,
          100,
          100,
          100,
          100,
          100,
          100,
          100,
          100,
          100,
          100,
          100,
          100,
          100,
          100,
          100,
          100,
          100,
          100,
          100,
          100,
          70,
          70,
          70,
          70,
          70,
          70,
          70,
          70,
          70,
          70,
          70,
          70,
          70,
          70,
          70,
          70,
          70,
          70,
          70,
          70,
          70,
          70,
          70,
          70,
          70,
          70,
          70,
          70,
          70,
          70,
          70,
          70,
          70,
          70,
          70,
          70,
          70,
          70,
          70,
          70,
          70,
          70,
          70,
          70,
          70,
          70,
          70,
          70,
          70,
          70,
          70,
          70,
          70,
          70,
          70,
          70,
          70,
          70,
          70,
          70,
          60,
          60,
          60,
          60,
          60,
          60,
          60,
          60,
          60,
          60,
          60,
          60,
          60,
          60,
          60,
          60,
          60,
          60,
          60,
          60,
          60,
          60,
          60,
          60,
          60,
          60,
          60,
          60,
          60,
          60,
          60,
          60,
          60,
          60,
          60,
          60,
          60,
          60,
          60,
          60,
          60,
          60,
          60,
          60,
          60,
          60,
          60,
          60,
          60,
          60,
          60,
          60,
          60,
          60,
          60,
          60,
          60,
          60,
          60,
          60,
          50,
          50,
          50,
          50,
          50,
          50,
          50,
          50,
          50,
          50,
          50,
          50,
          50,
          50,
          50,
          50,
          50,
          50,
          50,
          50,
          50,
          50,
          50,
          50,
          50,
          50,
          50,
          50,
          50,
          50,
          50,
          50,
          50,
          50,
          50,
          50,
          50,
          50,
          50,
          50,
          50,
          50,
          50,
          50,
          50,
          50,
          50,
          50,
          50,
          50,
          50,
          50,
          50,
          50,
          50,
          50,
          50,
          50,
          50,
          50,
          40
         ],
         "yaxis": "y"
        }
       ],
       "layout": {
        "legend": {
         "tracegroupgap": 0
        },
        "template": {
         "data": {
          "bar": [
           {
            "error_x": {
             "color": "#2a3f5f"
            },
            "error_y": {
             "color": "#2a3f5f"
            },
            "marker": {
             "line": {
              "color": "#E5ECF6",
              "width": 0.5
             },
             "pattern": {
              "fillmode": "overlay",
              "size": 10,
              "solidity": 0.2
             }
            },
            "type": "bar"
           }
          ],
          "barpolar": [
           {
            "marker": {
             "line": {
              "color": "#E5ECF6",
              "width": 0.5
             },
             "pattern": {
              "fillmode": "overlay",
              "size": 10,
              "solidity": 0.2
             }
            },
            "type": "barpolar"
           }
          ],
          "carpet": [
           {
            "aaxis": {
             "endlinecolor": "#2a3f5f",
             "gridcolor": "white",
             "linecolor": "white",
             "minorgridcolor": "white",
             "startlinecolor": "#2a3f5f"
            },
            "baxis": {
             "endlinecolor": "#2a3f5f",
             "gridcolor": "white",
             "linecolor": "white",
             "minorgridcolor": "white",
             "startlinecolor": "#2a3f5f"
            },
            "type": "carpet"
           }
          ],
          "choropleth": [
           {
            "colorbar": {
             "outlinewidth": 0,
             "ticks": ""
            },
            "type": "choropleth"
           }
          ],
          "contour": [
           {
            "colorbar": {
             "outlinewidth": 0,
             "ticks": ""
            },
            "colorscale": [
             [
              0,
              "#0d0887"
             ],
             [
              0.1111111111111111,
              "#46039f"
             ],
             [
              0.2222222222222222,
              "#7201a8"
             ],
             [
              0.3333333333333333,
              "#9c179e"
             ],
             [
              0.4444444444444444,
              "#bd3786"
             ],
             [
              0.5555555555555556,
              "#d8576b"
             ],
             [
              0.6666666666666666,
              "#ed7953"
             ],
             [
              0.7777777777777778,
              "#fb9f3a"
             ],
             [
              0.8888888888888888,
              "#fdca26"
             ],
             [
              1,
              "#f0f921"
             ]
            ],
            "type": "contour"
           }
          ],
          "contourcarpet": [
           {
            "colorbar": {
             "outlinewidth": 0,
             "ticks": ""
            },
            "type": "contourcarpet"
           }
          ],
          "heatmap": [
           {
            "colorbar": {
             "outlinewidth": 0,
             "ticks": ""
            },
            "colorscale": [
             [
              0,
              "#0d0887"
             ],
             [
              0.1111111111111111,
              "#46039f"
             ],
             [
              0.2222222222222222,
              "#7201a8"
             ],
             [
              0.3333333333333333,
              "#9c179e"
             ],
             [
              0.4444444444444444,
              "#bd3786"
             ],
             [
              0.5555555555555556,
              "#d8576b"
             ],
             [
              0.6666666666666666,
              "#ed7953"
             ],
             [
              0.7777777777777778,
              "#fb9f3a"
             ],
             [
              0.8888888888888888,
              "#fdca26"
             ],
             [
              1,
              "#f0f921"
             ]
            ],
            "type": "heatmap"
           }
          ],
          "heatmapgl": [
           {
            "colorbar": {
             "outlinewidth": 0,
             "ticks": ""
            },
            "colorscale": [
             [
              0,
              "#0d0887"
             ],
             [
              0.1111111111111111,
              "#46039f"
             ],
             [
              0.2222222222222222,
              "#7201a8"
             ],
             [
              0.3333333333333333,
              "#9c179e"
             ],
             [
              0.4444444444444444,
              "#bd3786"
             ],
             [
              0.5555555555555556,
              "#d8576b"
             ],
             [
              0.6666666666666666,
              "#ed7953"
             ],
             [
              0.7777777777777778,
              "#fb9f3a"
             ],
             [
              0.8888888888888888,
              "#fdca26"
             ],
             [
              1,
              "#f0f921"
             ]
            ],
            "type": "heatmapgl"
           }
          ],
          "histogram": [
           {
            "marker": {
             "pattern": {
              "fillmode": "overlay",
              "size": 10,
              "solidity": 0.2
             }
            },
            "type": "histogram"
           }
          ],
          "histogram2d": [
           {
            "colorbar": {
             "outlinewidth": 0,
             "ticks": ""
            },
            "colorscale": [
             [
              0,
              "#0d0887"
             ],
             [
              0.1111111111111111,
              "#46039f"
             ],
             [
              0.2222222222222222,
              "#7201a8"
             ],
             [
              0.3333333333333333,
              "#9c179e"
             ],
             [
              0.4444444444444444,
              "#bd3786"
             ],
             [
              0.5555555555555556,
              "#d8576b"
             ],
             [
              0.6666666666666666,
              "#ed7953"
             ],
             [
              0.7777777777777778,
              "#fb9f3a"
             ],
             [
              0.8888888888888888,
              "#fdca26"
             ],
             [
              1,
              "#f0f921"
             ]
            ],
            "type": "histogram2d"
           }
          ],
          "histogram2dcontour": [
           {
            "colorbar": {
             "outlinewidth": 0,
             "ticks": ""
            },
            "colorscale": [
             [
              0,
              "#0d0887"
             ],
             [
              0.1111111111111111,
              "#46039f"
             ],
             [
              0.2222222222222222,
              "#7201a8"
             ],
             [
              0.3333333333333333,
              "#9c179e"
             ],
             [
              0.4444444444444444,
              "#bd3786"
             ],
             [
              0.5555555555555556,
              "#d8576b"
             ],
             [
              0.6666666666666666,
              "#ed7953"
             ],
             [
              0.7777777777777778,
              "#fb9f3a"
             ],
             [
              0.8888888888888888,
              "#fdca26"
             ],
             [
              1,
              "#f0f921"
             ]
            ],
            "type": "histogram2dcontour"
           }
          ],
          "mesh3d": [
           {
            "colorbar": {
             "outlinewidth": 0,
             "ticks": ""
            },
            "type": "mesh3d"
           }
          ],
          "parcoords": [
           {
            "line": {
             "colorbar": {
              "outlinewidth": 0,
              "ticks": ""
             }
            },
            "type": "parcoords"
           }
          ],
          "pie": [
           {
            "automargin": true,
            "type": "pie"
           }
          ],
          "scatter": [
           {
            "marker": {
             "colorbar": {
              "outlinewidth": 0,
              "ticks": ""
             }
            },
            "type": "scatter"
           }
          ],
          "scatter3d": [
           {
            "line": {
             "colorbar": {
              "outlinewidth": 0,
              "ticks": ""
             }
            },
            "marker": {
             "colorbar": {
              "outlinewidth": 0,
              "ticks": ""
             }
            },
            "type": "scatter3d"
           }
          ],
          "scattercarpet": [
           {
            "marker": {
             "colorbar": {
              "outlinewidth": 0,
              "ticks": ""
             }
            },
            "type": "scattercarpet"
           }
          ],
          "scattergeo": [
           {
            "marker": {
             "colorbar": {
              "outlinewidth": 0,
              "ticks": ""
             }
            },
            "type": "scattergeo"
           }
          ],
          "scattergl": [
           {
            "marker": {
             "colorbar": {
              "outlinewidth": 0,
              "ticks": ""
             }
            },
            "type": "scattergl"
           }
          ],
          "scattermapbox": [
           {
            "marker": {
             "colorbar": {
              "outlinewidth": 0,
              "ticks": ""
             }
            },
            "type": "scattermapbox"
           }
          ],
          "scatterpolar": [
           {
            "marker": {
             "colorbar": {
              "outlinewidth": 0,
              "ticks": ""
             }
            },
            "type": "scatterpolar"
           }
          ],
          "scatterpolargl": [
           {
            "marker": {
             "colorbar": {
              "outlinewidth": 0,
              "ticks": ""
             }
            },
            "type": "scatterpolargl"
           }
          ],
          "scatterternary": [
           {
            "marker": {
             "colorbar": {
              "outlinewidth": 0,
              "ticks": ""
             }
            },
            "type": "scatterternary"
           }
          ],
          "surface": [
           {
            "colorbar": {
             "outlinewidth": 0,
             "ticks": ""
            },
            "colorscale": [
             [
              0,
              "#0d0887"
             ],
             [
              0.1111111111111111,
              "#46039f"
             ],
             [
              0.2222222222222222,
              "#7201a8"
             ],
             [
              0.3333333333333333,
              "#9c179e"
             ],
             [
              0.4444444444444444,
              "#bd3786"
             ],
             [
              0.5555555555555556,
              "#d8576b"
             ],
             [
              0.6666666666666666,
              "#ed7953"
             ],
             [
              0.7777777777777778,
              "#fb9f3a"
             ],
             [
              0.8888888888888888,
              "#fdca26"
             ],
             [
              1,
              "#f0f921"
             ]
            ],
            "type": "surface"
           }
          ],
          "table": [
           {
            "cells": {
             "fill": {
              "color": "#EBF0F8"
             },
             "line": {
              "color": "white"
             }
            },
            "header": {
             "fill": {
              "color": "#C8D4E3"
             },
             "line": {
              "color": "white"
             }
            },
            "type": "table"
           }
          ]
         },
         "layout": {
          "annotationdefaults": {
           "arrowcolor": "#2a3f5f",
           "arrowhead": 0,
           "arrowwidth": 1
          },
          "autotypenumbers": "strict",
          "coloraxis": {
           "colorbar": {
            "outlinewidth": 0,
            "ticks": ""
           }
          },
          "colorscale": {
           "diverging": [
            [
             0,
             "#8e0152"
            ],
            [
             0.1,
             "#c51b7d"
            ],
            [
             0.2,
             "#de77ae"
            ],
            [
             0.3,
             "#f1b6da"
            ],
            [
             0.4,
             "#fde0ef"
            ],
            [
             0.5,
             "#f7f7f7"
            ],
            [
             0.6,
             "#e6f5d0"
            ],
            [
             0.7,
             "#b8e186"
            ],
            [
             0.8,
             "#7fbc41"
            ],
            [
             0.9,
             "#4d9221"
            ],
            [
             1,
             "#276419"
            ]
           ],
           "sequential": [
            [
             0,
             "#0d0887"
            ],
            [
             0.1111111111111111,
             "#46039f"
            ],
            [
             0.2222222222222222,
             "#7201a8"
            ],
            [
             0.3333333333333333,
             "#9c179e"
            ],
            [
             0.4444444444444444,
             "#bd3786"
            ],
            [
             0.5555555555555556,
             "#d8576b"
            ],
            [
             0.6666666666666666,
             "#ed7953"
            ],
            [
             0.7777777777777778,
             "#fb9f3a"
            ],
            [
             0.8888888888888888,
             "#fdca26"
            ],
            [
             1,
             "#f0f921"
            ]
           ],
           "sequentialminus": [
            [
             0,
             "#0d0887"
            ],
            [
             0.1111111111111111,
             "#46039f"
            ],
            [
             0.2222222222222222,
             "#7201a8"
            ],
            [
             0.3333333333333333,
             "#9c179e"
            ],
            [
             0.4444444444444444,
             "#bd3786"
            ],
            [
             0.5555555555555556,
             "#d8576b"
            ],
            [
             0.6666666666666666,
             "#ed7953"
            ],
            [
             0.7777777777777778,
             "#fb9f3a"
            ],
            [
             0.8888888888888888,
             "#fdca26"
            ],
            [
             1,
             "#f0f921"
            ]
           ]
          },
          "colorway": [
           "#636efa",
           "#EF553B",
           "#00cc96",
           "#ab63fa",
           "#FFA15A",
           "#19d3f3",
           "#FF6692",
           "#B6E880",
           "#FF97FF",
           "#FECB52"
          ],
          "font": {
           "color": "#2a3f5f"
          },
          "geo": {
           "bgcolor": "white",
           "lakecolor": "white",
           "landcolor": "#E5ECF6",
           "showlakes": true,
           "showland": true,
           "subunitcolor": "white"
          },
          "hoverlabel": {
           "align": "left"
          },
          "hovermode": "closest",
          "mapbox": {
           "style": "light"
          },
          "paper_bgcolor": "white",
          "plot_bgcolor": "#E5ECF6",
          "polar": {
           "angularaxis": {
            "gridcolor": "white",
            "linecolor": "white",
            "ticks": ""
           },
           "bgcolor": "#E5ECF6",
           "radialaxis": {
            "gridcolor": "white",
            "linecolor": "white",
            "ticks": ""
           }
          },
          "scene": {
           "xaxis": {
            "backgroundcolor": "#E5ECF6",
            "gridcolor": "white",
            "gridwidth": 2,
            "linecolor": "white",
            "showbackground": true,
            "ticks": "",
            "zerolinecolor": "white"
           },
           "yaxis": {
            "backgroundcolor": "#E5ECF6",
            "gridcolor": "white",
            "gridwidth": 2,
            "linecolor": "white",
            "showbackground": true,
            "ticks": "",
            "zerolinecolor": "white"
           },
           "zaxis": {
            "backgroundcolor": "#E5ECF6",
            "gridcolor": "white",
            "gridwidth": 2,
            "linecolor": "white",
            "showbackground": true,
            "ticks": "",
            "zerolinecolor": "white"
           }
          },
          "shapedefaults": {
           "line": {
            "color": "#2a3f5f"
           }
          },
          "ternary": {
           "aaxis": {
            "gridcolor": "white",
            "linecolor": "white",
            "ticks": ""
           },
           "baxis": {
            "gridcolor": "white",
            "linecolor": "white",
            "ticks": ""
           },
           "bgcolor": "#E5ECF6",
           "caxis": {
            "gridcolor": "white",
            "linecolor": "white",
            "ticks": ""
           }
          },
          "title": {
           "x": 0.05
          },
          "xaxis": {
           "automargin": true,
           "gridcolor": "white",
           "linecolor": "white",
           "ticks": "",
           "title": {
            "standoff": 15
           },
           "zerolinecolor": "white",
           "zerolinewidth": 2
          },
          "yaxis": {
           "automargin": true,
           "gridcolor": "white",
           "linecolor": "white",
           "ticks": "",
           "title": {
            "standoff": 15
           },
           "zerolinecolor": "white",
           "zerolinewidth": 2
          }
         }
        },
        "title": {
         "text": "Load demand"
        },
        "xaxis": {
         "anchor": "y",
         "domain": [
          0,
          1
         ],
         "title": {
          "text": "Time"
         }
        },
        "yaxis": {
         "anchor": "x",
         "domain": [
          0,
          1
         ],
         "title": {
          "text": "Load demand (MW)"
         }
        }
       }
      }
     },
     "metadata": {},
     "output_type": "display_data"
    }
   ],
   "source": [
    "# Alternatively, can also run the code directly from the imported functions:\n",
    "input_data_PV = read_excel_data('data/PV_spec.xlsx')\n",
    "input_data_Irr = read_irr_data('data/Data_solar_irr_NOR.csv')\n",
    "input_data_market = read_csv_data('data/Market_price.csv')\n",
    "\n",
    "# Calculate PV power production \n",
    "PV_power = pv_power_estimated(input_data_PV,input_data_Irr)\n",
    "\n",
    "# Generate a plot of the irradiance and PV production data (data, time resolution, color)\n",
    "\n",
    "start = '2018-05-28 00:00:00'\n",
    "end = '2018-05-28 23:00:00'\n",
    "date_range = pd.date_range(start=start, end=end, freq='H')\n",
    "\n",
    "#Fixing load for one day:\n",
    "load_values = [30, 20, 20, 30, 50, 80, 50, 90, 110, 150, 120, 80, 70, 80, 90, 160, 170, 150, 120, 100, 70, 60, 50, 40]\n",
    "date_range = pd.date_range(start=start, periods=len(load_values), freq='1H')\n",
    "load = pd.DataFrame({'Date': date_range, 'Load': load_values})\n",
    "load.set_index('Date', inplace=True)\n",
    "\n",
    "#Plotting results\n",
    "plot_irr(input_data_Irr, 'H', 'purple', start, end)\n",
    "plot_PVcalc(PV_power, 'H', 'orange', start, end)\n",
    "plot_market(input_data_market, 'H', 'green', start, end)\n",
    "plot_load(load, 'H', 'black', start, end)"
   ]
  },
  {
   "cell_type": "markdown",
   "metadata": {},
   "source": [
    "### Finding four solar scenarios"
   ]
  },
  {
   "cell_type": "code",
   "execution_count": 3,
   "metadata": {},
   "outputs": [
    {
     "data": {
      "text/plain": [
       "PV_power    35.335041\n",
       "dtype: float64"
      ]
     },
     "metadata": {},
     "output_type": "display_data"
    },
    {
     "data": {
      "text/plain": [
       "PV_power    0.0\n",
       "dtype: float64"
      ]
     },
     "metadata": {},
     "output_type": "display_data"
    },
    {
     "name": "stdout",
     "output_type": "stream",
     "text": [
      "Day of Maximum value: PV_power   2006-05-28\n",
      "dtype: datetime64[ns]\n",
      "Day of Minimum value: PV_power   2008-01-23\n",
      "dtype: datetime64[ns]\n"
     ]
    }
   ],
   "source": [
    "#Resample solar values to daily:\n",
    "PV_daily = PV_power.resample('D').sum()\n",
    "\n",
    "display(PV_daily.max())\n",
    "display(PV_daily.min())\n",
    "\n",
    "index_max = PV_daily.idxmax()\n",
    "index_min = PV_daily.idxmin()\n",
    "\n",
    "print(\"Day of Maximum value:\", index_max) # Best case scenario: 1265.2 kWh produced\n",
    "print(\"Day of Minimum value:\", index_min) # Worst case scenario: no production"
   ]
  },
  {
   "cell_type": "markdown",
   "metadata": {},
   "source": [
    "## Work space"
   ]
  },
  {
   "cell_type": "code",
   "execution_count": 11,
   "metadata": {},
   "outputs": [
    {
     "name": "stdout",
     "output_type": "stream",
     "text": [
      "{1: 25.181576784, 2: 175.699244448, 3: 521.1760095359999, 4: 629.877227616, 5: 755.740020672, 6: 502.004176128, 7: 679.352008608, 8: 394.02244627199997, 9: 281.187256896, 10: 160.014542688, 11: 40.104215423999996, 12: 4.6508847840000005}\n",
      "{1: 24026.88, 2: 26433.33, 3: 33393.25, 4: 28184.5, 5: 25274.35, 6: 32542.2, 7: 38848.71, 8: 38265.26, 9: 35109.47, 10: 31944.84, 11: 34100.25, 12: 38047.88}\n"
     ]
    }
   ],
   "source": [
    "#Testing convert_to_dict\n",
    "start = '2018-01-01 00:00:00'\n",
    "end = '2018-12-31 23:00:00'\n",
    "\n",
<<<<<<< HEAD
    "# Sample DataFrame\n",
    "data = {'A': [1, 2, 3], 'B': [4, 5, 6]}\n",
    "df = pd.DataFrame(data)\n",
    "\n",
    "# Create an empty dictionary\n",
    "dictionary = {}\n",
    "\n",
    "# Loop through the DataFrame indices and values\n",
    "for index, row in df.iterrows():\n",
    "    dictionary[index] = row.to_dict()\n",
    "\n",
    "print(dictionary)"
   ]
  },
  {
   "cell_type": "code",
   "execution_count": null,
   "metadata": {},
   "outputs": [],
   "source": []
  },
  {
   "cell_type": "markdown",
   "metadata": {},
   "source": [
    "- Oscar"
   ]
  },
  {
   "cell_type": "code",
   "execution_count": 5,
   "metadata": {},
   "outputs": [
    {
     "name": "stdout",
     "output_type": "stream",
     "text": [
      "{1: 27.96, 2: 27.76, 3: 27.4, 4: 27.54, 5: 27.88, 6: 28.7, 7: 31.09, 8: 32.45, 9: 33.42, 10: 32.83, 11: 32.93, 12: 32.43, 13: 32.33, 14: 32.19, 15: 32.16, 16: 32.37, 17: 32.86, 18: 43.64, 19: 42.36, 20: 36.5, 21: 33.17, 22: 32.37, 23: 31.12, 24: 30.11}\n"
     ]
    }
   ],
   "source": [
    "input_data_market = read_csv_data('data/Market_price.csv')\n",
    "input_data_PV = read_excel_data('data/PV_spec.xlsx')\n",
    "input_data_Irr = read_irr_data('data/Data_solar_irr_NOR.csv')\n",
    "PV_power = pv_power_estimated(input_data_PV,input_data_Irr)\n",
    "\n",
    "test=convert_to_dict(input_data_market, '2018-01-30', '2018-01-30')\n",
    "test2=convert_to_dict(PV_power, '2018-05-28', '2018-05-28')\n",
    "mean=average_value(test)\n",
    "print(test)"
=======
    "#Remember, the values are aggregated when the time resolution is changed\n",
    "print(convert_to_dict(PV_power,start,end,'M'))\n",
    "print(convert_to_dict(input_data_market,start,end,'M'))"
>>>>>>> 61c657bdd81f2ddd6b668d1d72b4c1ab5600431d
   ]
  },
  {
   "cell_type": "code",
   "execution_count": null,
   "metadata": {},
   "outputs": [],
   "source": []
  }
 ],
 "metadata": {
  "kernelspec": {
   "display_name": "base",
   "language": "python",
   "name": "python3"
  },
  "language_info": {
   "codemirror_mode": {
    "name": "ipython",
    "version": 3
   },
   "file_extension": ".py",
   "mimetype": "text/x-python",
   "name": "python",
   "nbconvert_exporter": "python",
   "pygments_lexer": "ipython3",
   "version": "3.9.12"
  },
  "orig_nbformat": 4
 },
 "nbformat": 4,
 "nbformat_minor": 2
}
