{
 "cells": [
  {
   "cell_type": "markdown",
   "metadata": {},
   "source": [
    "# Assignment 2, TET4565 \n"
   ]
  },
  {
   "cell_type": "markdown",
   "metadata": {},
   "source": [
    "## Dependencies / imports\n"
   ]
  },
  {
   "cell_type": "code",
   "execution_count": null,
   "metadata": {},
   "outputs": [],
   "source": [
    "import pyomo.environ as pyo\n",
    "import numpy as np\n",
    "from pyomo.environ import ConcreteModel,Set,RangeSet,Param,Suffix,Reals,NonNegativeReals,NonPositiveReals,Binary,Objective,minimize,maximize,value\n",
    "from pyomo.core import Constraint,Var,Block,ConstraintList\n",
    "from pyomo.opt import SolverFactory, SolverStatus, TerminationCondition\n",
    "import matplotlib.pyplot as plt\n",
    "from calculations.datahandling import*\n",
    "from calculations.data_processor import* \n",
    "from Optimization_modelling.generalized_two_stage_final import*\n"
   ]
  },
  {
   "cell_type": "markdown",
   "metadata": {},
   "source": [
    "## Code for data processing "
   ]
  },
  {
   "cell_type": "code",
   "execution_count": null,
   "metadata": {},
   "outputs": [],
   "source": [
    "#Read of parameters for portfolio\n",
    "data=InputData('data/Parameters.xlsx')\n",
    "\n",
    "#Start and end dates of the optimization\n",
    "start_date='2018-05-28 13:00'\n",
    "end_date='2018-05-28 13:00'\n",
    "\n",
    "#Original forecast for solar power production\n",
    "Solar_p=read_solar_data('data/Data_solar_irr_NOR.csv', 'data/PV_spec.xlsx', start_date, end_date)\n",
    "\n",
    "#Scenarios for solar forecast \n",
    "S_high=scale_dict(Solar_p, 1.5)\n",
    "S_avg=scale_dict(Solar_p, 1)\n",
    "S_low=scale_dict(Solar_p, 0.5)\n",
    "#Load \n",
    "#L= {1:30, 2:20, 3:20, 4:30, 5:50, 6:80, 7:50, 8:90, 9:110, 10:150, 11:120, 12:80, 13:70, 14:80, 15:90, 16:160, 17:170, 18:150, 19:120, 20:100, 21:70, 22:60, 23:50, 24:40}\n"
   ]
  },
  {
   "cell_type": "markdown",
   "metadata": {},
   "source": [
    "## Code for defining necessary functions "
   ]
  },
  {
   "cell_type": "markdown",
   "metadata": {},
   "source": [
    "## Variant 1 (Expected value of all scenarios/ base case)"
   ]
  },
  {
   "cell_type": "code",
   "execution_count": null,
   "metadata": {},
   "outputs": [],
   "source": [
    "Constants1= {\n",
    "    'Load_penalty':200, \n",
    "    'Hydro_cap':90,\n",
    "    'Load':150,\n",
    "    'Market': 60,\n",
    "    'Scenarios':['S_high', 'S_avg', 'S_low'], \n",
    "    'probs':{'S_high':0, 'S_avg':1, 'S_low':0},\n",
    "    'yi_s1':{'S_high':25, 'S_avg':25, 'S_low':25}, \n",
    "    'yi_s2':{'S_high':35, 'S_avg':35, 'S_low':35}        \n",
    "}\n",
    "m_base=model_setup(Constants1, data)\n",
    "solve(m_base)\n",
    "displayresults(m_base)\n",
    "plotting(m_base)"
   ]
  },
  {
   "cell_type": "markdown",
   "metadata": {},
   "source": [
    "## Variant 2 (Each scenario individually)"
   ]
  },
  {
   "cell_type": "code",
   "execution_count": null,
   "metadata": {},
   "outputs": [],
   "source": [
    "Constants2_1= {\n",
    "    'Load_penalty':200, \n",
    "    'Hydro_cap':90,\n",
    "    'Load':150,\n",
    "    'Market': 60,\n",
    "    'Scenarios':['S_high', 'S_avg', 'S_low'], \n",
    "    'probs':{'S_high':1, 'S_avg':0, 'S_low':0},\n",
    "    'yi_s1':{'S_high':25, 'S_avg':25, 'S_low':25}, \n",
    "    'yi_s2':{'S_high':35, 'S_avg':35, 'S_low':35}        \n",
    "}\n",
    "m_high=model_setup(Constants2_1, data)\n",
    "solve(m_high)\n",
    "displayresults(m_high)\n",
    "plotting(m_high)"
   ]
  },
  {
   "cell_type": "code",
   "execution_count": null,
   "metadata": {},
   "outputs": [],
   "source": [
    "Constants2_2= {\n",
    "    'Load_penalty':200, \n",
    "    'Hydro_cap':90,\n",
    "    'Load':150,\n",
    "    'Market': 60,\n",
    "    'Scenarios':['S_high', 'S_avg', 'S_low'], \n",
    "    'probs':{'S_high':0, 'S_avg':1, 'S_low':0},\n",
    "    'yi_s1':{'S_high':25, 'S_avg':25, 'S_low':25}, \n",
    "    'yi_s2':{'S_high':35, 'S_avg':35, 'S_low':35}       \n",
    "}\n",
    "m_avg=model_setup(Constants2_2, data)\n",
    "solve(m_avg)\n",
    "displayresults(m_avg)\n",
    "plotting(m_avg)"
   ]
  },
  {
   "cell_type": "code",
   "execution_count": null,
   "metadata": {},
   "outputs": [],
   "source": [
    "Constants2_3= {\n",
    "    'Load_penalty':200, \n",
    "    'Hydro_cap':90,\n",
    "    'Load':150,\n",
    "    'Market': 60,\n",
    "    'Scenarios':['S_high', 'S_avg', 'S_low'], \n",
    "    'probs':{'S_high':0, 'S_avg':0, 'S_low':1},\n",
    "    'yi_s1':{'S_high':25, 'S_avg':25, 'S_low':25}, \n",
    "    'yi_s2':{'S_high':35, 'S_avg':35, 'S_low':35}       \n",
    "}\n",
    "m_low=model_setup(Constants2_3, data)\n",
    "solve(m_low)\n",
    "displayresults(m_low)\n",
    "plotting(m_low)"
   ]
  },
  {
   "cell_type": "markdown",
   "metadata": {},
   "source": [
    "## Variant 3 (Stochastic optimization problem w/ non-anticipativity)"
   ]
  },
  {
   "cell_type": "code",
   "execution_count": null,
   "metadata": {},
   "outputs": [],
   "source": [
    "Constants2_3= {\n",
    "    'Load_penalty':200, \n",
    "    'Hydro_cap':90,\n",
    "    'Load':150,\n",
    "    'Market': 60,\n",
    "    'Scenarios':['S_high', 'S_avg', 'S_low'], \n",
    "    'probs':{'S_high':1/3, 'S_avg':1/3, 'S_low':1/3}, \n",
    "    'yi_s1':{'S_high':25, 'S_avg':25, 'S_low':25}, \n",
    "    'yi_s2':{'S_high':35, 'S_avg':35, 'S_low':35}        \n",
    "}\n",
    "m_stoch=model_setup(Constants2_3, data)\n",
    "solve(m_stoch)\n",
    "displayresults(m_stoch)\n",
    "plotting(m_stoch)"
   ]
  },
  {
   "cell_type": "code",
   "execution_count": null,
   "metadata": {},
   "outputs": [],
   "source": []
  }
 ],
 "metadata": {
  "kernelspec": {
   "display_name": "Python 3 (ipykernel)",
   "language": "python",
   "name": "python3"
  },
  "language_info": {
   "codemirror_mode": {
    "name": "ipython",
    "version": 3
   },
   "file_extension": ".py",
   "mimetype": "text/x-python",
   "name": "python",
   "nbconvert_exporter": "python",
   "pygments_lexer": "ipython3",
   "version": "3.11.4"
  }
 },
 "nbformat": 4,
 "nbformat_minor": 2
}
